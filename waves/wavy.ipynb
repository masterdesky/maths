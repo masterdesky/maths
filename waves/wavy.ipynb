{
 "cells": [
  {
   "cell_type": "markdown",
   "id": "97ea0967-4b2d-4727-8ce9-290790e3ca39",
   "metadata": {},
   "source": [
    "# Playing with wawy things"
   ]
  },
  {
   "cell_type": "code",
   "execution_count": null,
   "id": "c657bcfe-8eae-4447-8278-6d7bf2203dbb",
   "metadata": {},
   "outputs": [],
   "source": [
    "import numpy as np\n",
    "from scipy.interpolate import griddata\n",
    "\n",
    "import matplotlib.cm as cm\n",
    "import matplotlib.pyplot as plt\n",
    "import matplotlib.animation as animation"
   ]
  },
  {
   "cell_type": "code",
   "execution_count": null,
   "id": "e25c32a0-69ac-4d16-962c-d32b57faecef",
   "metadata": {},
   "outputs": [],
   "source": [
    "D = (6, 6)"
   ]
  },
  {
   "cell_type": "markdown",
   "id": "f6419e95-3229-40af-bf94-b20ffa684a9b",
   "metadata": {},
   "source": [
    "## Geneating grid for the simulation"
   ]
  },
  {
   "cell_type": "code",
   "execution_count": null,
   "id": "ee360742-6dcb-4b70-931c-af9b1d59c9e4",
   "metadata": {},
   "outputs": [],
   "source": [
    "res = 20\n",
    "xi = np.linspace(0, D[0], D[0]*res)\n",
    "yi = np.linspace(0, D[1], D[1]*res)\n",
    "X, Y = np.meshgrid(xi, yi)\n",
    "coords = np.vstack((X.flatten(), Y.flatten())).T"
   ]
  },
  {
   "cell_type": "code",
   "execution_count": null,
   "id": "e97ab14d-a474-47e0-bc72-8b9b916eb93d",
   "metadata": {},
   "outputs": [],
   "source": [
    "nr, nc = 1, 2\n",
    "fig, axes = plt.subplots(nr, nc, figsize=(nr*D[0], nc*D[1]), dpi=120,\n",
    "                         facecolor='black')\n",
    "axes = axes.flatten()\n",
    "\n",
    "for ax, C in zip(axes, [X, Y]):\n",
    "    ax.axis('off')\n",
    "    ax.imshow(C)\n",
    "\n",
    "plt.show()"
   ]
  },
  {
   "cell_type": "markdown",
   "id": "ac6ab43d-7a1f-4355-bad8-6961e89aad10",
   "metadata": {},
   "source": [
    "## Field of random particles"
   ]
  },
  {
   "cell_type": "code",
   "execution_count": null,
   "id": "196ed658-5e5b-4fac-9ca6-90e08b478dc3",
   "metadata": {},
   "outputs": [],
   "source": [
    "N = 20000\n",
    "x = np.random.uniform(X.min(), X.max(), size=N)\n",
    "y = np.random.uniform(Y.min(), Y.max(), size=N)\n",
    "points = np.vstack((x.flatten(), y.flatten())).T"
   ]
  },
  {
   "cell_type": "code",
   "execution_count": null,
   "id": "96c269e6-4a6b-45f6-ac4a-716d796f3190",
   "metadata": {},
   "outputs": [],
   "source": [
    "fig, ax = plt.subplots(figsize=D, dpi=120, facecolor='black')\n",
    "ax.set_aspect('equal')\n",
    "ax.axis('off')\n",
    "\n",
    "ax.scatter(*points.T, color='white', marker='o', fc='none', s=10)\n",
    "\n",
    "plt.show()"
   ]
  },
  {
   "cell_type": "markdown",
   "id": "f2cfe15e-077e-4e12-b36e-4e44eadfc0a0",
   "metadata": {},
   "source": [
    "## Generating 2D waves"
   ]
  },
  {
   "cell_type": "markdown",
   "id": "03dc3caf-aca5-4f3b-9614-9eb6bc22634c",
   "metadata": {},
   "source": [
    "### Basic generation"
   ]
  },
  {
   "cell_type": "code",
   "execution_count": null,
   "id": "846af489-568a-46d9-a55b-52a995704031",
   "metadata": {},
   "outputs": [],
   "source": [
    "A = 1.0\n",
    "c = 1.0"
   ]
  },
  {
   "cell_type": "code",
   "execution_count": null,
   "id": "94690cd7-032e-4b41-84b9-e1a77bd50635",
   "metadata": {},
   "outputs": [],
   "source": [
    "def wave(t, X, Y, x0, y0, A, c, noise=True):\n",
    "    r = np.sqrt((X-x0)**2 + (Y-y0)**2)\n",
    "    wave = A * np.heaviside(t - r/c, 1) * np.cos(2*np.pi*(t - r/c))\n",
    "    if noise:\n",
    "        wave += np.random.normal(0, A/8, X.shape)\n",
    "    return wave"
   ]
  },
  {
   "cell_type": "code",
   "execution_count": null,
   "id": "566cba72-4e92-4b14-9b56-91e5c66382c5",
   "metadata": {},
   "outputs": [],
   "source": [
    "fig, ax = plt.subplots(figsize=D, dpi=120, facecolor='black')\n",
    "ax.set_aspect('equal')\n",
    "ax.axis('off')\n",
    "\n",
    "Z = wave(t=10, X=X, Y=Y, x0=2, y0=1, A=1.0, c=2.5)\n",
    "ax.contourf(X, Y, Z, levels=np.linspace(np.min(Z), np.max(Z), 50), cmap='RdBu')\n",
    "\n",
    "plt.show()"
   ]
  },
  {
   "cell_type": "markdown",
   "id": "ac23c568-9ec8-4b56-9bca-e79370c9f278",
   "metadata": {},
   "source": [
    "### Interference of waves from symmetrically placed point sources"
   ]
  },
  {
   "cell_type": "code",
   "execution_count": null,
   "id": "40b312f3-0f86-4df3-b39a-6c0092c3200f",
   "metadata": {},
   "outputs": [],
   "source": [
    "a = 6\n",
    "l = 3\n",
    "xy1 = (a/2, a/2 + l)\n",
    "xy2 = (a/2 - l*np.sqrt(3)/2, a/2 - l/2)\n",
    "xy3 = (a/2 + l*np.sqrt(3)/2, a/2 - l/2)"
   ]
  },
  {
   "cell_type": "code",
   "execution_count": null,
   "id": "38caff3f-b791-4f09-8b9b-080160181368",
   "metadata": {},
   "outputs": [],
   "source": [
    "def polygon_vertices(a: float, l: float, n: int):\n",
    "    '''\n",
    "    Calculate the vertices of a regular polygon inscribed in a square.\n",
    "\n",
    "    Parameters:\n",
    "    a : float\n",
    "        The side length of the square.\n",
    "    l : float\n",
    "        The distance from the center of the square to the top vertex of the polygon.\n",
    "    n : int\n",
    "        The number of sides of the polygon.\n",
    "\n",
    "    Returns:\n",
    "    vertices : list\n",
    "        The coordinates of the vertices.\n",
    "    '''\n",
    "    if n < 2:\n",
    "        raise ValueError(\"The number of sides `n` must be at least 2.\")\n",
    "    center_x, center_y = a/2, a/2\n",
    "    vertices = []\n",
    "    for i in range(n):\n",
    "        angle = 2 * np.pi * i / n\n",
    "        x = center_x + l * np.cos(angle)\n",
    "        y = center_y + l * np.sin(angle)\n",
    "        vertices.append((x, y))\n",
    "    return vertices"
   ]
  },
  {
   "cell_type": "code",
   "execution_count": null,
   "id": "558da8bd-c4c7-4f9b-89cb-3fd5d883c602",
   "metadata": {},
   "outputs": [],
   "source": [
    "a, l, n = 6, 3, 7\n",
    "vertices = polygon_vertices(a=a, l=l, n=n)"
   ]
  },
  {
   "cell_type": "code",
   "execution_count": null,
   "id": "c0062447-5cc9-4099-abba-8436229141a7",
   "metadata": {},
   "outputs": [],
   "source": [
    "fig, ax = plt.subplots(figsize=D, dpi=120, facecolor='black')\n",
    "ax.set_aspect('equal')\n",
    "ax.axis('off')\n",
    "\n",
    "t = 15\n",
    "Z = np.zeros_like(X)\n",
    "for x0, y0 in vertices:\n",
    "    Z += wave(t=t, X=X, Y=Y, x0=x0, y0=y0, A=1.0, c=1.0)\n",
    "ax.contourf(X, Y, Z, levels=np.linspace(-n, n, 50), cmap='RdBu')\n",
    "\n",
    "plt.show()"
   ]
  },
  {
   "cell_type": "markdown",
   "id": "b6e02b90-0bbb-45c4-b6a6-b3ee6807ff0c",
   "metadata": {},
   "source": [
    "## Visualize waves with particles"
   ]
  },
  {
   "cell_type": "code",
   "execution_count": null,
   "id": "11d9a9ae-6acf-4534-8b41-7fc927c68d75",
   "metadata": {},
   "outputs": [],
   "source": [
    "from scipy.interpolate import griddata"
   ]
  },
  {
   "cell_type": "code",
   "execution_count": null,
   "id": "e155808f-9daa-42f1-9309-b68bcbc1060c",
   "metadata": {},
   "outputs": [],
   "source": [
    "def color_waves(Z_normed, cmap=None):\n",
    "    '''\n",
    "    Generate colormaps\n",
    "    '''\n",
    "    if cmap is None:\n",
    "        cmap = cm.Blues_r\n",
    "    colors = cmap(Z_normed)\n",
    "    colors_a = colors.copy()\n",
    "    colors_a[:, -1] = 0.05\n",
    "\n",
    "    return colors, colors_a"
   ]
  },
  {
   "cell_type": "code",
   "execution_count": null,
   "id": "5dd88411-ae62-4e28-9818-f025b3ea133a",
   "metadata": {},
   "outputs": [],
   "source": [
    "t = 30"
   ]
  },
  {
   "cell_type": "code",
   "execution_count": null,
   "id": "0d3fc299-015c-4aa8-b510-8f161bc22819",
   "metadata": {},
   "outputs": [],
   "source": [
    "Z  = wave(t=t, X=X, Y=Y, x0=5, y0=4, A=1.0, c=1.5)\n",
    "Z += wave(t=t, X=X, Y=Y, x0=17, y0=11, A=1.0, c=1.5)\n",
    "Z_interp = griddata(coords, Z.flatten(), points, method='cubic')\n",
    "Z_shift  = Z_interp - np.min(Z_interp)\n",
    "Z_normed = Z_shift / np.max(Z_shift)"
   ]
  },
  {
   "cell_type": "code",
   "execution_count": null,
   "id": "eccd6a80-18eb-49c3-8d4c-163b91de2734",
   "metadata": {},
   "outputs": [],
   "source": [
    "fig, ax = plt.subplots(figsize=D, dpi=120, facecolor='black')\n",
    "ax.set_aspect('equal')\n",
    "ax.axis('off')\n",
    "\n",
    "sizes = Z_normed * 16 + 4\n",
    "ec, fc = color_waves(Z_normed)\n",
    "ax.scatter(*points.T, fc=fc, ec=ec, lw=0.5, marker='o', s=sizes)\n",
    "\n",
    "plt.show()"
   ]
  },
  {
   "cell_type": "markdown",
   "id": "58aee43a-45d1-4ff1-a3d5-d4df43768e55",
   "metadata": {},
   "source": [
    "### Rocking particles dues to waves"
   ]
  },
  {
   "cell_type": "code",
   "execution_count": null,
   "id": "e5b0db66-ed97-4182-a950-b85a67032f01",
   "metadata": {},
   "outputs": [],
   "source": [
    "def rocking(Z, x, y, x0, y0):\n",
    "\n",
    "    # Outward normed directions from the source\n",
    "    directions = np.vstack((x - x0, y - y0)).T\n",
    "    norms = np.sqrt((directions ** 2).sum(axis=-1))\n",
    "    directions /= norms[:, np.newaxis]\n",
    "\n",
    "    # Calculate radial distance from source\n",
    "    r = np.sqrt((x - x0) ** 2 + (y - y0) ** 2)\n",
    "    # Calculate phase velocity\n",
    "    phase_velocity = -np.sin(2*np.pi*(t - r/c))\n",
    "\n",
    "    # Compute the movements of the particles based on the wave amplitude\n",
    "    disp = Z[:, np.newaxis] * directions * 0.1\n",
    "\n",
    "    return x+disp[:, 0], y+disp[:, 1]"
   ]
  },
  {
   "cell_type": "code",
   "execution_count": null,
   "id": "961a21ae-072f-46bc-82a5-fcd65b63513b",
   "metadata": {},
   "outputs": [],
   "source": [
    "nr, nc = 1, 2\n",
    "fig, axes = plt.subplots(nr, nc, figsize=(nc*D[0], nr*D[1]), dpi=120,\n",
    "                         facecolor='black', subplot_kw={'facecolor' : 'black'})\n",
    "fig.subplots_adjust(wspace=0)\n",
    "axes = axes.flatten()\n",
    "\n",
    "sizes = Z_normed * 16 + 4\n",
    "ec, fc = color_waves(Z_normed)\n",
    "axes[0].scatter(x, y, fc=fc, ec=ec, lw=0.5, marker='o', s=sizes)\n",
    "\n",
    "xnew, ynew = rocking(Z_interp, x, y, x0, y0)\n",
    "axes[1].scatter(xnew, ynew, fc=fc, ec=ec, lw=0.5, marker='o', s=sizes)\n",
    "\n",
    "plt.show()"
   ]
  },
  {
   "cell_type": "markdown",
   "id": "af080a4b-68f0-460f-b96f-ca2ca16b1606",
   "metadata": {},
   "source": [
    "## `Wave` and `WaveSimulation` classes"
   ]
  },
  {
   "cell_type": "code",
   "execution_count": null,
   "id": "e28f8881-b736-48c6-a231-cd911a4ed2f3",
   "metadata": {},
   "outputs": [],
   "source": [
    "class Wave:\n",
    "    def __init__(self, t, A, c, x0, y0):\n",
    "        self.t = t\n",
    "        self.A = A\n",
    "        self.c = c\n",
    "        self.x0 = x0\n",
    "        self.y0 = y0\n",
    "        self.snr = None\n",
    "        self.noise = False\n",
    "\n",
    "    def step(self, dt):\n",
    "        self.t += dt\n",
    "\n",
    "    def add_noise(self, shape):\n",
    "        noise = np.random.normal(0, self.A / self.snr, shape)\n",
    "        return noise\n",
    "\n",
    "    def calc(self, X, Y, noise=False, snr=None):\n",
    "        r = np.sqrt((X-self.x0)**2 + (Y-self.y0)**2)\n",
    "        wave  = self.A * np.cos(2*np.pi*(self.t - r/self.c))\n",
    "        wave *= np.heaviside(self.t - r/self.c, 1)\n",
    "        if noise:\n",
    "            self.noise = True\n",
    "            if snr is None:\n",
    "                self.snr = 10\n",
    "            else:\n",
    "                self.snr = snr\n",
    "            wave += self.add_noise(wave.shape)\n",
    "        return wave"
   ]
  },
  {
   "cell_type": "code",
   "execution_count": null,
   "id": "5057c749-59d6-488c-aae9-7591c0b0f651",
   "metadata": {},
   "outputs": [],
   "source": [
    "test_wave = Wave(t=0, A=0.0, c=1.0, x0=0, y0=0)\n",
    "Z = test_wave.calc(X, Y, noise=False)"
   ]
  },
  {
   "cell_type": "code",
   "execution_count": null,
   "id": "2ec78a79-1a86-4afb-b1eb-d1ee5e880c78",
   "metadata": {},
   "outputs": [],
   "source": [
    "fig, ax = plt.subplots(figsize=D, dpi=120, facecolor='black')\n",
    "ax.set_aspect('equal')\n",
    "ax.axis('off')\n",
    "\n",
    "ax.contourf(X, Y, Z, cmap='RdBu', vmin=-test_wave.A, vmax=test_wave.A)\n",
    "\n",
    "plt.show()"
   ]
  },
  {
   "cell_type": "code",
   "execution_count": null,
   "id": "f817919f-894c-4a73-bbff-1537b13358ea",
   "metadata": {},
   "outputs": [],
   "source": [
    "class WaveSimulation():\n",
    "    def __init__(self, *,\n",
    "                 d_size : tuple, res : int, num_part : int):\n",
    "\n",
    "        self.D = d_size\n",
    "        self.res = res\n",
    "        self.N = num_part\n",
    "\n",
    "        self.X, self.Y = self.__init_grid()\n",
    "        self.particles = self.__init_particles()\n",
    "\n",
    "        self.components = []\n",
    "        self.wave = np.zeros(self.X.shape)\n",
    "\n",
    "    def __init_grid(self):\n",
    "        xi = np.linspace(0, self.D[0], self.D[0]*self.res)\n",
    "        yi = np.linspace(0, self.D[1], self.D[1]*self.res)\n",
    "        return np.meshgrid(xi, yi)\n",
    "\n",
    "    def __init_particles(self):\n",
    "        return np.random.uniform([self.X.min(), self.Y.min()],\n",
    "                                 [self.X.max(), self.Y.max()],\n",
    "                                 size=(self.N, 2))\n",
    "\n",
    "    def add_wave(self, *, t, A, c, x0, y0, noise=False, snr=5):\n",
    "        wave = Wave(t, A, c, x0, y0)\n",
    "        self.components.append(wave)\n",
    "        self.wave += wave.calc(self.X, self.Y, noise, snr)\n",
    "\n",
    "    def interpolate(self):\n",
    "        if not self.components:\n",
    "            return\n",
    "        points = np.vstack((self.X.flatten(), self.Y.flatten())).T\n",
    "        values = self.wave.flatten()\n",
    "        interp = griddata(points, values, self.particles, method='cubic')\n",
    "        shift  = interp - np.min(interp)\n",
    "        normed = shift / np.max(shift) if np.max(shift) != 0 else np.zeros_like(shift)\n",
    "        return normed\n",
    "\n",
    "    def displacement(self):\n",
    "        if not self.components:\n",
    "            return\n",
    "        particles_disp = np.zeros_like(self.particles)\n",
    "        for wave in self.components:\n",
    "            x0, y0, c, t = wave.x0, wave.y0, wave.c, wave.t\n",
    "            directions = self.particles - np.array([x0, y0])\n",
    "            norms = np.sqrt((directions ** 2).sum(axis=-1))\n",
    "            directions /= norms[:, np.newaxis]\n",
    "            r = np.sqrt(((self.particles - np.array([x0, y0])) ** 2).sum(axis=-1))\n",
    "            phase_velocity = -np.sin(2*np.pi*(t - r/c))\n",
    "\n",
    "            # Calculate wave at the particle locations\n",
    "            wave_at_particles = wave.calc(*self.particles.T)\n",
    "            particles_disp += (wave_at_particles[:, np.newaxis]\n",
    "                               * directions\n",
    "                               * phase_velocity[:, np.newaxis]\n",
    "                               * 0.15)\n",
    "        return particles_disp\n",
    "\n",
    "    def step(self, *, dt):\n",
    "        if not self.components:\n",
    "            return\n",
    "        new_wave = np.zeros(self.X.shape)\n",
    "        for wave in self.components:\n",
    "            wave.step(dt)\n",
    "            new_wave += wave.calc(self.X, self.Y, wave.noise, wave.snr)\n",
    "        self.wave = new_wave"
   ]
  },
  {
   "cell_type": "code",
   "execution_count": null,
   "id": "d480b942-b004-4892-ba81-bb956e41f43e",
   "metadata": {},
   "outputs": [],
   "source": [
    "sim = WaveSimulation(d_size=(6, 6), res=20, num_part=12000)\n",
    "sim.add_wave(t=30, A=1.0, c=1.5, x0=5, y0=4, noise=True)\n",
    "sim.add_wave(t=30, A=1.0, c=1.5, x0=17, y0=11, noise=False)\n",
    "\n",
    "Z = sim.wave\n",
    "Z_interp = sim.interpolate()\n",
    "part_disp = sim.particles + sim.displacement()"
   ]
  },
  {
   "cell_type": "code",
   "execution_count": null,
   "id": "b1f28d70-d65f-4ca0-ba2b-3354cb5d6198",
   "metadata": {},
   "outputs": [],
   "source": [
    "nr, nc = 1, 2\n",
    "fig, axes = plt.subplots(nr, nc, figsize=(nc*6, nr*6), dpi=120, facecolor='black')\n",
    "fig.subplots_adjust(wspace=0.0)\n",
    "\n",
    "for ax in axes.flatten():\n",
    "    ax.set_aspect('equal')\n",
    "    ax.axis('off')\n",
    "    ax.set_xlim(np.min(sim.X), np.max(sim.X))\n",
    "    ax.set_ylim(np.min(sim.Y), np.max(sim.Y))\n",
    "\n",
    "axes[0].contourf(sim.X, sim.Y, Z, cmap='RdBu_r')\n",
    "\n",
    "sizes = Z_interp * 16 + 4\n",
    "ec, fc = color_waves(Z_interp, cmap=cm.Blues_r)\n",
    "axes[1].scatter(*part_disp.T, fc=fc, ec=ec, lw=0.5, marker='o', s=sizes)\n",
    "\n",
    "plt.show()"
   ]
  },
  {
   "cell_type": "markdown",
   "id": "378673fa-f8f0-40c5-a039-e6024656e84c",
   "metadata": {},
   "source": [
    "## Animate surface waves"
   ]
  },
  {
   "cell_type": "code",
   "execution_count": null,
   "id": "a8a5793c-c6fd-463b-8eb6-b58159cd884f",
   "metadata": {},
   "outputs": [],
   "source": [
    "def visualize_field(sim, total_frames, fps=60, dt=0.01,\n",
    "                    name='WaveSimulationField.mp4', cmap='RdBu'):\n",
    "    fig, ax = plt.subplots(figsize=sim.D, dpi=120,\n",
    "                           facecolor='black', subplot_kw={'facecolor': 'black'})\n",
    "    fig.subplots_adjust(left=0, right=1, bottom=0, top=1)\n",
    "    ax.set_aspect('equal')\n",
    "    ax.axis('off')\n",
    "\n",
    "    lims = np.sum([wave.A for wave in sim.components])\n",
    "\n",
    "    def animate(i):\n",
    "        sim.step(dt=dt)\n",
    "    \n",
    "        ax.clear()\n",
    "        ax.contourf(sim.X, sim.Y, sim.wave, cmap=cmap,\n",
    "                    levels=np.linspace(-lims, lims, 50),\n",
    "                    vmin=-lims, vmax=lims)\n",
    "        ax.set_xlim(np.min(sim.X)-0.1*sim.D[0], np.max(sim.X)+0.1*sim.D[0])\n",
    "        ax.set_ylim(np.min(sim.Y)-0.1*sim.D[1], np.max(sim.Y)+0.1*sim.D[1])\n",
    "\n",
    "    ani = animation.FuncAnimation(fig, animate, frames=total_frames)\n",
    "    plt.show()\n",
    "\n",
    "    # Save animation\n",
    "    ani.save(name, fps=fps, writer='ffmpeg')\n",
    "    # or save as gif\n",
    "    # ani.save('wave_animation.gif', writer='imagemagick')"
   ]
  },
  {
   "cell_type": "code",
   "execution_count": null,
   "id": "e5eeaddf-2450-43c5-8294-5076282a7600",
   "metadata": {},
   "outputs": [],
   "source": [
    "%%time\n",
    "sim = WaveSimulation(d_size=(6, 6), res=100, num_part=1)\n",
    "sim.add_wave(t=30, A=1.0, c=1.5, x0=5, y0=1, noise=False)\n",
    "sim.add_wave(t=30, A=1.0, c=1.5, x0=17, y0=11, noise=False)\n",
    "visualize_field(sim, total_frames=200, fps=30, dt=0.01)"
   ]
  },
  {
   "cell_type": "code",
   "execution_count": null,
   "id": "f0193b1b-722a-455c-836d-3c60ba904b2f",
   "metadata": {},
   "outputs": [],
   "source": [
    "def visualize_particles(sim, total_frames, fps=60, dt=0.01,\n",
    "                        name='WaveSimulationParticles.mp4'):\n",
    "    fig, ax = plt.subplots(figsize=sim.D, dpi=120,\n",
    "                           facecolor='black', subplot_kw={'facecolor': 'black'})\n",
    "    fig.subplots_adjust(left=0, right=1, bottom=0, top=1)\n",
    "    ax.set_aspect('equal')\n",
    "    ax.axis('off')\n",
    "\n",
    "    def animate(i):\n",
    "        sim.step(dt=dt)\n",
    "        \n",
    "        #Z = sim.wave\n",
    "        Z_interp = sim.interpolate()\n",
    "        part_disp = sim.particles + sim.displacement()\n",
    "    \n",
    "        sizes = Z_interp * 16 + 4\n",
    "        ec, fc = color_waves(Z_interp)\n",
    "    \n",
    "        ax.clear()\n",
    "        ax.scatter(*part_disp.T, fc=fc, ec=ec, lw=0.5, marker='o', s=sizes)\n",
    "        ax.set_xlim(np.min(sim.X)-0.1*sim.D[0], np.max(sim.X)+0.1*sim.D[0])\n",
    "        ax.set_ylim(np.min(sim.Y)-0.1*sim.D[1], np.max(sim.Y)+0.1*sim.D[1])\n",
    "\n",
    "    ani = animation.FuncAnimation(fig, animate, frames=total_frames)\n",
    "    plt.show()\n",
    "\n",
    "    # Save animation\n",
    "    ani.save(name, fps=fps, writer='ffmpeg')\n",
    "    # or save as gif\n",
    "    # ani.save('wave_animation.gif', writer='imagemagick')"
   ]
  },
  {
   "cell_type": "code",
   "execution_count": null,
   "id": "1a252355-3c31-40dc-bab6-e00e156dc83c",
   "metadata": {},
   "outputs": [],
   "source": [
    "%%time\n",
    "sim = WaveSimulation(d_size=(6, 6), res=20, num_part=12000)\n",
    "sim.add_wave(t=30, A=1.0, c=1.5, x0=5, y0=1, noise=True)\n",
    "sim.add_wave(t=30, A=1.0, c=1.5, x0=17, y0=11, noise=False)\n",
    "visualize_particles(sim, total_frames=200, fps=30, dt=0.01)"
   ]
  },
  {
   "cell_type": "code",
   "execution_count": null,
   "id": "1605bf1b-ff36-47e5-9ba2-a730511f883d",
   "metadata": {},
   "outputs": [],
   "source": [
    "%%time\n",
    "sim = WaveSimulation(d_size=(6, 6), res=20, num_part=12000)\n",
    "sim.add_wave(t=4, A=1.0, c=2.0, x0=1.5, y0=1.5, noise=False)\n",
    "visualize_particles(sim, total_frames=300, fps=60, dt=0.01, name='SingleWaveLoop.mp4')"
   ]
  },
  {
   "cell_type": "code",
   "execution_count": null,
   "id": "fabbd20e-8aa7-4909-b5fc-55d4062bdf45",
   "metadata": {},
   "outputs": [],
   "source": [
    "%%time\n",
    "a, l, n = 6, 3, 7\n",
    "vertices = polygon_vertices(a=a, l=l, n=n)\n",
    "\n",
    "sim = WaveSimulation(d_size=(a, a), res=40, num_part=1)\n",
    "for x0, y0 in vertices:\n",
    "    sim.add_wave(t=30, A=1.0, c=1.0, x0=x0, y0=y0, noise=False)\n",
    "visualize_field(sim, total_frames=200, fps=30, dt=0.01,\n",
    "                name='PolygonField.mp4', cmap=cm.coolwarm)"
   ]
  },
  {
   "cell_type": "markdown",
   "id": "21894553-c09a-4bbb-8f88-d62626b26c9d",
   "metadata": {},
   "source": [
    "## Just a couple little test"
   ]
  },
  {
   "cell_type": "code",
   "execution_count": null,
   "id": "8234a387-6c26-49a0-bea3-dec66c0b7cb7",
   "metadata": {},
   "outputs": [],
   "source": [
    "fig, ax = plt.subplots(figsize=(6, 6), dpi=120, facecolor='black')\n",
    "ax.set_aspect('equal')\n",
    "ax.axis('off')\n",
    "ax.set_xlim(np.min(X), np.max(X))\n",
    "ax.set_ylim(np.min(Y), np.max(Y))\n",
    "\n",
    "t = 15\n",
    "x0, y0 = 1, 1\n",
    "Z1 = wave(t=t, X=X, Y=Y, x0=x0, y0=y0, A=1.0, c=2.0, noise=False)\n",
    "Z2 = wave(t=t+1.0, X=X, Y=Y, x0=x0, y0=y0, A=1.0, c=2.0, noise=False)\n",
    "ax.contourf(X, Y, Z1-Z2, cmap='RdBu', vmin=-1, vmax=1)\n",
    "\n",
    "plt.show()"
   ]
  }
 ],
 "metadata": {
  "kernelspec": {
   "display_name": "Python 3 (ipykernel)",
   "language": "python",
   "name": "python3"
  },
  "language_info": {
   "codemirror_mode": {
    "name": "ipython",
    "version": 3
   },
   "file_extension": ".py",
   "mimetype": "text/x-python",
   "name": "python",
   "nbconvert_exporter": "python",
   "pygments_lexer": "ipython3",
   "version": "3.11.4"
  }
 },
 "nbformat": 4,
 "nbformat_minor": 5
}
