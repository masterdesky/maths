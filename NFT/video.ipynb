{
 "cells": [
  {
   "cell_type": "code",
   "execution_count": 15,
   "id": "bc170446-d98d-44d9-837a-cbff3aa22e18",
   "metadata": {},
   "outputs": [],
   "source": [
    "#!/home/masterdesky/miniconda3/envs/gadget4/python\n",
    "import os\n",
    "import re\n",
    "import sys\n",
    "import imageio\n",
    "from datetime import datetime"
   ]
  },
  {
   "cell_type": "code",
   "execution_count": 19,
   "id": "e7f7e84b-0486-4881-a993-6d4b9435b584",
   "metadata": {},
   "outputs": [],
   "source": [
    "# Gather path to appropriate images to concatenate\n",
    "def read_files(path):\n",
    "  print('[{0}] Reading in list of images to concatenate'.format(datetime.now().isoformat()), file=sys.stderr)\n",
    "  file_list = []\n",
    "  for file in os.listdir(path):\n",
    "    complete_path = path + file\n",
    "    file_list.append(complete_path)\n",
    "\n",
    "  # Sort filenames\n",
    "  # lambda x: int(''.join(filter(str.isdigit, x.split())))\n",
    "  def atoi(text):\n",
    "    return int(text) if text.isdigit() else text\n",
    "\n",
    "  def natural_keys(text):\n",
    "    '''\n",
    "    alist.sort(key=natural_keys) sorts in human order\n",
    "    http://nedbatchelder.com/blog/200712/human_sorting.html\n",
    "    (See Toothy's implementation in the comments)\n",
    "    '''\n",
    "    return [ atoi(c) for c in re.split(r'(\\d+)', text) ]\n",
    "\n",
    "  file_list.sort(key=natural_keys)\n",
    "\n",
    "  return file_list\n",
    "\n",
    "\n",
    "def create_video(file_list, out_file):\n",
    "  # Define writer and create video\n",
    "  writer = imageio.get_writer(out_file, fps=30)\n",
    "\n",
    "  for i, im in enumerate(file_list):\n",
    "    text = '[{0}] Appending image #{1}...'.format(datetime.now().isoformat(), i)\n",
    "    print(text, file=sys.stderr)\n",
    "    writer.append_data(imageio.imread(im))\n",
    "  writer.close()"
   ]
  },
  {
   "cell_type": "code",
   "execution_count": 20,
   "id": "e8481091-a1c6-40dc-85da-91a5a304cf56",
   "metadata": {},
   "outputs": [],
   "source": [
    "att = 'Clifford'\n",
    "path = '/home/masterdesky/GitHub/Aesthetic_Function_Graphposting/NFT/out/{0}/frames/'.format(att)\n",
    "out_dir = '/home/masterdesky/GitHub/Aesthetic_Function_Graphposting/NFT/out/{0}/animation/'.format(att)\n",
    "out_file = out_dir + '{0}.mp4'.format(att)\n",
    "\n",
    "if not os.path.exists(out_dir):\n",
    "  os.makedirs(out_dir)"
   ]
  },
  {
   "cell_type": "code",
   "execution_count": 21,
   "id": "b0151c27-665e-4adc-a81b-ffd0f286e95d",
   "metadata": {},
   "outputs": [
    {
     "name": "stderr",
     "output_type": "stream",
     "text": [
      "[2021-08-29T21:13:00.055909] Reading in list of images to concatenate\n"
     ]
    }
   ],
   "source": [
    "file_list = read_files(path)"
   ]
  },
  {
   "cell_type": "code",
   "execution_count": null,
   "id": "5b77ec79-047a-4802-84fb-eb84daa57588",
   "metadata": {},
   "outputs": [],
   "source": [
    "create_video(file_list, out_file)"
   ]
  }
 ],
 "metadata": {
  "kernelspec": {
   "display_name": "Python 3 (ipykernel)",
   "language": "python",
   "name": "python3"
  },
  "language_info": {
   "codemirror_mode": {
    "name": "ipython",
    "version": 3
   },
   "file_extension": ".py",
   "mimetype": "text/x-python",
   "name": "python",
   "nbconvert_exporter": "python",
   "pygments_lexer": "ipython3",
   "version": "3.9.7"
  }
 },
 "nbformat": 4,
 "nbformat_minor": 5
}
