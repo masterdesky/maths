{
 "cells": [
  {
   "cell_type": "markdown",
   "id": "alert-field",
   "metadata": {},
   "source": [
    "# Hypercube in N-dimension"
   ]
  },
  {
   "cell_type": "code",
   "execution_count": 57,
   "id": "worst-consideration",
   "metadata": {},
   "outputs": [],
   "source": [
    "import os\n",
    "import sys\n",
    "import scipy\n",
    "import numpy as np\n",
    "import pandas as pd\n",
    "\n",
    "from colorcet import palette\n",
    "import datashader as ds\n",
    "import datashader.colors as dc\n",
    "import datashader.utils as utils\n",
    "from datashader import transfer_functions as tf\n",
    "\n",
    "import seaborn as sns\n",
    "import matplotlib as mpl\n",
    "import matplotlib.cm as cm\n",
    "import matplotlib.pyplot as plt\n",
    "from mpl_toolkits.mplot3d import Axes3D\n",
    "import matplotlib.animation as animation"
   ]
  },
  {
   "cell_type": "code",
   "execution_count": 3,
   "id": "informative-consistency",
   "metadata": {},
   "outputs": [],
   "source": [
    "import itertools as it"
   ]
  },
  {
   "cell_type": "markdown",
   "id": "certified-specialist",
   "metadata": {},
   "source": [
    "### Just some `matplotlib` and `seaborn` parameter tuning"
   ]
  },
  {
   "cell_type": "code",
   "execution_count": 4,
   "id": "incomplete-keyboard",
   "metadata": {},
   "outputs": [],
   "source": [
    "axistitlesize = 26\n",
    "axisticksize = 23\n",
    "axislabelsize = 26\n",
    "axislegendsize = 23\n",
    "axistextsize = 20\n",
    "axiscbarfontsize = 15\n",
    "\n",
    "# Set axtick dimensions\n",
    "major_size = 6\n",
    "major_width = 1.2\n",
    "minor_size = 3\n",
    "minor_width = 1\n",
    "mpl.rcParams['xtick.major.size'] = major_size\n",
    "mpl.rcParams['xtick.major.width'] = major_width\n",
    "mpl.rcParams['xtick.minor.size'] = minor_size\n",
    "mpl.rcParams['xtick.minor.width'] = minor_width\n",
    "mpl.rcParams['ytick.major.size'] = major_size\n",
    "mpl.rcParams['ytick.major.width'] = major_width\n",
    "mpl.rcParams['ytick.minor.size'] = minor_size\n",
    "mpl.rcParams['ytick.minor.width'] = minor_width\n",
    "\n",
    "mpl.rcParams.update({'figure.autolayout': False})\n",
    "\n",
    "# Seaborn style settings\n",
    "sns.set_style({'axes.axisbelow': True,\n",
    "               'axes.edgecolor': '.8',\n",
    "               'axes.facecolor': 'white',\n",
    "               'axes.grid': True,\n",
    "               'axes.labelcolor': '.15',\n",
    "               'axes.spines.bottom': True,\n",
    "               'axes.spines.left': True,\n",
    "               'axes.spines.right': True,\n",
    "               'axes.spines.top': True,\n",
    "               'figure.facecolor': 'white',\n",
    "               'font.family': ['sans-serif'],\n",
    "               'font.sans-serif': ['Arial',\n",
    "                'DejaVu Sans',\n",
    "                'Liberation Sans',\n",
    "                'Bitstream Vera Sans',\n",
    "                'sans-serif'],\n",
    "               'grid.color': '.8',\n",
    "               'grid.linestyle': '--',\n",
    "               'image.cmap': 'rocket',\n",
    "               'lines.solid_capstyle': 'round',\n",
    "               'patch.edgecolor': 'w',\n",
    "               'patch.force_edgecolor': True,\n",
    "               'text.color': '.15',\n",
    "               'xtick.bottom': True,\n",
    "               'xtick.color': '.15',\n",
    "               'xtick.direction': 'in',\n",
    "               'xtick.top': True,\n",
    "               'ytick.color': '.15',\n",
    "               'ytick.direction': 'in',\n",
    "               'ytick.left': True,\n",
    "               'ytick.right': True})\n",
    "\n",
    "# Colorpalettes, colormaps, etc.\n",
    "sns.set_palette(palette='rocket')"
   ]
  },
  {
   "cell_type": "markdown",
   "id": "collected-grounds",
   "metadata": {},
   "source": [
    "### Simulation hyperparameters"
   ]
  },
  {
   "cell_type": "code",
   "execution_count": 218,
   "id": "consistent-publicity",
   "metadata": {},
   "outputs": [],
   "source": [
    "D = 4"
   ]
  },
  {
   "cell_type": "markdown",
   "id": "statistical-zoning",
   "metadata": {},
   "source": [
    "## 0. Auxiliary functions"
   ]
  },
  {
   "cell_type": "code",
   "execution_count": 219,
   "id": "parallel-internet",
   "metadata": {},
   "outputs": [],
   "source": [
    "def E_mn(m, n):\n",
    "    \"\"\"\n",
    "    Returns the hypercube element `E_mn`.\n",
    "    \n",
    "    Parameters:\n",
    "    -----------\n",
    "    m : int\n",
    "        The m-dimensional sub-hypercube.\n",
    "    n : int\n",
    "        The n-dimensional hypercube.\n",
    "    \"\"\"\n",
    "    return int(2**(n-m) * scipy.special.binom(n, m))"
   ]
  },
  {
   "cell_type": "markdown",
   "id": "demonstrated-charleston",
   "metadata": {},
   "source": [
    "## 1. Find vertices of the N-dimensional hypercube"
   ]
  },
  {
   "cell_type": "code",
   "execution_count": 220,
   "id": "aggregate-deposit",
   "metadata": {},
   "outputs": [],
   "source": [
    "# Unit vectors in each cardinal direction\n",
    "# These are only rows/columns of the D x D identity matrix\n",
    "unit_vec = np.eye(D)\n",
    "\n",
    "# Vertices of the hypercube\n",
    "# These are identic to the set of all combinations of the unit vectors\n",
    "## 1. Get all combinations first\n",
    "tmp = []\n",
    "for i in range(1, D+1):\n",
    "    tmp.append(list(it.combinations(unit_vec, i)))\n",
    "\n",
    "## 2. Calculate the vertice coordinates by summing all corresponding\n",
    "##    unit vector selections\n",
    "vertices = np.zeros((E_mn(m=0, n=D), D))\n",
    "i = 1\n",
    "for p in tmp:\n",
    "    for sp in p:\n",
    "        vertices[i] = np.sum(sp, axis=0)\n",
    "        i += 1\n",
    "\n",
    "## Vertices normed around zero\n",
    "vertices_norm = (vertices - 0.5)#*2"
   ]
  },
  {
   "cell_type": "code",
   "execution_count": 221,
   "id": "olive-collectible",
   "metadata": {},
   "outputs": [
    {
     "name": "stdout",
     "output_type": "stream",
     "text": [
      "Vertices of the 4-dimensional hypercube:\n",
      "=========================================\n",
      "[[0. 0. 0. 0.]\n",
      " [1. 0. 0. 0.]\n",
      " [0. 1. 0. 0.]\n",
      " [0. 0. 1. 0.]\n",
      " [0. 0. 0. 1.]\n",
      " [1. 1. 0. 0.]\n",
      " [1. 0. 1. 0.]\n",
      " [1. 0. 0. 1.]\n",
      " [0. 1. 1. 0.]\n",
      " [0. 1. 0. 1.]\n",
      " [0. 0. 1. 1.]\n",
      " [1. 1. 1. 0.]\n",
      " [1. 1. 0. 1.]\n",
      " [1. 0. 1. 1.]\n",
      " [0. 1. 1. 1.]\n",
      " [1. 1. 1. 1.]]\n"
     ]
    }
   ],
   "source": [
    "print('Vertices of the {0}-dimensional hypercube:'.format(D))\n",
    "print('=========================================')\n",
    "print(vertices)"
   ]
  },
  {
   "cell_type": "markdown",
   "id": "subjective-disposal",
   "metadata": {},
   "source": [
    "## 2. Find edges"
   ]
  },
  {
   "cell_type": "markdown",
   "id": "alien-monitoring",
   "metadata": {},
   "source": [
    "### 2.1. Find vertices $L=1$ step away (they're already edges basically, but doubled)"
   ]
  },
  {
   "cell_type": "code",
   "execution_count": 223,
   "id": "breathing-flood",
   "metadata": {},
   "outputs": [],
   "source": [
    "edges_1 = np.zeros((E_mn(m=0, n=D), D), dtype=int)\n",
    "\n",
    "for i in range(vertices.shape[0]):\n",
    "    e = 0\n",
    "    for j in range(vertices.shape[0]):\n",
    "        if i == j:\n",
    "            continue\n",
    "        if np.sum(np.abs(vertices[i]-vertices[j])) == 1:\n",
    "            edges_1[i][e] = j\n",
    "            e += 1"
   ]
  },
  {
   "cell_type": "code",
   "execution_count": 224,
   "id": "executive-experience",
   "metadata": {},
   "outputs": [
    {
     "data": {
      "text/plain": [
       "array([[ 1,  2,  3,  4],\n",
       "       [ 0,  5,  6,  7],\n",
       "       [ 0,  5,  8,  9],\n",
       "       [ 0,  6,  8, 10],\n",
       "       [ 0,  7,  9, 10],\n",
       "       [ 1,  2, 11, 12],\n",
       "       [ 1,  3, 11, 13],\n",
       "       [ 1,  4, 12, 13],\n",
       "       [ 2,  3, 11, 14],\n",
       "       [ 2,  4, 12, 14],\n",
       "       [ 3,  4, 13, 14],\n",
       "       [ 5,  6,  8, 15],\n",
       "       [ 5,  7,  9, 15],\n",
       "       [ 6,  7, 10, 15],\n",
       "       [ 8,  9, 10, 15],\n",
       "       [11, 12, 13, 14]])"
      ]
     },
     "execution_count": 224,
     "metadata": {},
     "output_type": "execute_result"
    }
   ],
   "source": [
    "edges_1"
   ]
  },
  {
   "cell_type": "markdown",
   "id": "sharp-supplement",
   "metadata": {},
   "source": [
    "### 2.2. Find (real) edges ($m=1$)"
   ]
  },
  {
   "cell_type": "code",
   "execution_count": 225,
   "id": "absolute-ireland",
   "metadata": {},
   "outputs": [],
   "source": [
    "m = 1\n",
    "edges = np.zeros((E_mn(m=m, n=D), 2**m), dtype=int)\n",
    "\n",
    "e = 0\n",
    "for i, e0 in enumerate(edges_1):\n",
    "    for i2 in e0:\n",
    "        edge = np.array(sorted([i, i2]))\n",
    "        if (edges == edge).all(axis=1).any():\n",
    "            continue\n",
    "        else:\n",
    "            edges[e] = edge\n",
    "            e += 1"
   ]
  },
  {
   "cell_type": "code",
   "execution_count": 226,
   "id": "measured-method",
   "metadata": {},
   "outputs": [
    {
     "data": {
      "text/plain": [
       "array([[ 0,  1],\n",
       "       [ 0,  2],\n",
       "       [ 0,  3],\n",
       "       [ 0,  4],\n",
       "       [ 1,  5],\n",
       "       [ 1,  6],\n",
       "       [ 1,  7],\n",
       "       [ 2,  5],\n",
       "       [ 2,  8],\n",
       "       [ 2,  9],\n",
       "       [ 3,  6],\n",
       "       [ 3,  8],\n",
       "       [ 3, 10],\n",
       "       [ 4,  7],\n",
       "       [ 4,  9],\n",
       "       [ 4, 10],\n",
       "       [ 5, 11],\n",
       "       [ 5, 12],\n",
       "       [ 6, 11],\n",
       "       [ 6, 13],\n",
       "       [ 7, 12],\n",
       "       [ 7, 13],\n",
       "       [ 8, 11],\n",
       "       [ 8, 14],\n",
       "       [ 9, 12],\n",
       "       [ 9, 14],\n",
       "       [10, 13],\n",
       "       [10, 14],\n",
       "       [11, 15],\n",
       "       [12, 15],\n",
       "       [13, 15],\n",
       "       [14, 15]])"
      ]
     },
     "execution_count": 226,
     "metadata": {},
     "output_type": "execute_result"
    }
   ],
   "source": [
    "edges"
   ]
  },
  {
   "cell_type": "markdown",
   "id": "seeing-integration",
   "metadata": {},
   "source": [
    "## 3. Find faces"
   ]
  },
  {
   "cell_type": "markdown",
   "id": "fatty-inspection",
   "metadata": {},
   "source": [
    "### 3.1. Find vertices $L=2$ step away"
   ]
  },
  {
   "cell_type": "code",
   "execution_count": 227,
   "id": "paperback-smile",
   "metadata": {},
   "outputs": [],
   "source": [
    "m = 0\n",
    "edges_2 = np.zeros((E_mn(m=m, n=D), D*(D-1)//2), dtype=int)\n",
    "\n",
    "for i in range(vertices.shape[0]):\n",
    "    e = 0\n",
    "    for j in range(vertices.shape[0]):\n",
    "        if i == j:\n",
    "            continue\n",
    "        if np.sum(np.abs(vertices[i]-vertices[j])) == 2:\n",
    "            edges_2[i][e] = j\n",
    "            e += 1 "
   ]
  },
  {
   "cell_type": "code",
   "execution_count": 228,
   "id": "lesser-humidity",
   "metadata": {},
   "outputs": [
    {
     "data": {
      "text/plain": [
       "array([[ 5,  6,  7,  8,  9, 10],\n",
       "       [ 2,  3,  4, 11, 12, 13],\n",
       "       [ 1,  3,  4, 11, 12, 14],\n",
       "       [ 1,  2,  4, 11, 13, 14],\n",
       "       [ 1,  2,  3, 12, 13, 14],\n",
       "       [ 0,  6,  7,  8,  9, 15],\n",
       "       [ 0,  5,  7,  8, 10, 15],\n",
       "       [ 0,  5,  6,  9, 10, 15],\n",
       "       [ 0,  5,  6,  9, 10, 15],\n",
       "       [ 0,  5,  7,  8, 10, 15],\n",
       "       [ 0,  6,  7,  8,  9, 15],\n",
       "       [ 1,  2,  3, 12, 13, 14],\n",
       "       [ 1,  2,  4, 11, 13, 14],\n",
       "       [ 1,  3,  4, 11, 12, 14],\n",
       "       [ 2,  3,  4, 11, 12, 13],\n",
       "       [ 5,  6,  7,  8,  9, 10]])"
      ]
     },
     "execution_count": 228,
     "metadata": {},
     "output_type": "execute_result"
    }
   ],
   "source": [
    "edges_2"
   ]
  },
  {
   "cell_type": "markdown",
   "id": "liberal-vocabulary",
   "metadata": {},
   "source": [
    "### 3.2. Find intermitting vertices between vertex 0. and 2. and collect faces ($m=2$)"
   ]
  },
  {
   "cell_type": "code",
   "execution_count": 229,
   "id": "express-chuck",
   "metadata": {},
   "outputs": [],
   "source": [
    "m = 2\n",
    "faces = np.zeros((E_mn(m=m, n=D), 2**m), dtype=int)\n",
    "\n",
    "f = 0\n",
    "for i, e in enumerate(edges_2):\n",
    "    for i2 in e:\n",
    "        e0 = set(edges_1[i])\n",
    "        e2 = set(edges_1[i2])\n",
    "        z = np.array(sorted([i, i2] + list(e0.intersection(e2))))\n",
    "        if (faces == z).all(axis=1).any():\n",
    "            continue\n",
    "        else:\n",
    "            faces[f] = z\n",
    "            f += 1"
   ]
  },
  {
   "cell_type": "code",
   "execution_count": 230,
   "id": "clear-travel",
   "metadata": {},
   "outputs": [
    {
     "data": {
      "text/plain": [
       "array([[ 0,  1,  2,  5],\n",
       "       [ 0,  1,  3,  6],\n",
       "       [ 0,  1,  4,  7],\n",
       "       [ 0,  2,  3,  8],\n",
       "       [ 0,  2,  4,  9],\n",
       "       [ 0,  3,  4, 10],\n",
       "       [ 1,  5,  6, 11],\n",
       "       [ 1,  5,  7, 12],\n",
       "       [ 1,  6,  7, 13],\n",
       "       [ 2,  5,  8, 11],\n",
       "       [ 2,  5,  9, 12],\n",
       "       [ 2,  8,  9, 14],\n",
       "       [ 3,  6,  8, 11],\n",
       "       [ 3,  6, 10, 13],\n",
       "       [ 3,  8, 10, 14],\n",
       "       [ 4,  7,  9, 12],\n",
       "       [ 4,  7, 10, 13],\n",
       "       [ 4,  9, 10, 14],\n",
       "       [ 5, 11, 12, 15],\n",
       "       [ 6, 11, 13, 15],\n",
       "       [ 7, 12, 13, 15],\n",
       "       [ 8, 11, 14, 15],\n",
       "       [ 9, 12, 14, 15],\n",
       "       [10, 13, 14, 15]])"
      ]
     },
     "execution_count": 230,
     "metadata": {},
     "output_type": "execute_result"
    }
   ],
   "source": [
    "faces"
   ]
  },
  {
   "cell_type": "markdown",
   "id": "subsequent-clearing",
   "metadata": {},
   "source": [
    "## 4. Rotation of a 4D hypercube"
   ]
  },
  {
   "cell_type": "code",
   "execution_count": 231,
   "id": "numerous-advance",
   "metadata": {},
   "outputs": [],
   "source": [
    "def proj_4d(v, h):\n",
    "    \"\"\"\n",
    "    Projects 4D coordinates to 3D from a given view distance.\n",
    "    \n",
    "    God bless Andrew D. Hwang:\n",
    "    https://math.stackexchange.com/questions/723820/tesseract-projection-into-3d/723879#723879\n",
    "    \n",
    "    Parameters:\n",
    "    -----------\n",
    "    v : array-like\n",
    "        4D array of coodinates\n",
    "        \n",
    "    h : distance of viewpoint from the center\n",
    "    \"\"\"\n",
    "    \n",
    "    return v[:,:3] * (h / (h - v[:,3]))[:, np.newaxis]"
   ]
  },
  {
   "cell_type": "code",
   "execution_count": 291,
   "id": "dutch-credit",
   "metadata": {},
   "outputs": [],
   "source": [
    "def rot_4d(v, t, p):\n",
    "    \"\"\"\n",
    "    Rotate 4D coordinates around a hyperplane.\n",
    "    \"\"\"\n",
    "    R_p = np.array((\n",
    "        (np.cos(np.deg2rad(t)), np.sin(np.deg2rad(t))),\n",
    "        (-np.sin(np.deg2rad(t)), np.cos(np.deg2rad(t)))\n",
    "    ))\n",
    "    I = np.eye(v.shape[1])\n",
    "    \n",
    "    R = I.copy()\n",
    "    R[p:p+2,p:p+2] = R_p\n",
    "    \n",
    "    return (R @ v.T).T"
   ]
  },
  {
   "cell_type": "code",
   "execution_count": 350,
   "id": "abstract-nicaragua",
   "metadata": {},
   "outputs": [],
   "source": [
    "def plot_4d(v, edges, fname):\n",
    "    plt.ioff()\n",
    "    fig, axes = plt.subplots(figsize=(12,12),\n",
    "                         facecolor='black',\n",
    "                         subplot_kw={\n",
    "                             'projection' : '3d',\n",
    "                             'facecolor' : 'black'\n",
    "                         })\n",
    "    axes.axis('off')\n",
    "    axes.set_xlim(-1,1)\n",
    "    axes.set_ylim(-1,1)\n",
    "    axes.set_zlim(-1,1)\n",
    "\n",
    "    axes.scatter(v[:,0],\n",
    "                 v[:,1],\n",
    "                 v[:,2],\n",
    "                 color=cm.PuBu_r(0.85), s=15**2)\n",
    "\n",
    "    for e in edges:\n",
    "        axes.plot([ v[e[0]][0], v[e[1]][0] ],\n",
    "                  [ v[e[0]][1], v[e[1]][1] ],\n",
    "                  [ v[e[0]][2], v[e[1]][2] ],\n",
    "                  color=cm.PuBu_r(0.5), lw=6, alpha=0.5)\n",
    "        \n",
    "    fig.savefig(fname,\n",
    "                dpi=100,\n",
    "                format='png',\n",
    "                facecolor='black',\n",
    "                bbox_inches='tight')\n",
    "    plt.close()"
   ]
  },
  {
   "cell_type": "code",
   "execution_count": 351,
   "id": "micro-frontier",
   "metadata": {},
   "outputs": [],
   "source": [
    "def create_anim(v, edges, frames):\n",
    "\n",
    "    for i in range(frames):\n",
    "        t = 360/frames * i\n",
    "        v_rot = rot_4d(v, t=t, p=2)\n",
    "        v_proj = proj_4d(v_rot, h=1.2)\n",
    "        \n",
    "        index = (4-len(str(i)))*'0' + str(i)\n",
    "        fname = './output/frame_{0}.png'.format(index)\n",
    "        plot_4d(v=v_proj, edges=edges, fname=fname)"
   ]
  },
  {
   "cell_type": "code",
   "execution_count": 353,
   "id": "heated-stranger",
   "metadata": {},
   "outputs": [],
   "source": [
    "create_anim(v=vertices_norm, edges=edges, frames=300)"
   ]
  }
 ],
 "metadata": {
  "kernelspec": {
   "display_name": "Python 3",
   "language": "python",
   "name": "python3"
  },
  "language_info": {
   "codemirror_mode": {
    "name": "ipython",
    "version": 3
   },
   "file_extension": ".py",
   "mimetype": "text/x-python",
   "name": "python",
   "nbconvert_exporter": "python",
   "pygments_lexer": "ipython3",
   "version": "3.9.2"
  }
 },
 "nbformat": 4,
 "nbformat_minor": 5
}
