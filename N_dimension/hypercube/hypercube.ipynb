{
 "cells": [
  {
   "cell_type": "markdown",
   "id": "civil-beatles",
   "metadata": {},
   "source": [
    "# Hypercube in N-dimension"
   ]
  },
  {
   "cell_type": "code",
   "execution_count": 1,
   "id": "attended-density",
   "metadata": {},
   "outputs": [],
   "source": [
    "import os\n",
    "import sys\n",
    "import scipy\n",
    "import numpy as np\n",
    "import pandas as pd\n",
    "\n",
    "from colorcet import palette\n",
    "import datashader as ds\n",
    "import datashader.colors as dc\n",
    "import datashader.utils as utils\n",
    "from datashader import transfer_functions as tf\n",
    "\n",
    "import seaborn as sns\n",
    "import matplotlib as mpl\n",
    "import matplotlib.cm as cm\n",
    "import matplotlib.pyplot as plt\n",
    "from mpl_toolkits.mplot3d import Axes3D\n",
    "import matplotlib.animation as animation"
   ]
  },
  {
   "cell_type": "code",
   "execution_count": 2,
   "id": "killing-deadline",
   "metadata": {},
   "outputs": [],
   "source": [
    "import itertools as it"
   ]
  },
  {
   "cell_type": "markdown",
   "id": "anonymous-investing",
   "metadata": {},
   "source": [
    "### Just some `matplotlib` and `seaborn` parameter tuning"
   ]
  },
  {
   "cell_type": "code",
   "execution_count": 3,
   "id": "critical-pulse",
   "metadata": {},
   "outputs": [],
   "source": [
    "axistitlesize = 26\n",
    "axisticksize = 23\n",
    "axislabelsize = 26\n",
    "axislegendsize = 23\n",
    "axistextsize = 20\n",
    "axiscbarfontsize = 15\n",
    "\n",
    "# Set axtick dimensions\n",
    "major_size = 6\n",
    "major_width = 1.2\n",
    "minor_size = 3\n",
    "minor_width = 1\n",
    "mpl.rcParams['xtick.major.size'] = major_size\n",
    "mpl.rcParams['xtick.major.width'] = major_width\n",
    "mpl.rcParams['xtick.minor.size'] = minor_size\n",
    "mpl.rcParams['xtick.minor.width'] = minor_width\n",
    "mpl.rcParams['ytick.major.size'] = major_size\n",
    "mpl.rcParams['ytick.major.width'] = major_width\n",
    "mpl.rcParams['ytick.minor.size'] = minor_size\n",
    "mpl.rcParams['ytick.minor.width'] = minor_width\n",
    "\n",
    "mpl.rcParams.update({'figure.autolayout': False})\n",
    "\n",
    "# Seaborn style settings\n",
    "sns.set_style({'axes.axisbelow': True,\n",
    "               'axes.edgecolor': '.8',\n",
    "               'axes.facecolor': 'white',\n",
    "               'axes.grid': True,\n",
    "               'axes.labelcolor': '.15',\n",
    "               'axes.spines.bottom': True,\n",
    "               'axes.spines.left': True,\n",
    "               'axes.spines.right': True,\n",
    "               'axes.spines.top': True,\n",
    "               'figure.facecolor': 'white',\n",
    "               'font.family': ['sans-serif'],\n",
    "               'font.sans-serif': ['Arial',\n",
    "                'DejaVu Sans',\n",
    "                'Liberation Sans',\n",
    "                'Bitstream Vera Sans',\n",
    "                'sans-serif'],\n",
    "               'grid.color': '.8',\n",
    "               'grid.linestyle': '--',\n",
    "               'image.cmap': 'rocket',\n",
    "               'lines.solid_capstyle': 'round',\n",
    "               'patch.edgecolor': 'w',\n",
    "               'patch.force_edgecolor': True,\n",
    "               'text.color': '.15',\n",
    "               'xtick.bottom': True,\n",
    "               'xtick.color': '.15',\n",
    "               'xtick.direction': 'in',\n",
    "               'xtick.top': True,\n",
    "               'ytick.color': '.15',\n",
    "               'ytick.direction': 'in',\n",
    "               'ytick.left': True,\n",
    "               'ytick.right': True})\n",
    "\n",
    "# Colorpalettes, colormaps, etc.\n",
    "sns.set_palette(palette='rocket')"
   ]
  },
  {
   "cell_type": "markdown",
   "id": "dangerous-horror",
   "metadata": {},
   "source": [
    "### Simulation hyperparameters"
   ]
  },
  {
   "cell_type": "code",
   "execution_count": 4,
   "id": "unique-enterprise",
   "metadata": {},
   "outputs": [],
   "source": [
    "D = 4"
   ]
  },
  {
   "cell_type": "markdown",
   "id": "initial-corporation",
   "metadata": {},
   "source": [
    "## 0. Auxiliary functions"
   ]
  },
  {
   "cell_type": "code",
   "execution_count": 5,
   "id": "opposed-australian",
   "metadata": {},
   "outputs": [],
   "source": [
    "def E_mn(m, n):\n",
    "    \"\"\"\n",
    "    Returns the hypercube element `E_mn`.\n",
    "    \n",
    "    Parameters:\n",
    "    -----------\n",
    "    m : int\n",
    "        The m-dimensional sub-hypercube.\n",
    "    n : int\n",
    "        The n-dimensional hypercube.\n",
    "    \"\"\"\n",
    "    return int(2**(n-m) * scipy.special.binom(n, m))"
   ]
  },
  {
   "cell_type": "markdown",
   "id": "prompt-moral",
   "metadata": {},
   "source": [
    "## 1. Find vertices of the N-dimensional hypercube"
   ]
  },
  {
   "cell_type": "code",
   "execution_count": 6,
   "id": "flying-radar",
   "metadata": {},
   "outputs": [],
   "source": [
    "# Unit vectors in each cardinal direction\n",
    "# These are only rows/columns of the D x D identity matrix\n",
    "unit_vec = np.eye(D)\n",
    "\n",
    "# Vertices of the hypercube\n",
    "# These are identic to the set of all combinations of the unit vectors\n",
    "## 1. Get all combinations first\n",
    "tmp = []\n",
    "for i in range(1, D+1):\n",
    "    tmp.append(list(it.combinations(unit_vec, i)))\n",
    "\n",
    "## 2. Calculate the vertice coordinates by summing all corresponding\n",
    "##    unit vector selections\n",
    "vertices = np.zeros((E_mn(m=0, n=D), D))\n",
    "i = 1\n",
    "for p in tmp:\n",
    "    for sp in p:\n",
    "        vertices[i] = np.sum(sp, axis=0)\n",
    "        i += 1\n",
    "\n",
    "## Vertices normed around zero\n",
    "vertices_norm = (vertices - 0.5)#*2"
   ]
  },
  {
   "cell_type": "code",
   "execution_count": 7,
   "id": "civic-congress",
   "metadata": {},
   "outputs": [
    {
     "name": "stdout",
     "output_type": "stream",
     "text": [
      "Vertices of the 4-dimensional hypercube:\n",
      "=========================================\n",
      "[[0. 0. 0. 0.]\n",
      " [1. 0. 0. 0.]\n",
      " [0. 1. 0. 0.]\n",
      " [0. 0. 1. 0.]\n",
      " [0. 0. 0. 1.]\n",
      " [1. 1. 0. 0.]\n",
      " [1. 0. 1. 0.]\n",
      " [1. 0. 0. 1.]\n",
      " [0. 1. 1. 0.]\n",
      " [0. 1. 0. 1.]\n",
      " [0. 0. 1. 1.]\n",
      " [1. 1. 1. 0.]\n",
      " [1. 1. 0. 1.]\n",
      " [1. 0. 1. 1.]\n",
      " [0. 1. 1. 1.]\n",
      " [1. 1. 1. 1.]]\n"
     ]
    }
   ],
   "source": [
    "print('Vertices of the {0}-dimensional hypercube:'.format(D))\n",
    "print('=========================================')\n",
    "print(vertices)"
   ]
  },
  {
   "cell_type": "markdown",
   "id": "natural-composer",
   "metadata": {},
   "source": [
    "## 2. Find edges"
   ]
  },
  {
   "cell_type": "markdown",
   "id": "straight-russian",
   "metadata": {},
   "source": [
    "### 2.1. Find vertices $L=1$ step away (they're already edges basically, but doubled)"
   ]
  },
  {
   "cell_type": "code",
   "execution_count": 8,
   "id": "historical-horizontal",
   "metadata": {},
   "outputs": [],
   "source": [
    "edges_1 = np.zeros((E_mn(m=0, n=D), D), dtype=int)\n",
    "\n",
    "for i in range(vertices.shape[0]):\n",
    "    e = 0\n",
    "    for j in range(vertices.shape[0]):\n",
    "        if i == j:\n",
    "            continue\n",
    "        if np.sum(np.abs(vertices[i]-vertices[j])) == 1:\n",
    "            edges_1[i][e] = j\n",
    "            e += 1"
   ]
  },
  {
   "cell_type": "code",
   "execution_count": 9,
   "id": "arbitrary-purpose",
   "metadata": {},
   "outputs": [
    {
     "data": {
      "text/plain": [
       "array([[ 1,  2,  3,  4],\n",
       "       [ 0,  5,  6,  7],\n",
       "       [ 0,  5,  8,  9],\n",
       "       [ 0,  6,  8, 10],\n",
       "       [ 0,  7,  9, 10],\n",
       "       [ 1,  2, 11, 12],\n",
       "       [ 1,  3, 11, 13],\n",
       "       [ 1,  4, 12, 13],\n",
       "       [ 2,  3, 11, 14],\n",
       "       [ 2,  4, 12, 14],\n",
       "       [ 3,  4, 13, 14],\n",
       "       [ 5,  6,  8, 15],\n",
       "       [ 5,  7,  9, 15],\n",
       "       [ 6,  7, 10, 15],\n",
       "       [ 8,  9, 10, 15],\n",
       "       [11, 12, 13, 14]])"
      ]
     },
     "execution_count": 9,
     "metadata": {},
     "output_type": "execute_result"
    }
   ],
   "source": [
    "edges_1"
   ]
  },
  {
   "cell_type": "markdown",
   "id": "swiss-harvey",
   "metadata": {},
   "source": [
    "### 2.2. Find (real) edges ($m=1$)"
   ]
  },
  {
   "cell_type": "code",
   "execution_count": 10,
   "id": "middle-marking",
   "metadata": {},
   "outputs": [],
   "source": [
    "m = 1\n",
    "edges = np.zeros((E_mn(m=m, n=D), 2**m), dtype=int)\n",
    "\n",
    "e = 0\n",
    "for i, e0 in enumerate(edges_1):\n",
    "    for i2 in e0:\n",
    "        edge = np.array(sorted([i, i2]))\n",
    "        if (edges == edge).all(axis=1).any():\n",
    "            continue\n",
    "        else:\n",
    "            edges[e] = edge\n",
    "            e += 1"
   ]
  },
  {
   "cell_type": "code",
   "execution_count": 11,
   "id": "identical-hypothetical",
   "metadata": {},
   "outputs": [
    {
     "data": {
      "text/plain": [
       "array([[ 0,  1],\n",
       "       [ 0,  2],\n",
       "       [ 0,  3],\n",
       "       [ 0,  4],\n",
       "       [ 1,  5],\n",
       "       [ 1,  6],\n",
       "       [ 1,  7],\n",
       "       [ 2,  5],\n",
       "       [ 2,  8],\n",
       "       [ 2,  9],\n",
       "       [ 3,  6],\n",
       "       [ 3,  8],\n",
       "       [ 3, 10],\n",
       "       [ 4,  7],\n",
       "       [ 4,  9],\n",
       "       [ 4, 10],\n",
       "       [ 5, 11],\n",
       "       [ 5, 12],\n",
       "       [ 6, 11],\n",
       "       [ 6, 13],\n",
       "       [ 7, 12],\n",
       "       [ 7, 13],\n",
       "       [ 8, 11],\n",
       "       [ 8, 14],\n",
       "       [ 9, 12],\n",
       "       [ 9, 14],\n",
       "       [10, 13],\n",
       "       [10, 14],\n",
       "       [11, 15],\n",
       "       [12, 15],\n",
       "       [13, 15],\n",
       "       [14, 15]])"
      ]
     },
     "execution_count": 11,
     "metadata": {},
     "output_type": "execute_result"
    }
   ],
   "source": [
    "edges"
   ]
  },
  {
   "cell_type": "markdown",
   "id": "metallic-walker",
   "metadata": {},
   "source": [
    "## 3. Find faces"
   ]
  },
  {
   "cell_type": "markdown",
   "id": "together-genealogy",
   "metadata": {},
   "source": [
    "### 3.1. Find vertices $L=2$ step away"
   ]
  },
  {
   "cell_type": "code",
   "execution_count": 12,
   "id": "crude-guest",
   "metadata": {},
   "outputs": [],
   "source": [
    "m = 0\n",
    "edges_2 = np.zeros((E_mn(m=m, n=D), D*(D-1)//2), dtype=int)\n",
    "\n",
    "for i in range(vertices.shape[0]):\n",
    "    e = 0\n",
    "    for j in range(vertices.shape[0]):\n",
    "        if i == j:\n",
    "            continue\n",
    "        if np.sum(np.abs(vertices[i]-vertices[j])) == 2:\n",
    "            edges_2[i][e] = j\n",
    "            e += 1 "
   ]
  },
  {
   "cell_type": "code",
   "execution_count": 13,
   "id": "prompt-budapest",
   "metadata": {},
   "outputs": [
    {
     "data": {
      "text/plain": [
       "array([[ 5,  6,  7,  8,  9, 10],\n",
       "       [ 2,  3,  4, 11, 12, 13],\n",
       "       [ 1,  3,  4, 11, 12, 14],\n",
       "       [ 1,  2,  4, 11, 13, 14],\n",
       "       [ 1,  2,  3, 12, 13, 14],\n",
       "       [ 0,  6,  7,  8,  9, 15],\n",
       "       [ 0,  5,  7,  8, 10, 15],\n",
       "       [ 0,  5,  6,  9, 10, 15],\n",
       "       [ 0,  5,  6,  9, 10, 15],\n",
       "       [ 0,  5,  7,  8, 10, 15],\n",
       "       [ 0,  6,  7,  8,  9, 15],\n",
       "       [ 1,  2,  3, 12, 13, 14],\n",
       "       [ 1,  2,  4, 11, 13, 14],\n",
       "       [ 1,  3,  4, 11, 12, 14],\n",
       "       [ 2,  3,  4, 11, 12, 13],\n",
       "       [ 5,  6,  7,  8,  9, 10]])"
      ]
     },
     "execution_count": 13,
     "metadata": {},
     "output_type": "execute_result"
    }
   ],
   "source": [
    "edges_2"
   ]
  },
  {
   "cell_type": "markdown",
   "id": "postal-richmond",
   "metadata": {},
   "source": [
    "### 3.2. Find intermitting vertices between vertex 0. and 2. and collect faces ($m=2$)"
   ]
  },
  {
   "cell_type": "code",
   "execution_count": 14,
   "id": "thrown-provincial",
   "metadata": {},
   "outputs": [],
   "source": [
    "m = 2\n",
    "faces = np.zeros((E_mn(m=m, n=D), 2**m), dtype=int)\n",
    "\n",
    "f = 0\n",
    "for i, e in enumerate(edges_2):\n",
    "    for i2 in e:\n",
    "        e0 = set(edges_1[i])\n",
    "        e2 = set(edges_1[i2])\n",
    "        z = np.array(sorted([i, i2] + list(e0.intersection(e2))))\n",
    "        if (faces == z).all(axis=1).any():\n",
    "            continue\n",
    "        else:\n",
    "            faces[f] = z\n",
    "            f += 1"
   ]
  },
  {
   "cell_type": "code",
   "execution_count": 15,
   "id": "front-costs",
   "metadata": {},
   "outputs": [
    {
     "data": {
      "text/plain": [
       "array([[ 0,  1,  2,  5],\n",
       "       [ 0,  1,  3,  6],\n",
       "       [ 0,  1,  4,  7],\n",
       "       [ 0,  2,  3,  8],\n",
       "       [ 0,  2,  4,  9],\n",
       "       [ 0,  3,  4, 10],\n",
       "       [ 1,  5,  6, 11],\n",
       "       [ 1,  5,  7, 12],\n",
       "       [ 1,  6,  7, 13],\n",
       "       [ 2,  5,  8, 11],\n",
       "       [ 2,  5,  9, 12],\n",
       "       [ 2,  8,  9, 14],\n",
       "       [ 3,  6,  8, 11],\n",
       "       [ 3,  6, 10, 13],\n",
       "       [ 3,  8, 10, 14],\n",
       "       [ 4,  7,  9, 12],\n",
       "       [ 4,  7, 10, 13],\n",
       "       [ 4,  9, 10, 14],\n",
       "       [ 5, 11, 12, 15],\n",
       "       [ 6, 11, 13, 15],\n",
       "       [ 7, 12, 13, 15],\n",
       "       [ 8, 11, 14, 15],\n",
       "       [ 9, 12, 14, 15],\n",
       "       [10, 13, 14, 15]])"
      ]
     },
     "execution_count": 15,
     "metadata": {},
     "output_type": "execute_result"
    }
   ],
   "source": [
    "faces"
   ]
  },
  {
   "cell_type": "markdown",
   "id": "allied-installation",
   "metadata": {},
   "source": [
    "## 4. Rotation of a 4D hypercube"
   ]
  },
  {
   "cell_type": "markdown",
   "id": "cooperative-module",
   "metadata": {},
   "source": [
    "### 4.1. Define a projection $P$, where $P\\ :\\ \\mathbb{R}^{4} \\mapsto \\mathbb{R}^{3}$\n",
    "\n",
    "As the answer discusses it [on this link](https://math.stackexchange.com/questions/723820/tesseract-projection-into-3d/723879#723879), the visualization of the 4D tesseract in the 3D space can be done by placing a lightsource at the location above the tesseract into eg. the point $\\boldsymbol{c} = \\left( 0,0,0,h \\right)$. After that we map each point $\\boldsymbol{x} = \\left( x, y, z, w \\right)$ with $w \\neq h$ to its \"shadow\", the intersection of $\\mathbb{R}^{3} \\times \\left\\{ 0 \\right\\}$ with the ray from $\\boldsymbol{c}$ through $\\boldsymbol{x}$: \n",
    "\n",
    "$$\n",
    "P \\left( x, y, z, w \\right)\n",
    "=\n",
    "\\frac{h}{h - w}\n",
    "\\begin{pmatrix}\n",
    "    x \\\\ y \\\\ z\n",
    "\\end{pmatrix}\n",
    "$$\n",
    "\n",
    "We will get the final image of the tesseract in 4D by applying the projection\n",
    "\n",
    "$$\n",
    "P \\boldsymbol{v} \\left( x, y, z, w \\right)\n",
    "=\n",
    "\\boldsymbol{v}_{\\text{proj}} \\left( x, y, z \\right)\n",
    "$$"
   ]
  },
  {
   "cell_type": "code",
   "execution_count": 16,
   "id": "pharmaceutical-hungary",
   "metadata": {},
   "outputs": [],
   "source": [
    "def proj_4d(v, h):\n",
    "    \"\"\"\n",
    "    Projects 4D coordinates to 3D from a given view distance.\n",
    "    \n",
    "    God bless Andrew D. Hwang:\n",
    "    https://math.stackexchange.com/questions/723820/tesseract-projection-into-3d/723879#723879\n",
    "    \n",
    "    Parameters:\n",
    "    -----------\n",
    "    v : array-like\n",
    "        4D array of coodinates\n",
    "        \n",
    "    h : distance of viewpoint from the center\n",
    "    \"\"\"\n",
    "    \n",
    "    return v[:,:3] * (h / (h - v[:,3]))[:, np.newaxis]"
   ]
  },
  {
   "cell_type": "markdown",
   "id": "obvious-ireland",
   "metadata": {},
   "source": [
    "### 4.2. Rotation matrix in Euclidean metric\n",
    "\n",
    "Rotations discussed and implemented here are exclusively rotations around planes spanned by basis vectors $\\left( x,y,z,w \\right)$ in case of 4D. The rotation matrix in 2D can be written in the form\n",
    "\n",
    "$$\n",
    "R_{2D}\n",
    "=\n",
    "\\begin{pmatrix}\n",
    "    \\cos \\left( \\varphi \\right)  & \\sin \\left( \\varphi \\right) \\\\\n",
    "    -\\sin \\left( \\varphi \\right) & \\cos \\left( \\varphi \\right)\n",
    "\\end{pmatrix}\n",
    "$$\n",
    "\n",
    "Rotation matrices in higher dimensions always contain these same elements (except for the sign in case of the two $\\sin$ functions reversed) if the rotation is around basis vectors or hyperplanes spanned by basis vectors. In 4D there are exactly $6$ possible rotations given this constraint, which are the following:\n",
    "\n",
    "$$\n",
    "R_{zw}\n",
    "=\n",
    "\\begin{pmatrix}\n",
    "    \\cos \\left( \\varphi \\right)  & -\\sin \\left( \\varphi \\right) & 0 & 0 \\\\\n",
    "    \\sin \\left( \\varphi \\right)  & \\cos \\left( \\varphi \\right)  & 0 & 0 \\\\\n",
    "    0                            & 0                            & 1 & 0 \\\\\n",
    "    0                            & 0                            & 0 & 1 \\\\\n",
    "\\end{pmatrix}\n",
    "\\quad\n",
    ";\n",
    "\\quad\n",
    "R_{yw}\n",
    "=\n",
    "\\begin{pmatrix}\n",
    "    \\cos \\left( \\varphi \\right)  & 0 & -\\sin \\left( \\varphi \\right) & 0 \\\\\n",
    "    0                            & 1 & 0                            & 0 \\\\\n",
    "    \\sin \\left( \\varphi \\right)  & 0 & \\cos \\left( \\varphi \\right)  & 0 \\\\\n",
    "    0                            & 0 & 0                            & 1 \\\\\n",
    "\\end{pmatrix}\n",
    "\\quad\n",
    ";\n",
    "\\quad\n",
    "R_{yz}\n",
    "=\n",
    "\\begin{pmatrix}\n",
    "    \\cos \\left( \\varphi \\right)  & 0 & 0 & -\\sin \\left( \\varphi \\right) \\\\\n",
    "    0                            & 1 & 0 & 0                            \\\\\n",
    "    0                            & 0 & 1 & 0                            \\\\\n",
    "    \\sin \\left( \\varphi \\right)  & 0 & 0 & \\cos \\left( \\varphi \\right)  \\\\\n",
    "\\end{pmatrix}\n",
    "$$\n",
    "\n",
    "$$\n",
    "R_{xw}\n",
    "=\n",
    "\\begin{pmatrix}\n",
    "    1 & 0                            & 0                            & 0 \\\\\n",
    "    0 & \\cos \\left( \\varphi \\right)  & -\\sin \\left( \\varphi \\right) & 0 \\\\\n",
    "    0 & \\sin \\left( \\varphi \\right)  & \\cos \\left( \\varphi \\right)  & 0 \\\\\n",
    "    0 & 0                            & 0                            & 1 \\\\\n",
    "\\end{pmatrix}\n",
    "\\quad\n",
    ";\n",
    "\\quad\n",
    "R_{xz}\n",
    "=\n",
    "\\begin{pmatrix}\n",
    "    1 & 0                            & 0                           & 0  \\\\\n",
    "    0 & \\cos \\left( \\varphi \\right)  & 0 & -\\sin \\left( \\varphi \\right) \\\\\n",
    "    0 & 0                            & 1                           & 0  \\\\\n",
    "    0 & \\sin \\left( \\varphi \\right)  & 0 & \\cos \\left( \\varphi \\right)  \\\\\n",
    "\\end{pmatrix}\n",
    "\\quad\n",
    ";\n",
    "\\quad\n",
    "R_{xy}\n",
    "=\n",
    "\\begin{pmatrix}\n",
    "    1 & 0 & 0                            & 0                            \\\\\n",
    "    0 & 1 & 0                            & 0                            \\\\\n",
    "    0 & 0 & \\cos \\left( \\varphi \\right)  & -\\sin \\left( \\varphi \\right) \\\\\n",
    "    0 & 0 & \\sin \\left( \\varphi \\right)  & \\cos \\left( \\varphi \\right)  \\\\\n",
    "\\end{pmatrix}\n",
    "$$"
   ]
  },
  {
   "cell_type": "code",
   "execution_count": 113,
   "id": "binding-boating",
   "metadata": {},
   "outputs": [],
   "source": [
    "def rot_4d(v, t, p):\n",
    "    \"\"\"\n",
    "    Rotate 4D coordinates around a hyperplane.\n",
    "    \n",
    "    Parameters:\n",
    "    -----------\n",
    "    v : array-like of shape (N, D)\n",
    "        The set of coordinates to rotate.\n",
    "    t : float\n",
    "        Angle of rotation around the choosen hyperplane\n",
    "    p : int between 1 - 6\n",
    "        Index to choose the hyperplane of rotation:\n",
    "        - 1 : rotate around z,w axis\n",
    "        - 2 : rotate around y,w axis\n",
    "        - 3 : rotate around y,z axis\n",
    "        - 4 : rotate around x,w axis\n",
    "        - 5 : rotate around x,z axis\n",
    "        - 6 : rotate around x,y axis\n",
    "    \"\"\"\n",
    "    R_p = np.array((\n",
    "        (np.cos(np.deg2rad(t)), -np.sin(np.deg2rad(t))),\n",
    "        (np.sin(np.deg2rad(t)), np.cos(np.deg2rad(t)))\n",
    "    ))\n",
    "    I = np.eye(v.shape[1])\n",
    "    \n",
    "    si = [\n",
    "        tuple([[[0], [1]], [0,1]]),  # Rotate around z,w\n",
    "        tuple([[[0], [2]], [0,2]]),  # Rotate around y,w\n",
    "        tuple([[[0], [3]], [0,3]]),  # Rotate around y,z\n",
    "        tuple([[[1], [2]], [1,2]]),  # Rotate around x,w\n",
    "        tuple([[[1], [3]], [1,3]]),  # Rotate around x,z\n",
    "        tuple([[[2], [3]], [2,3]]),  # Rotate around x,y\n",
    "    ]\n",
    "    \n",
    "    R = I.copy()\n",
    "    R[si[p-1]] = R_p\n",
    "    \n",
    "    return (R @ v.T).T"
   ]
  },
  {
   "cell_type": "code",
   "execution_count": 114,
   "id": "dress-victoria",
   "metadata": {},
   "outputs": [],
   "source": [
    "def plot_4d(v, edges, fname=None, save=True):\n",
    "    \n",
    "    plt.ioff()\n",
    "    fig, axes = plt.subplots(figsize=(12,12),\n",
    "                         facecolor='black',\n",
    "                         subplot_kw={\n",
    "                             'projection' : '3d',\n",
    "                             'facecolor' : 'black'\n",
    "                         })\n",
    "    axes.axis('off')\n",
    "    axes.set_xlim(-1,1)\n",
    "    axes.set_ylim(-1,1)\n",
    "    axes.set_zlim(-1,1)\n",
    "\n",
    "    axes.scatter(v[:,0],\n",
    "                 v[:,1],\n",
    "                 v[:,2],\n",
    "                 color=cm.PuBu_r(0.85), s=15**2)\n",
    "\n",
    "    for e in edges:\n",
    "        axes.plot([ v[e[0]][0], v[e[1]][0] ],\n",
    "                  [ v[e[0]][1], v[e[1]][1] ],\n",
    "                  [ v[e[0]][2], v[e[1]][2] ],\n",
    "                  color=cm.PuBu_r(0.5), lw=6, alpha=0.5)\n",
    "    \n",
    "    if save:\n",
    "        fig.savefig(fname,\n",
    "                    dpi=100,\n",
    "                    format='png',\n",
    "                    facecolor='black',\n",
    "                    bbox_inches='tight')\n",
    "        plt.close()\n",
    "    else:\n",
    "        plt.show()"
   ]
  },
  {
   "cell_type": "code",
   "execution_count": 115,
   "id": "august-hungarian",
   "metadata": {},
   "outputs": [],
   "source": [
    "def create_plot(v, edges, t, p, h):\n",
    "\n",
    "    v_rot = rot_4d(v, t=t, p=p)\n",
    "    v_proj = proj_4d(v_rot, h=h)\n",
    "\n",
    "    plot_4d(v=v_proj, edges=edges, save=False)"
   ]
  },
  {
   "cell_type": "code",
   "execution_count": 123,
   "id": "accredited-phenomenon",
   "metadata": {},
   "outputs": [
    {
     "data": {
      "image/png": "[encoded data removed]",
      "text/plain": [
       "<Figure size 864x864 with 1 Axes>"
      ]
     },
     "metadata": {},
     "output_type": "display_data"
    }
   ],
   "source": [
    "create_plot(v=vertices_norm, edges=edges, t=90, p=3, h=1.5)"
   ]
  },
  {
   "cell_type": "markdown",
   "id": "coordinate-sugar",
   "metadata": {},
   "source": [
    "### Create a rotating animation"
   ]
  },
  {
   "cell_type": "code",
   "execution_count": 124,
   "id": "collect-floor",
   "metadata": {},
   "outputs": [],
   "source": [
    "def create_anim(v, edges, frames, p, h):\n",
    "\n",
    "    for i in range(frames):\n",
    "        t = 720/frames * i\n",
    "        v_rot = rot_4d(v, t=t, p=p)\n",
    "        v_proj = proj_4d(v_rot, h=h)\n",
    "        \n",
    "        index = (4-len(str(i)))*'0' + str(i)\n",
    "        fname = './output/frame_{0}.png'.format(index)\n",
    "        plot_4d(v=v_proj, edges=edges, fname=fname)"
   ]
  },
  {
   "cell_type": "code",
   "execution_count": 125,
   "id": "united-summit",
   "metadata": {},
   "outputs": [],
   "source": [
    "create_anim(v=vertices_norm, edges=edges, frames=360*6, p=3, h=1.5)"
   ]
  },
  {
   "cell_type": "code",
   "execution_count": null,
   "id": "bibliographic-memorabilia",
   "metadata": {},
   "outputs": [],
   "source": []
  }
 ],
 "metadata": {
  "kernelspec": {
   "display_name": "Python 3",
   "language": "python",
   "name": "python3"
  },
  "language_info": {
   "codemirror_mode": {
    "name": "ipython",
    "version": 3
   },
   "file_extension": ".py",
   "mimetype": "text/x-python",
   "name": "python",
   "nbconvert_exporter": "python",
   "pygments_lexer": "ipython3",
   "version": "3.9.2"
  }
 },
 "nbformat": 4,
 "nbformat_minor": 5
}
