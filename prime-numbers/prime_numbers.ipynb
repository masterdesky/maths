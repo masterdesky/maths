{
 "cells": [
  {
   "cell_type": "code",
   "execution_count": null,
   "metadata": {},
   "outputs": [],
   "source": [
    "import sys\n",
    "import os\n",
    "import numpy as np\n",
    "import pandas as pd\n",
    "\n",
    "import matplotlib.cm as cm\n",
    "import matplotlib.pyplot as plt\n",
    "from colorcet import palette\n",
    "\n",
    "from datetime import datetime"
   ]
  },
  {
   "cell_type": "code",
   "execution_count": null,
   "metadata": {},
   "outputs": [],
   "source": [
    "from tqdm import tqdm"
   ]
  },
  {
   "cell_type": "code",
   "execution_count": null,
   "metadata": {},
   "outputs": [],
   "source": [
    "filename = 'primes_to_{0}.dat'.format(points)\n",
    "figsave_format = 'png'"
   ]
  },
  {
   "cell_type": "code",
   "execution_count": null,
   "metadata": {},
   "outputs": [],
   "source": [
    "points = 2**26\n",
    "print('According to prime theorem, we should find approximately {0} prime numbers.'.format(points // np.log(points)))"
   ]
  },
  {
   "cell_type": "code",
   "execution_count": null,
   "metadata": {},
   "outputs": [],
   "source": [
    "start = datetime.now()\n",
    "# Producing prime numbers\n",
    "if filename not in os.listdir('./data'):\n",
    "    lower_lim = 2\n",
    "    upper_lim = points\n",
    "\n",
    "    prime_nums = []\n",
    "    for n in tqdm(range(lower_lim, upper_lim+1),):\n",
    "        for i in range(2, int(np.ceil(np.sqrt(n)))):\n",
    "            if (n % i) == 0:\n",
    "                break\n",
    "        else:\n",
    "            prime_nums.append(n)\n",
    "\n",
    "    np.savetxt(fname='./data/' + filename, X=prime_nums)\n",
    "\n",
    "else:\n",
    "    prime_nums = np.genfromtxt('./data/' + filename)\n",
    "\n",
    "# Producing natural numbers\n",
    "    natural_nums = [i for i in range(points)]\n",
    "\n",
    "prime_nums = np.array(prime_nums)\n",
    "print('Finished searching prime numbers up to {0} in {1}'.format(points, str(datetime.now() - start)))\n",
    "print('Found prime numbers : {0}'.format(len(prime_nums)))"
   ]
  },
  {
   "cell_type": "code",
   "execution_count": null,
   "metadata": {},
   "outputs": [],
   "source": [
    "def polar_primes(lim=None, scattersize=10, save=False):\n",
    "\n",
    "    if lim is not None:\n",
    "        lim = int(lim)\n",
    "    \n",
    "    nrows = 1\n",
    "    ncols = 1\n",
    "    figscale = 150\n",
    "    fig, axes = plt.subplots(nrows=nrows, ncols=ncols, figsize=(ncols*figscale,nrows*figscale),\n",
    "                             subplot_kw={'projection': 'polar'}, facecolor='black')\n",
    "\n",
    "    axes.axis('off')\n",
    "    axes.set_facecolor('black')\n",
    "    \n",
    "    x_coords = prime_nums[0:lim] * np.cos(prime_nums[0:lim])\n",
    "    y_coords = prime_nums[0:lim] * np.sin(prime_nums[0:lim])\n",
    "    plot_range = np.max([x_coords, y_coords]) * 2/3\n",
    "    axes.set_ylim(0, plot_range)\n",
    "    #axes.scatter(natural_nums, natural_nums, s=scattersize, color='tab:blue')\n",
    "    \n",
    "    colors = []\n",
    "    # cm.autumn_r\n",
    "    cmap = cm.hot_r\n",
    "    NUM_COLORS = len(prime_nums[0:lim])\n",
    "    for i in range(NUM_COLORS):\n",
    "        colors.append(cmap(1.*i/NUM_COLORS))  # color will now be an RGBA tuple\n",
    "    axes.scatter(prime_nums[0:lim], prime_nums[0:lim],\n",
    "                 s=scattersize, color=colors)\n",
    "\n",
    "    if save:\n",
    "        plt.savefig('out/primes_{0}.'.format(len(prime_nums[0:lim])) + figsave_format,\n",
    "                    format=figsave_format,\n",
    "                    dpi=None,\n",
    "                    facecolor='black',\n",
    "                    bbox_inches='tight')\n",
    "    #plt.show()\n",
    "    plt.ioff()\n",
    "    plt.close()"
   ]
  },
  {
   "cell_type": "code",
   "execution_count": null,
   "metadata": {},
   "outputs": [],
   "source": [
    "polar_primes(lim=1e03, scattersize=400, save=True)"
   ]
  },
  {
   "cell_type": "code",
   "execution_count": null,
   "metadata": {},
   "outputs": [],
   "source": [
    "polar_primes(lim=1e04, scattersize=200, save=True)"
   ]
  },
  {
   "cell_type": "code",
   "execution_count": null,
   "metadata": {},
   "outputs": [],
   "source": [
    "polar_primes(lim=None, scattersize=1, save=True)"
   ]
  },
  {
   "cell_type": "markdown",
   "metadata": {},
   "source": [
    "## Datashader"
   ]
  },
  {
   "cell_type": "code",
   "execution_count": null,
   "metadata": {},
   "outputs": [],
   "source": [
    "import datashader as ds, pandas as pd\n",
    "import datashader.transfer_functions as tf\n",
    "import datashader.utils as utils"
   ]
  },
  {
   "cell_type": "code",
   "execution_count": null,
   "metadata": {},
   "outputs": [],
   "source": [
    "def ds_polar_primes(width, lim=None):\n",
    "\n",
    "    width = int(width)\n",
    "    if lim is not None:\n",
    "        lim = int(lim)\n",
    "\n",
    "    # Convert to polar coordinates\n",
    "    prime_polar = prime_nums[0:lim] * np.array([np.cos(prime_nums[0:lim]), np.sin(prime_nums[0:lim])])\n",
    "    #plot_range = np.max([prime_polar[0], prime_polar[1]])\n",
    "    # Create dataframe for Datashader points plot\n",
    "    df = pd.DataFrame({'x':pd.Series(prime_polar[0]),'y':pd.Series(prime_polar[1])})\n",
    "    # Selected cmap for plot\n",
    "    cmap = palette.fire\n",
    "\n",
    "    cvs = ds.Canvas(plot_width=width, plot_height=width)\n",
    "    agg = cvs.points(df,'x','y')\n",
    "    img = tf.set_background(tf.shade(agg, cmap=cmap),'black')\n",
    "    utils.export_image(img=img, filename=('./out/ds_primes_{0}'.format(len(prime_nums[0:lim]))))\n",
    "    \n",
    "    return img"
   ]
  },
  {
   "cell_type": "code",
   "execution_count": null,
   "metadata": {},
   "outputs": [],
   "source": [
    "ds_polar_primes(width=2000, lim=2e25)"
   ]
  },
  {
   "cell_type": "code",
   "execution_count": null,
   "metadata": {},
   "outputs": [],
   "source": [
    "ds_polar_primes(width=2**11, lim=1e04)"
   ]
  },
  {
   "cell_type": "code",
   "execution_count": null,
   "metadata": {},
   "outputs": [],
   "source": [
    "ds_polar_primes(width=2**11, lim=None)"
   ]
  },
  {
   "cell_type": "code",
   "execution_count": null,
   "metadata": {},
   "outputs": [],
   "source": []
  }
 ],
 "metadata": {
  "kernelspec": {
   "display_name": "Python 3 (ipykernel)",
   "language": "python",
   "name": "python3"
  },
  "language_info": {
   "codemirror_mode": {
    "name": "ipython",
    "version": 3
   },
   "file_extension": ".py",
   "mimetype": "text/x-python",
   "name": "python",
   "nbconvert_exporter": "python",
   "pygments_lexer": "ipython3",
   "version": "3.11.0"
  }
 },
 "nbformat": 4,
 "nbformat_minor": 4
}
