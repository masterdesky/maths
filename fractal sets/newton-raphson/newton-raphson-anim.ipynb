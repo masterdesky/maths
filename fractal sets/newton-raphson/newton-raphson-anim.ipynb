{
 "cells": [
  {
   "cell_type": "markdown",
   "id": "fa4a3442-444a-4e0a-b272-4f5d58db154c",
   "metadata": {},
   "source": [
    "# Newton-Raphson fractal animation notebook"
   ]
  },
  {
   "cell_type": "code",
   "execution_count": 1,
   "id": "19178895-b769-4ceb-b22d-cc4578642463",
   "metadata": {},
   "outputs": [],
   "source": [
    "import os\n",
    "import sys\n",
    "import numpy as np\n",
    "from tqdm import tqdm\n",
    "from itertools import product\n",
    "from joblib import Parallel, delayed\n",
    "\n",
    "import matplotlib.pyplot as plt\n",
    "\n",
    "from polynomial import Polynomial\n",
    "\n",
    "from newton_engine import get_NR_colors\n",
    "from newton_plots import NR_fractal_mx"
   ]
  },
  {
   "cell_type": "code",
   "execution_count": 2,
   "id": "438f6937-29c9-48e9-bd71-4dddafe49a9a",
   "metadata": {},
   "outputs": [],
   "source": [
    "N = 1024\n",
    "n_steps = 50\n",
    "n_frames = 90\n",
    "ffmt = 'png'\n",
    "fdpi = 100  \n",
    "\n",
    "outdir = './out/frames-N{}-ns{}/'.format(N, n_steps)\n",
    "if not os.path.exists(outdir):\n",
    "    os.makedirs(outdir)"
   ]
  },
  {
   "cell_type": "code",
   "execution_count": 3,
   "id": "7337d13c-bd79-4c01-87a8-0b17610785ed",
   "metadata": {},
   "outputs": [],
   "source": [
    "# Polynomial to calculate\n",
    "P = Polynomial(c=[1,0,0,1,-1,1])\n",
    "\n",
    "# Predefined limits\n",
    "gl_s = ((-1.5,1.5),(-1.5,1.5))\n",
    "gl_e = ((-1.0092734515,-1.0092734495), (0.1473217440, 0.1473217460))"
   ]
  },
  {
   "cell_type": "code",
   "execution_count": 4,
   "id": "954ff1b9-3de8-4674-aa7a-d03e8749a77b",
   "metadata": {},
   "outputs": [],
   "source": [
    "def NR_fractal_get_frames(gl_s, gl_e, n_frames=50):\n",
    "  \n",
    "  v_s = np.array(list(product(*gl_s)))\n",
    "  v_e = np.array(list(product(*gl_e)))\n",
    "\n",
    "  sg = np.sign(v_s - v_e)\n",
    "  f_s = v_s - v_e\n",
    "  f_e = np.zeros_like(v_s) + 1e-15 * sg\n",
    "\n",
    "  v_coords = np.geomspace(f_s, f_e, n_frames) + v_e\n",
    "  \n",
    "  return v_coords\n",
    "\n",
    "def NR_fractal_get_grid_lims(v_coords):\n",
    "  \n",
    "  # Shorten variable names\n",
    "  v1, v2 = v_coords[:,0], v_coords[:,3]\n",
    "  \n",
    "  grid_lims =\\\n",
    "  tuple(\n",
    "    tuple(\n",
    "      ( (xmin, xmax),(ymin, ymax) )\n",
    "    )\n",
    "    for xmin, xmax, ymin, ymax in zip(v1[:,0], v2[:,0], v1[:,1], v2[:,1])\n",
    "  )\n",
    "  \n",
    "  return grid_lims"
   ]
  },
  {
   "cell_type": "code",
   "execution_count": 5,
   "id": "c11c3b34-8475-4f96-8f53-556d07b34e0f",
   "metadata": {},
   "outputs": [],
   "source": [
    "def create_frame(i, P,\n",
    "                 N, n_steps, gl,\n",
    "                 outdir, ffmt, fdpi):\n",
    "  X_n, _, _, _= NR_fractal_mx(P,\n",
    "                              N=N, n_steps=n_steps,\n",
    "                              grid_lim_x=gl[0],\n",
    "                              grid_lim_y=gl[1])\n",
    "  X = get_NR_colors(P, X_n).reshape((N, N, 4))\n",
    "\n",
    "  fname = 'nrfractal_anim_frame-{:04d}.'.format(i)\n",
    "  plt.imsave(fname=(outdir + fname + ffmt),\n",
    "             arr=X, vmin=0, vmax=1,\n",
    "             dpi=fdpi)"
   ]
  },
  {
   "cell_type": "code",
   "execution_count": 6,
   "id": "f21ea8f8-5118-4549-bbd7-1d95431ae0a0",
   "metadata": {},
   "outputs": [],
   "source": [
    "# Get the extents of the frames\n",
    "v_coords = NR_fractal_get_frames(gl_s, gl_e, n_frames=n_frames)\n",
    "grid_lims = NR_fractal_get_grid_lims(v_coords)\n",
    "#del v_coords"
   ]
  },
  {
   "cell_type": "code",
   "execution_count": 7,
   "id": "abf5dd6b-2256-4a77-8c1a-d71db3e1d0c0",
   "metadata": {
    "tags": []
   },
   "outputs": [
    {
     "name": "stderr",
     "output_type": "stream",
     "text": [
      "100%|███████████████████████████████████████████████████████████████████████████████| 90/90 [08:00<00:00,  5.34s/it]\n"
     ]
    },
    {
     "name": "stdout",
     "output_type": "stream",
     "text": [
      "CPU times: user 151 ms, sys: 51.3 ms, total: 203 ms\n",
      "Wall time: 8min 55s\n"
     ]
    }
   ],
   "source": [
    "%%time\n",
    "_ = Parallel(n_jobs=4)(delayed(create_frame)(i, P,\n",
    "                                             N, n_steps, gl,\n",
    "                                             outdir, ffmt, fdpi) for i, gl in enumerate(tqdm(grid_lims)));"
   ]
  },
  {
   "cell_type": "markdown",
   "id": "9be6a3e6-5d57-4236-ad02-54886a2e57bb",
   "metadata": {},
   "source": [
    "## Append frames"
   ]
  },
  {
   "cell_type": "code",
   "execution_count": 8,
   "id": "05360267-bd7c-4274-a6bc-015012bb82e6",
   "metadata": {},
   "outputs": [],
   "source": [
    "import imageio\n",
    "from datetime import datetime"
   ]
  },
  {
   "cell_type": "code",
   "execution_count": 9,
   "id": "d53be1f6-e2ba-45df-b733-64e3d2acb22d",
   "metadata": {},
   "outputs": [],
   "source": [
    "def create_anim(N : int, n_steps : int):\n",
    "  dir_ = 'frames-N{}-ns{}/'.format(N, n_steps)\n",
    "  name = 'NR_fractal-N{}-ns{}'.format(N, n_steps)\n",
    "\n",
    "  path = './out/' + dir_\n",
    "  outdir = './out/' + dir_ + 'anim/'\n",
    "  if not os.path.exists(outdir):\n",
    "    os.makedirs(outdir)\n",
    "\n",
    "  # Gather path to appropriate images to concatenate\n",
    "  print('[{0}] Reading in list of images to concatenate'.format(datetime.now().isoformat()), file=sys.stderr)\n",
    "  file_list = []\n",
    "  for file in os.listdir(path):\n",
    "    if 'nrfractal' in file:\n",
    "      complete_path = path + file\n",
    "      file_list.append(complete_path)\n",
    "  # Sort filenames\n",
    "  file_list.sort(key=lambda x: int(''.join(filter(str.isdigit, x))))\n",
    "\n",
    "  # Define writer and create video\n",
    "  writer = imageio.get_writer(outdir + '{}.mp4'.format(name),\n",
    "                              codec='h264', bitrate='3500k',\n",
    "                              format='mp4', fps=30)\n",
    "\n",
    "  for i, im in enumerate(file_list):\n",
    "    text = '[{0}] Appending image {1}...'.format(datetime.now().isoformat(), i)\n",
    "    print(text, file=sys.stderr)\n",
    "    writer.append_data(imageio.imread(im))\n",
    "  writer.close()"
   ]
  },
  {
   "cell_type": "code",
   "execution_count": 10,
   "id": "080cd5e0-7223-4c0e-b6ff-b801fef608d1",
   "metadata": {},
   "outputs": [
    {
     "name": "stderr",
     "output_type": "stream",
     "text": [
      "[2021-10-28T16:23:56.976285] Reading in list of images to concatenate\n",
      "[2021-10-28T16:23:56.978347] Appending image 0...\n",
      "[2021-10-28T16:23:57.056328] Appending image 1...\n",
      "[2021-10-28T16:23:57.093133] Appending image 2...\n",
      "[2021-10-28T16:23:57.117467] Appending image 3...\n",
      "[2021-10-28T16:23:57.145953] Appending image 4...\n",
      "[2021-10-28T16:23:57.168773] Appending image 5...\n",
      "[2021-10-28T16:23:57.192965] Appending image 6...\n",
      "[2021-10-28T16:23:57.215398] Appending image 7...\n",
      "[2021-10-28T16:23:57.233563] Appending image 8...\n",
      "[2021-10-28T16:23:57.256062] Appending image 9...\n",
      "[2021-10-28T16:23:57.279088] Appending image 10...\n",
      "[2021-10-28T16:23:57.302885] Appending image 11...\n",
      "[2021-10-28T16:23:57.330678] Appending image 12...\n",
      "[2021-10-28T16:23:57.355921] Appending image 13...\n",
      "[2021-10-28T16:23:57.379146] Appending image 14...\n",
      "[2021-10-28T16:23:57.426663] Appending image 15...\n",
      "[2021-10-28T16:23:57.446787] Appending image 16...\n",
      "[2021-10-28T16:23:57.475114] Appending image 17...\n",
      "[2021-10-28T16:23:57.498719] Appending image 18...\n",
      "[2021-10-28T16:23:57.521062] Appending image 19...\n",
      "[2021-10-28T16:23:57.545616] Appending image 20...\n",
      "[2021-10-28T16:23:57.565350] Appending image 21...\n",
      "[2021-10-28T16:23:57.584965] Appending image 22...\n",
      "[2021-10-28T16:23:57.605961] Appending image 23...\n",
      "[2021-10-28T16:23:57.630083] Appending image 24...\n",
      "[2021-10-28T16:23:57.669460] Appending image 25...\n",
      "[2021-10-28T16:23:57.695721] Appending image 26...\n",
      "[2021-10-28T16:23:57.719277] Appending image 27...\n",
      "[2021-10-28T16:23:57.742837] Appending image 28...\n",
      "[2021-10-28T16:23:57.766541] Appending image 29...\n",
      "[2021-10-28T16:23:57.789572] Appending image 30...\n",
      "[2021-10-28T16:23:57.812624] Appending image 31...\n",
      "[2021-10-28T16:23:57.838464] Appending image 32...\n",
      "[2021-10-28T16:23:57.872205] Appending image 33...\n",
      "[2021-10-28T16:23:57.895607] Appending image 34...\n",
      "[2021-10-28T16:23:57.916188] Appending image 35...\n",
      "[2021-10-28T16:23:57.941836] Appending image 36...\n",
      "[2021-10-28T16:23:57.963941] Appending image 37...\n",
      "[2021-10-28T16:23:57.985875] Appending image 38...\n",
      "[2021-10-28T16:23:58.008664] Appending image 39...\n",
      "[2021-10-28T16:23:58.031823] Appending image 40...\n",
      "[2021-10-28T16:23:58.054356] Appending image 41...\n",
      "[2021-10-28T16:23:58.095948] Appending image 42...\n",
      "[2021-10-28T16:23:58.125151] Appending image 43...\n",
      "[2021-10-28T16:23:58.147424] Appending image 44...\n",
      "[2021-10-28T16:23:58.183774] Appending image 45...\n",
      "[2021-10-28T16:23:58.210038] Appending image 46...\n",
      "[2021-10-28T16:23:58.450369] Appending image 47...\n",
      "[2021-10-28T16:23:58.489097] Appending image 48...\n",
      "[2021-10-28T16:23:58.538544] Appending image 49...\n",
      "[2021-10-28T16:23:58.572713] Appending image 50...\n",
      "[2021-10-28T16:23:58.616154] Appending image 51...\n",
      "[2021-10-28T16:23:58.645637] Appending image 52...\n",
      "[2021-10-28T16:23:58.668176] Appending image 53...\n",
      "[2021-10-28T16:23:58.705340] Appending image 54...\n",
      "[2021-10-28T16:23:58.862373] Appending image 55...\n",
      "[2021-10-28T16:23:58.912187] Appending image 56...\n",
      "[2021-10-28T16:23:58.967681] Appending image 57...\n",
      "[2021-10-28T16:23:58.989624] Appending image 58...\n",
      "[2021-10-28T16:23:59.011323] Appending image 59...\n",
      "[2021-10-28T16:23:59.031618] Appending image 60...\n",
      "[2021-10-28T16:23:59.052833] Appending image 61...\n",
      "[2021-10-28T16:23:59.141405] Appending image 62...\n",
      "[2021-10-28T16:23:59.205192] Appending image 63...\n",
      "[2021-10-28T16:23:59.240157] Appending image 64...\n",
      "[2021-10-28T16:23:59.262161] Appending image 65...\n",
      "[2021-10-28T16:23:59.292153] Appending image 66...\n",
      "[2021-10-28T16:23:59.318944] Appending image 67...\n",
      "[2021-10-28T16:23:59.345512] Appending image 68...\n",
      "[2021-10-28T16:23:59.458607] Appending image 69...\n",
      "[2021-10-28T16:23:59.493199] Appending image 70...\n",
      "[2021-10-28T16:23:59.526029] Appending image 71...\n",
      "[2021-10-28T16:23:59.547576] Appending image 72...\n",
      "[2021-10-28T16:23:59.568858] Appending image 73...\n",
      "[2021-10-28T16:23:59.587994] Appending image 74...\n",
      "[2021-10-28T16:23:59.658262] Appending image 75...\n",
      "[2021-10-28T16:23:59.759757] Appending image 76...\n",
      "[2021-10-28T16:23:59.804284] Appending image 77...\n",
      "[2021-10-28T16:23:59.832161] Appending image 78...\n",
      "[2021-10-28T16:23:59.863616] Appending image 79...\n",
      "[2021-10-28T16:23:59.893174] Appending image 80...\n",
      "[2021-10-28T16:23:59.915434] Appending image 81...\n",
      "[2021-10-28T16:23:59.942156] Appending image 82...\n",
      "[2021-10-28T16:23:59.968949] Appending image 83...\n",
      "[2021-10-28T16:23:59.996931] Appending image 84...\n",
      "[2021-10-28T16:24:00.018506] Appending image 85...\n",
      "[2021-10-28T16:24:00.040985] Appending image 86...\n",
      "[2021-10-28T16:24:00.111032] Appending image 87...\n",
      "[2021-10-28T16:24:00.140166] Appending image 88...\n",
      "[2021-10-28T16:24:00.164585] Appending image 89...\n"
     ]
    }
   ],
   "source": [
    "create_anim(N=N, n_steps=n_steps)"
   ]
  },
  {
   "cell_type": "code",
   "execution_count": null,
   "id": "bab20347-32d4-45f9-ad43-f42ada901b49",
   "metadata": {},
   "outputs": [],
   "source": []
  },
  {
   "cell_type": "code",
   "execution_count": null,
   "id": "44d8b4f8-677d-4b69-9174-717d9594af72",
   "metadata": {},
   "outputs": [],
   "source": []
  }
 ],
 "metadata": {
  "kernelspec": {
   "display_name": "Python 3 (ipykernel)",
   "language": "python",
   "name": "python3"
  },
  "language_info": {
   "codemirror_mode": {
    "name": "ipython",
    "version": 3
   },
   "file_extension": ".py",
   "mimetype": "text/x-python",
   "name": "python",
   "nbconvert_exporter": "python",
   "pygments_lexer": "ipython3",
   "version": "3.9.7"
  }
 },
 "nbformat": 4,
 "nbformat_minor": 5
}
