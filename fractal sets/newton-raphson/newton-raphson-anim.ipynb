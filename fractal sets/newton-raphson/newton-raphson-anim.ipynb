{
 "cells": [
  {
   "cell_type": "markdown",
   "id": "fa4a3442-444a-4e0a-b272-4f5d58db154c",
   "metadata": {},
   "source": [
    "# Newton-Raphson fractal animation notebook"
   ]
  },
  {
   "cell_type": "code",
   "execution_count": 7,
   "id": "19178895-b769-4ceb-b22d-cc4578642463",
   "metadata": {},
   "outputs": [],
   "source": [
    "import os\n",
    "import sys\n",
    "import numpy as np\n",
    "from tqdm import tqdm\n",
    "from itertools import product\n",
    "\n",
    "import matplotlib.pyplot as plt\n",
    "\n",
    "from polynomial import Polynomial\n",
    "\n",
    "from newton_engine import get_NR_colors\n",
    "from newton_plots import NR_fractal_mx"
   ]
  },
  {
   "cell_type": "code",
   "execution_count": 3,
   "id": "438f6937-29c9-48e9-bd71-4dddafe49a9a",
   "metadata": {},
   "outputs": [],
   "source": [
    "N = 128\n",
    "n_steps = 50\n",
    "n_frames = 90\n",
    "ffmt = 'png'\n",
    "fdpi = 100  \n",
    "\n",
    "outdir = './out/frames-N{}-ns{}/'.format(N, n_steps)\n",
    "if not os.path.exists(outdir):\n",
    "    os.makedirs(outdir)"
   ]
  },
  {
   "cell_type": "code",
   "execution_count": 59,
   "id": "7337d13c-bd79-4c01-87a8-0b17610785ed",
   "metadata": {},
   "outputs": [],
   "source": [
    "# Predefined limits\n",
    "gl_s = ((-1.5,1.5),(-1.5,1.5))\n",
    "gl_e = ((-1.009290,-1.009265),(0.147300,0.147325))"
   ]
  },
  {
   "cell_type": "code",
   "execution_count": 111,
   "id": "ed73b9ef-00fe-483a-80a4-12df0de37da2",
   "metadata": {},
   "outputs": [],
   "source": [
    "v_s = np.array(list(product(*gl_s)))\n",
    "v_e = np.array(list(product(*gl_e)))\n",
    "\n",
    "sg = np.sign(v_s - v_e)\n",
    "f_s = v_s - v_e\n",
    "f_e = np.zeros_like(df) + 1e-06 * sg\n",
    "\n",
    "v_coords = np.geomspace(f_s, f_e, n_frames)"
   ]
  },
  {
   "cell_type": "code",
   "execution_count": 118,
   "id": "954ff1b9-3de8-4674-aa7a-d03e8749a77b",
   "metadata": {},
   "outputs": [],
   "source": [
    "def NR_fractal_get_frames(gl_s, gl_e, n_frames=50):\n",
    "  \n",
    "  v_s = np.array(list(product(*gl_s)))\n",
    "  v_e = np.array(list(product(*gl_e)))\n",
    "\n",
    "  sg = np.sign(v_s - v_e)\n",
    "  f_s = v_s - v_e\n",
    "  f_e = np.zeros_like(df) + 1e-06 * sg\n",
    "\n",
    "  v_coords = np.geomspace(f_s, f_e, n_frames) + v_e\n",
    "  \n",
    "  return v_coords\n",
    "\n",
    "def NR_fractal_get_grid_lims(v_coords):\n",
    "  \n",
    "  # Shorten variable names\n",
    "  v1, v2 = v_coords[:,0], v_coords[:,3]\n",
    "  \n",
    "  grid_lims =\\\n",
    "  tuple(\n",
    "    tuple(\n",
    "      ( (xmin, xmax),(ymin, ymax) )\n",
    "    )\n",
    "    for xmin, xmax, ymin, ymax in zip(v1[:,0], v2[:,0], v1[:,1], v2[:,1])\n",
    "  )\n",
    "  \n",
    "  return grid_lims"
   ]
  },
  {
   "cell_type": "code",
   "execution_count": 119,
   "id": "f21ea8f8-5118-4549-bbd7-1d95431ae0a0",
   "metadata": {},
   "outputs": [],
   "source": [
    "# Get the extents of the frames\n",
    "v_coords = NR_fractal_get_frames(gl_s, gl_e, n_frames=n_frames)\n",
    "grid_lims = NR_fractal_get_grid_lims(v_coords)\n",
    "#del v_coords"
   ]
  },
  {
   "cell_type": "code",
   "execution_count": 120,
   "id": "0d0ba66d-eb3e-4ecc-9c84-cba9d591ca96",
   "metadata": {},
   "outputs": [
    {
     "name": "stderr",
     "output_type": "stream",
     "text": [
      "100%|███████████████████████████████████████████████████████████████████████████████| 90/90 [00:18<00:00,  4.92it/s]\n"
     ]
    }
   ],
   "source": [
    "for i, gl in enumerate(tqdm(grid_lims)):\n",
    "  X_n, _, _, _= NR_fractal_mx(P,\n",
    "                              N=N, n_steps=n_steps,\n",
    "                              grid_lim_x=gl[0],\n",
    "                              grid_lim_y=gl[1])\n",
    "  X = get_NR_colors(P, X_n).reshape((N, N, 4))\n",
    "\n",
    "  fname = 'nrfractal_anim_frame-{:04d}.'.format(i)\n",
    "  plt.imsave(fname=(outdir + fname + ffmt),\n",
    "             arr=X, vmin=0, vmax=1,\n",
    "             dpi=fdpi)"
   ]
  },
  {
   "cell_type": "code",
   "execution_count": null,
   "id": "29c53344-03c4-4d91-a39a-1db761cebbcd",
   "metadata": {},
   "outputs": [],
   "source": []
  }
 ],
 "metadata": {
  "kernelspec": {
   "display_name": "Python 3 (ipykernel)",
   "language": "python",
   "name": "python3"
  },
  "language_info": {
   "codemirror_mode": {
    "name": "ipython",
    "version": 3
   },
   "file_extension": ".py",
   "mimetype": "text/x-python",
   "name": "python",
   "nbconvert_exporter": "python",
   "pygments_lexer": "ipython3",
   "version": "3.9.7"
  }
 },
 "nbformat": 4,
 "nbformat_minor": 5
}
