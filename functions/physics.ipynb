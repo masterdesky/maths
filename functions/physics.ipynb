{
 "cells": [
  {
   "cell_type": "markdown",
   "metadata": {},
   "source": [
    "# Maxwell-Boltzmann distribution"
   ]
  },
  {
   "cell_type": "code",
   "execution_count": null,
   "metadata": {},
   "outputs": [],
   "source": [
    "import os\n",
    "import numpy as np\n",
    "from scipy.special import erf\n",
    "\n",
    "import seaborn as sns\n",
    "import matplotlib as mpl\n",
    "import matplotlib.cm as cm\n",
    "import matplotlib.pyplot as plt"
   ]
  },
  {
   "cell_type": "code",
   "execution_count": null,
   "metadata": {},
   "outputs": [],
   "source": [
    "fig_x = 30\n",
    "fig_y = 11\n",
    "axistitlesize = 22\n",
    "axisticksize = 18\n",
    "axislabelsize = 30\n",
    "axistextsize = 14\n",
    "axislegendsize = 25\n",
    "axiscbarfontsize = 15\n",
    "\n",
    "# Set axtick dimensions\n",
    "major_size = 6\n",
    "major_width = 1.2\n",
    "minor_size = 3\n",
    "minor_width = 1\n",
    "mpl.rcParams['xtick.major.size'] = major_size\n",
    "mpl.rcParams['xtick.major.width'] = major_width\n",
    "mpl.rcParams['xtick.minor.size'] = minor_size\n",
    "mpl.rcParams['xtick.minor.width'] = minor_width\n",
    "mpl.rcParams['ytick.major.size'] = major_size\n",
    "mpl.rcParams['ytick.major.width'] = major_width\n",
    "mpl.rcParams['ytick.minor.size'] = minor_size\n",
    "mpl.rcParams['ytick.minor.width'] = minor_width\n",
    "\n",
    "mpl.rcParams.update({'figure.autolayout': False})\n",
    "\n",
    "# Seaborn style settings\n",
    "sns.set_style({'axes.axisbelow': True,\n",
    "               'axes.edgecolor': '.8',\n",
    "               'axes.facecolor': 'white',\n",
    "               'axes.grid': True,\n",
    "               'axes.labelcolor': '.15',\n",
    "               'axes.spines.bottom': True,\n",
    "               'axes.spines.left': True,\n",
    "               'axes.spines.right': True,\n",
    "               'axes.spines.top': True,\n",
    "               'figure.facecolor': 'white',\n",
    "               'font.family': ['sans-serif'],\n",
    "               'font.sans-serif': ['Arial',\n",
    "                'DejaVu Sans',\n",
    "                'Liberation Sans',\n",
    "                'Bitstream Vera Sans',\n",
    "                'sans-serif'],\n",
    "               'grid.color': '.8',\n",
    "               'grid.linestyle': '--',\n",
    "               'image.cmap': 'rocket',\n",
    "               'lines.solid_capstyle': 'round',\n",
    "               'patch.edgecolor': 'w',\n",
    "               'patch.force_edgecolor': True,\n",
    "               'text.color': '.15',\n",
    "               'xtick.bottom': True,\n",
    "               'xtick.color': '.15',\n",
    "               'xtick.direction': 'in',\n",
    "               'xtick.top': True,\n",
    "               'ytick.color': '.15',\n",
    "               'ytick.direction': 'in',\n",
    "               'ytick.left': True,\n",
    "               'ytick.right': True})\n",
    "\n",
    "# Colorpalettes, colormaps, etc.\n",
    "sns.set_palette(palette='rocket')\n",
    "rocket_cmap = sns.color_palette('rocket', as_cmap=True)"
   ]
  },
  {
   "cell_type": "code",
   "execution_count": null,
   "metadata": {},
   "outputs": [],
   "source": [
    "def mb_pdf(X, m=1, k=1, T=298):\n",
    "    \"\"\"\n",
    "    Returns the PDF of the Maxwell--Boltzmann velocity distribution for\n",
    "    given particles.\n",
    "    \"\"\"\n",
    "    a = np.sqrt(k*T / m)\n",
    "    return np.sqrt(2/np.pi) * 1/(a**3) * X**2 * np.exp(-X**2/(2*a**2))"
   ]
  },
  {
   "cell_type": "code",
   "execution_count": null,
   "metadata": {},
   "outputs": [],
   "source": [
    "def mb_cdf(X, m=1, k=1, T=298):\n",
    "    \"\"\"\n",
    "    Returns the CDF of the Maxwell--Boltzmann velocity distribution for\n",
    "    given particles.\n",
    "    \"\"\"\n",
    "    a = np.sqrt(k*T / m)\n",
    "    return erf(X / (np.sqrt(2) * a)) - mb_pdf(X, m, k, T)"
   ]
  },
  {
   "cell_type": "code",
   "execution_count": null,
   "metadata": {},
   "outputs": [],
   "source": [
    "# Temperatures\n",
    "Ts = [10, 20, 50]\n",
    "\n",
    "X = np.linspace(0,20,200)\n",
    "y_pdf = np.array([mb_pdf(X, T=t) for t in Ts])\n",
    "y_cdf = np.array([mb_cdf(X, T=t) for t in Ts])"
   ]
  },
  {
   "cell_type": "code",
   "execution_count": null,
   "metadata": {},
   "outputs": [],
   "source": [
    "fig, axes = plt.subplots(figsize=(14,10),\n",
    "                         facecolor='black', subplot_kw={'facecolor' : 'black'})\n",
    "\n",
    "colors = [cm.magma(0.25), cm.magma(0.75), cm.magma(0.93)][::-1]\n",
    "\n",
    "for i, y in enumerate(y_pdf):\n",
    "    axes.plot(X, y, label='$T = {}$ K'.format(Ts[i]),\n",
    "              color=colors[i], lw=5, alpha=0.7)\n",
    "    axes.fill_between(X, y1=y,\n",
    "                      color=colors[i], alpha=0.8, zorder=i+2)\n",
    "\n",
    "axes.set_xlabel('Velocity [$v$]', fontsize=axislabelsize, fontweight='bold',\n",
    "                color='white')\n",
    "axes.set_ylabel('Probability', fontsize=axislabelsize, fontweight='bold',\n",
    "                color='white')\n",
    "axes.tick_params(axis='both', which='major', labelsize=axisticksize,\n",
    "                 colors='white')\n",
    "\n",
    "axes.legend(loc='upper right', fontsize=axislegendsize)\n",
    "\n",
    "plt.suptitle('Fig. 1. PDF of the Maxwell-Boltzmann distribution',\n",
    "             color='white', fontsize=axistitlesize, fontweight='bold', y=0.02)\n",
    "\n",
    "plt.show()"
   ]
  },
  {
   "cell_type": "code",
   "execution_count": null,
   "metadata": {},
   "outputs": [],
   "source": [
    "fig, axes = plt.subplots(figsize=(14,10),\n",
    "                         facecolor='black', subplot_kw={'facecolor' : 'black'})\n",
    "\n",
    "colors = [cm.magma(0.25), cm.magma(0.75), cm.magma(0.93)][::-1]\n",
    "\n",
    "for i, y in enumerate(y_cdf):\n",
    "    axes.plot(X, y, label='$T = {}$ K'.format(Ts[i]),\n",
    "              color=colors[i], lw=5, alpha=0.7)\n",
    "    axes.fill_between(X, y1=y,\n",
    "                      color=colors[i], alpha=0.8, zorder=i+2)\n",
    "\n",
    "axes.set_xlabel('Velocity [$v$]', fontsize=axislabelsize, fontweight='bold',\n",
    "                color='white')\n",
    "axes.set_ylabel('Probability', fontsize=axislabelsize, fontweight='bold',\n",
    "                color='white')\n",
    "axes.tick_params(axis='both', which='major', labelsize=axisticksize,\n",
    "                 colors='white')\n",
    "\n",
    "axes.legend(loc='upper left', fontsize=axislegendsize)\n",
    "\n",
    "plt.suptitle('Fig. 2. CDF of the Maxwell-Boltzmann distribution',\n",
    "             color='white', fontsize=axistitlesize, fontweight='bold', y=0.02)\n",
    "\n",
    "plt.show()"
   ]
  }
 ],
 "metadata": {
  "kernelspec": {
   "display_name": "Python 3 (ipykernel)",
   "language": "python",
   "name": "python3"
  },
  "language_info": {
   "codemirror_mode": {
    "name": "ipython",
    "version": 3
   },
   "file_extension": ".py",
   "mimetype": "text/x-python",
   "name": "python",
   "nbconvert_exporter": "python",
   "pygments_lexer": "ipython3",
   "version": "3.11.0"
  }
 },
 "nbformat": 4,
 "nbformat_minor": 4
}
