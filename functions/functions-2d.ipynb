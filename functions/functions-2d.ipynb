{
 "cells": [
  {
   "cell_type": "markdown",
   "id": "41cc6b72-a815-4412-afad-6bff8088ec2c",
   "metadata": {},
   "source": [
    "# Visualizing functions"
   ]
  },
  {
   "cell_type": "code",
   "execution_count": null,
   "id": "189e72a3-15a5-431a-a141-0fa0bf770111",
   "metadata": {},
   "outputs": [],
   "source": [
    "import os\n",
    "import numpy as np\n",
    "\n",
    "import matplotlib.pyplot as plt"
   ]
  },
  {
   "cell_type": "code",
   "execution_count": null,
   "id": "7beda6c3-ca8e-4cab-8922-aa76497edfd9",
   "metadata": {},
   "outputs": [],
   "source": [
    "ODIR = 'out/'"
   ]
  },
  {
   "cell_type": "markdown",
   "id": "23da7ca8-2fc6-42c3-a03d-a65ab67bd8d9",
   "metadata": {},
   "source": [
    "## Sinusoidal basics\n",
    "\n",
    "$$\n",
    "    \\sin(x) + \\cos(y) \\leq 0\n",
    "$$"
   ]
  },
  {
   "cell_type": "code",
   "execution_count": null,
   "id": "d83ad634-cb78-47c0-9da9-c622e3da4f6c",
   "metadata": {},
   "outputs": [],
   "source": [
    "def func(X, Y):\n",
    "    X, Y = np.meshgrid(X, Y)\n",
    "    return np.sin(X) + np.cos(Y) <= 0"
   ]
  },
  {
   "cell_type": "code",
   "execution_count": null,
   "id": "557ada31-185e-4bc4-9b16-4346250e0015",
   "metadata": {},
   "outputs": [],
   "source": [
    "N = 5000\n",
    "X, Y = np.linspace(-10, 10, N), np.linspace(-10, 10, N)\n",
    "Z = func(X, Y)"
   ]
  },
  {
   "cell_type": "code",
   "execution_count": null,
   "id": "a0ec59ba-4612-49dc-b7d3-a1ed4cd10fe1",
   "metadata": {},
   "outputs": [],
   "source": [
    "fig, ax = plt.subplots()\n",
    "\n",
    "ax.axis(False)\n",
    "ax.imshow(Z.reshape(N, N), cmap='Greys')\n",
    "\n",
    "fname = os.path.join(ODIR, f'sinusodidal_{N}x{N}.png')\n",
    "plt.savefig(fname, dpi=200, pad_inches=0, bbox_inches='tight')\n",
    "plt.show()"
   ]
  },
  {
   "cell_type": "markdown",
   "id": "ee7aebcd-51ae-40dc-887e-6729adfa3cae",
   "metadata": {},
   "source": [
    "## Sinusoidal interference\n",
    "\n",
    "$$\n",
    "    \\left[ \\sin(x) + \\cos(y) \\right]\n",
    "    \\cdot\n",
    "    \\left[\n",
    "        \\sin \\left( x \\cos(\\theta) - y \\sin(\\theta) \\right)\n",
    "        +\n",
    "        \\cos \\left( x \\sin(\\theta) + y \\cos(\\theta) \\right)\n",
    "    \\right] \\leq 0\n",
    "$$"
   ]
  },
  {
   "cell_type": "code",
   "execution_count": null,
   "id": "e55d008c-3a91-4c6b-b41d-70e981f02c3f",
   "metadata": {},
   "outputs": [],
   "source": [
    "def rotate(X, Y, theta):\n",
    "    return X*np.cos(theta) - Y*np.sin(theta), X*np.sin(theta) + Y*np.cos(theta)"
   ]
  },
  {
   "cell_type": "code",
   "execution_count": null,
   "id": "d6e6d6ea-93e3-4802-889d-88344dfa5ce2",
   "metadata": {},
   "outputs": [],
   "source": [
    "def func(X, Y, theta=40):\n",
    "    X, Y = np.meshgrid(X, Y)\n",
    "    p1 = np.sin(X) + np.cos(Y)\n",
    "    X, Y = rotate(X, Y, theta)\n",
    "    p2 = np.sin(X) + np.cos(Y)\n",
    "    return p1 * p2 <= 0"
   ]
  },
  {
   "cell_type": "code",
   "execution_count": null,
   "id": "fa732a3f-969e-4711-a3c4-e5c62ff14dd7",
   "metadata": {},
   "outputs": [],
   "source": [
    "N = 1000\n",
    "X, Y = np.linspace(-50, 50, N), np.linspace(-50, 50, N)\n",
    "Z = func(X, Y, theta=np.pi/16)"
   ]
  },
  {
   "cell_type": "code",
   "execution_count": null,
   "id": "c78c4932-1537-4479-80a6-4b0a3082d510",
   "metadata": {},
   "outputs": [],
   "source": [
    "fig, ax = plt.subplots(facecolor='black')\n",
    "\n",
    "ax.axis(False)\n",
    "ax.imshow(Z.reshape(N, N), cmap='Greys')\n",
    "\n",
    "eq = '$\\\\left[ \\sin(x) + \\cos(y) \\\\right]\\\n",
    "      \\cdot\\\n",
    "      \\\\left[\\\n",
    "        \\sin \\\\left( x \\cos(\\\\theta) - y \\sin(\\\\theta) \\\\right)\\\n",
    "        +\\\n",
    "        \\cos \\\\left( x \\sin(\\\\theta) + y \\cos(\\\\theta) \\\\right)\\\n",
    "    \\\\right] \\leq 0$'\n",
    "ax.text(0.01, -0.04, eq, fontsize=7.5, color='white',\n",
    "        ha='left', va='center', transform=ax.transAxes)\n",
    "ax.text(0.05, -0.09, \"'$Fourier\\ meets\\ Moireé$'\",\n",
    "        fontsize=8, style='italic', color='white',\n",
    "        ha='left', va='center', transform=ax.transAxes)\n",
    "ax.text(0.95, -0.09, 'idea by @masterdesky',\n",
    "        fontsize=8, style='italic', color='white',\n",
    "        ha='right', va='center', transform=ax.transAxes)\n",
    "\n",
    "fname = os.path.join(ODIR, f'sin_interference_{N}x{N}.png')\n",
    "plt.savefig(fname, dpi=200, pad_inches=0, bbox_inches='tight')\n",
    "plt.show()"
   ]
  },
  {
   "cell_type": "markdown",
   "id": "2a46f6c3-fcc2-4154-9abd-799d9859b7dd",
   "metadata": {},
   "source": [
    "## Eyes\n",
    "*Idea from [@Pixelated_Donut](https://twitter.com/Pixelated_Donut/status/1756587677984461254) on Twitter.*\n",
    "\n",
    "$$\n",
    "    \\sin \\left(\n",
    "        4 \\arctan \\left( \\sin(y), \\sin(x) \\right)\n",
    "        -\n",
    "        16 \\left| \\left( \\sin(y), \\sin(x) \\right) \\right|\n",
    "    \\right) \\leq 0\n",
    "$$"
   ]
  },
  {
   "cell_type": "code",
   "execution_count": null,
   "id": "3a015f5a-f85b-4f7c-bd80-2e005abea4f6",
   "metadata": {},
   "outputs": [],
   "source": [
    "def func(X, Y):\n",
    "    XY = np.dstack(np.meshgrid(X, Y)).reshape(-1, 2)\n",
    "    p1 = 4 * np.arctan2(*np.sin(XY).T)\n",
    "    p2 = 16 * np.linalg.norm(np.sin(XY), axis=1)\n",
    "    return np.sin(p1 - p2) <= 0"
   ]
  },
  {
   "cell_type": "code",
   "execution_count": null,
   "id": "29464ca4-5183-47b6-ab4b-9c4f14275062",
   "metadata": {},
   "outputs": [],
   "source": [
    "N = 5000\n",
    "X, Y = np.linspace(-10, 10, N), np.linspace(-10, 10, N)\n",
    "Z = func(X, Y)"
   ]
  },
  {
   "cell_type": "code",
   "execution_count": null,
   "id": "bb145965-1cb2-4b99-99d0-9934e9059902",
   "metadata": {},
   "outputs": [],
   "source": [
    "fig, ax = plt.subplots(facecolor='black')\n",
    "\n",
    "ax.axis(False)\n",
    "ax.imshow(Z.reshape(N, N), cmap='Greys')\n",
    "\n",
    "eq = '$\\sin \\\\left(\\\n",
    "          4 \\\\arctan \\\\left( \\sin(y), \\sin(x) \\\\right)\\\n",
    "          -\\\n",
    "          16 \\\\left| \\\\left( \\sin(y), \\sin(x) \\\\right) \\\\right|\\\n",
    "      \\\\right) \\leq 0$'\n",
    "ax.text(0.01, -0.04, eq, fontsize=8, color='white',\n",
    "        ha='left', va='center', transform=ax.transAxes)\n",
    "ax.text(0.05, -0.09, \"'Eyes'\",\n",
    "        fontsize=8, style='italic', color='white',\n",
    "        ha='left', va='center', transform=ax.transAxes)\n",
    "ax.text(0.95, -0.09, 'idea by @Pixelated_Donut',\n",
    "        fontsize=8, style='italic', color='white',\n",
    "        ha='right', va='center', transform=ax.transAxes)\n",
    "\n",
    "fname = os.path.join(ODIR, f'eyes_{N}x{N}.png')\n",
    "plt.savefig(fname, dpi=200, pad_inches=0, bbox_inches='tight')\n",
    "plt.show()"
   ]
  },
  {
   "cell_type": "markdown",
   "id": "d342042a-4cd3-46f6-9170-a415845f156d",
   "metadata": {},
   "source": [
    "## Identity\n",
    "\n",
    "*Idea from [@Pixelated_Donut](https://twitter.com/Pixelated_Donut/status/1744613591159119914) on Twitter.*\n",
    "\n",
    "$$\n",
    "    \\cos \\left(\n",
    "        x + y \\operatorname{sgn} \\left( \\sin(x) + \\sin(y) \\right)\n",
    "    \\right) \\leq 0\n",
    "$$"
   ]
  },
  {
   "cell_type": "code",
   "execution_count": null,
   "id": "d2213c26-937f-4415-aa84-7b7ac186f9e3",
   "metadata": {},
   "outputs": [],
   "source": [
    "def func(X, Y):\n",
    "    X, Y = np.meshgrid(X, Y)\n",
    "    return np.cos(X + Y * np.sign(np.sin(X) + np.sin(Y))) <= 0"
   ]
  },
  {
   "cell_type": "code",
   "execution_count": null,
   "id": "67b92e6e-4c56-47b7-94f0-0653d5a7ca71",
   "metadata": {},
   "outputs": [],
   "source": [
    "N = 5000\n",
    "X, Y = np.linspace(-10, 10, N), np.linspace(-10, 10, N)\n",
    "Z = func(X, Y)"
   ]
  },
  {
   "cell_type": "code",
   "execution_count": null,
   "id": "7a7920e6-6111-4fe4-8a56-a52cf9637b38",
   "metadata": {},
   "outputs": [],
   "source": [
    "fig, ax = plt.subplots(facecolor='black')\n",
    "\n",
    "ax.axis(False)\n",
    "ax.imshow(Z.reshape(N, N), cmap='Greys')\n",
    "\n",
    "eq = '$\\cos \\\\left(\\\n",
    "          x + y\\,\\operatorname{sgn} \\\\left( \\sin(x) + \\sin(y) \\\\right)\\\n",
    "      \\\\right) \\leq 0$'\n",
    "ax.text(0.01, -0.04, eq, fontsize=8, color='white',\n",
    "        ha='left', va='center', transform=ax.transAxes)\n",
    "ax.text(0.05, -0.09, \"'Identity'\",\n",
    "        fontsize=8, style='italic', color='white',\n",
    "        ha='left', va='center', transform=ax.transAxes)\n",
    "ax.text(0.95, -0.09, 'idea by @Pixelated_Donut',\n",
    "        fontsize=8, style='italic', color='white',\n",
    "        ha='right', va='center', transform=ax.transAxes)\n",
    "\n",
    "fname = os.path.join(ODIR, f'identity_{N}x{N}.png')\n",
    "plt.savefig(fname, dpi=200, pad_inches=0, bbox_inches='tight')\n",
    "plt.show()"
   ]
  },
  {
   "cell_type": "markdown",
   "id": "29e44acc-ec46-4e41-8185-e7d22fe36104",
   "metadata": {},
   "source": [
    "## Houndstooth pattern\n",
    "\n",
    "*Based on Feijs, L. M. (2012, July). Geometry and Computation of Houndstooth (Pied-de-poule). In Proceedings of Bridges 2012: Mathematics, Music, Art, Architecture, Culture (pp. 299-306).*"
   ]
  },
  {
   "cell_type": "code",
   "execution_count": null,
   "id": "1b62f74d-8819-4bad-a9f9-a4868d2b1a69",
   "metadata": {},
   "outputs": [],
   "source": [
    "from textwrap import dedent"
   ]
  },
  {
   "cell_type": "code",
   "execution_count": null,
   "id": "446ab2e3-525a-415a-bd88-90311a39d728",
   "metadata": {},
   "outputs": [],
   "source": [
    "W, H = 30, 30\n",
    "i = 1000\n",
    "N = 4\n",
    "a, b, c = [], [], []\n",
    "for x in range(W):\n",
    "    j = 0\n",
    "    for y in range(H):\n",
    "        a.append((i - j) % (2*N) < N)\n",
    "        b.append(i % (4*N) < 2*N)\n",
    "        c.append(j % (4*N) < 2*N)\n",
    "        j += 1\n",
    "    i += 1"
   ]
  },
  {
   "cell_type": "code",
   "execution_count": null,
   "id": "2b4cf017-d1a9-42de-9685-9a3ba4dbca67",
   "metadata": {},
   "outputs": [],
   "source": [
    "nr, nc = 3, 1\n",
    "fig, axes = plt.subplots(nr, nc, figsize=(nc*18, nr*1))\n",
    "\n",
    "for ax, k in zip(axes, [a, b, c]):\n",
    "    ax.axis(False)\n",
    "    ax.plot(k)\n",
    "\n",
    "plt.show()"
   ]
  },
  {
   "cell_type": "code",
   "execution_count": null,
   "id": "b90a3d91-d639-4d8f-a254-60eafa392f70",
   "metadata": {},
   "outputs": [],
   "source": [
    "def func(W, H, cell_size=1, N=1):\n",
    "    Z = np.zeros((H, W))\n",
    "    i = 0  # Trick to guarantee that `i-j >= 0`\n",
    "    for x in range(W):\n",
    "        j = 0\n",
    "        for y in range(H):\n",
    "            # Determine the color of the current cell\n",
    "            aij = i % (4*N) < 2*N if (i - j) % (2*N) < N else j % (4*N) < 2*N\n",
    "            x_cell = slice(x*cell_size, (x+1)*cell_size)\n",
    "            y_cell = slice(y*cell_size, (y+1)*cell_size)\n",
    "            Z[y_cell, x_cell] = 1 if aij else 0\n",
    "            j += 1\n",
    "        i += 1\n",
    "    return Z"
   ]
  },
  {
   "cell_type": "code",
   "execution_count": null,
   "id": "e9079acd-aae9-4063-aaa3-52fc9dd1bc72",
   "metadata": {},
   "outputs": [],
   "source": [
    "W, H, C, N = 1000, 1000, 2, 20\n",
    "Z = func(W, H, cell_size=C, N=N)"
   ]
  },
  {
   "cell_type": "code",
   "execution_count": null,
   "id": "6a20b79e-48e1-4352-8742-232cd3015e96",
   "metadata": {},
   "outputs": [],
   "source": [
    "fig, ax = plt.subplots(facecolor='black')\n",
    "\n",
    "ax.axis(False)\n",
    "ax.imshow(Z.reshape(H, W), cmap='Greys')\n",
    "\n",
    "eq = 'if $\\\\left[ (i - j)\\,\\,\\mathrm{mod}\\,\\,2N < N \\\\right]$ \\\n",
    " then $\\\\left[ i\\,\\,\\mathrm{mod}\\,\\,4N < 2N \\\\right]$ \\\n",
    " else $\\\\left[ j\\,\\,\\mathrm{mod}\\,\\,4N < 2N \\\\right]$'\n",
    "ax.text(0.01, -0.04, eq, fontsize=8, color='white',\n",
    "        ha='left', va='center', transform=ax.transAxes)\n",
    "ax.text(0.05, -0.09, \"'Generalized Pied-de-poule'\",\n",
    "        fontsize=8, style='italic', color='white',\n",
    "        ha='left', va='center', transform=ax.transAxes)\n",
    "ax.text(0.95, -0.09, 'based on Feijs, L. M. (2012)',\n",
    "        fontsize=8, style='italic', color='white',\n",
    "        ha='right', va='center', transform=ax.transAxes)\n",
    "\n",
    "fname = os.path.join(ODIR, f'houndstooth_{W}x{H}-cell{C}-type{N}.png')\n",
    "plt.savefig(fname, dpi=200, pad_inches=0, bbox_inches='tight')\n",
    "plt.show()"
   ]
  },
  {
   "cell_type": "code",
   "execution_count": null,
   "id": "9ec9a499-a7e5-4d61-a18d-9c6dcc16011a",
   "metadata": {},
   "outputs": [],
   "source": []
  },
  {
   "cell_type": "code",
   "execution_count": null,
   "id": "9fc5b624-cd9e-4ca0-8b89-0be48ea98ebf",
   "metadata": {},
   "outputs": [],
   "source": []
  }
 ],
 "metadata": {
  "kernelspec": {
   "display_name": "Python 3 (ipykernel)",
   "language": "python",
   "name": "python3"
  },
  "language_info": {
   "codemirror_mode": {
    "name": "ipython",
    "version": 3
   },
   "file_extension": ".py",
   "mimetype": "text/x-python",
   "name": "python",
   "nbconvert_exporter": "python",
   "pygments_lexer": "ipython3",
   "version": "3.9.18"
  }
 },
 "nbformat": 4,
 "nbformat_minor": 5
}
