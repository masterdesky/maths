{
 "cells": [
  {
   "cell_type": "markdown",
   "metadata": {},
   "source": [
    "# Creating checkboard pattern in different metrics"
   ]
  },
  {
   "cell_type": "code",
   "execution_count": null,
   "metadata": {},
   "outputs": [],
   "source": [
    "import os\n",
    "import sys\n",
    "import numpy as np\n",
    "import scipy.ndimage\n",
    "\n",
    "import seaborn as sns\n",
    "import matplotlib as mpl\n",
    "import matplotlib.cm as cm\n",
    "import matplotlib.pyplot as plt\n",
    "import matplotlib.colors as mcolors\n",
    "import matplotlib.gridspec as gridspec\n",
    "from mpl_toolkits.mplot3d import Axes3D\n",
    "from matplotlib.colors import hsv_to_rgb\n",
    "from mpl_toolkits.axes_grid1 import make_axes_locatable"
   ]
  },
  {
   "cell_type": "code",
   "execution_count": null,
   "metadata": {},
   "outputs": [],
   "source": [
    "# Various size parameters for plotting\n",
    "axistitlesize = 25\n",
    "axisticksize = 17\n",
    "axislabelsize = 26\n",
    "axislegendsize = 23\n",
    "axistextsize = 20\n",
    "axiscbarfontsize = 15"
   ]
  },
  {
   "cell_type": "code",
   "execution_count": null,
   "metadata": {},
   "outputs": [],
   "source": [
    "out = './output/'"
   ]
  },
  {
   "cell_type": "code",
   "execution_count": null,
   "metadata": {},
   "outputs": [],
   "source": [
    "cmaps = ['viridis', 'plasma', 'inferno', 'magma', 'cividis']"
   ]
  },
  {
   "cell_type": "markdown",
   "metadata": {},
   "source": [
    "## Checkboard creation"
   ]
  },
  {
   "cell_type": "code",
   "execution_count": null,
   "metadata": {},
   "outputs": [],
   "source": [
    "def create_domain(xy, N):\n",
    "    \"\"\"\n",
    "    Create coordinate system for an arbitrary complex domain,\n",
    "    \"\"\"\n",
    "    X = np.linspace(-xy, xy, N)\n",
    "    Y = np.linspace(-xy, xy, N)\n",
    "    X, Y = np.meshgrid(X, Y)\n",
    "    \n",
    "    return X + 1j*Y[::-1]\n",
    "\n",
    "def normalize(arr):\n",
    "    \"\"\"\n",
    "    Normalize data based on their min/max values.\n",
    "    \"\"\"\n",
    "    return (arr - np.min(arr)) / (np.max(arr) - np.min(arr))\n",
    "\n",
    "def corr_singular(z):\n",
    "    \"\"\"\n",
    "    Handle singular expressions\n",
    "    \"\"\"\n",
    "    r = np.finfo(np.float64).eps\n",
    "    return np.nan_to_num(z, nan=r, neginf=r, posinf=r)\n",
    "\n",
    "def calc_params(zz):\n",
    "    \"\"\"\n",
    "    Calculate the plotted parameters used to visualize the \"4D depth\"\n",
    "    of an arbitrary complex function in 2D.\n",
    "    \"\"\"\n",
    "    # Length of z\n",
    "    r = corr_singular(np.abs(zz))\n",
    "    # Argument of z\n",
    "    arg = normalize(np.angle(zz) % (2 * np.pi))\n",
    "    # Create logarithmic mask of z\n",
    "    mask = normalize(np.log2(r) % 1)\n",
    "    \n",
    "    return arg, mask\n",
    "\n",
    "def create_grid(zz):\n",
    "    \n",
    "    # Create base grid\n",
    "    x = zz.real\n",
    "    y = zz.imag\n",
    "    grid = cb(x, y) > 0\n",
    "    \n",
    "    # Find edges\n",
    "    img_sobel = scipy.ndimage.filters.sobel(grid)\n",
    "    bn_img = np.zeros([img_sobel.shape[0],img_sobel.shape[1]])\n",
    "    sbl_max = np.amax(abs(img_sobel))\n",
    "    bn_img = np.abs(img_sobel) >= (sbl_max/2.0)\n",
    "    \n",
    "    return grid, bn_img"
   ]
  },
  {
   "cell_type": "markdown",
   "metadata": {},
   "source": [
    "## Define checkboard function and other functions"
   ]
  },
  {
   "cell_type": "code",
   "execution_count": null,
   "metadata": {},
   "outputs": [],
   "source": [
    "cb = lambda x, y : (y%1 - 1/2) * (x%1 - 1/2)"
   ]
  },
  {
   "cell_type": "code",
   "execution_count": null,
   "metadata": {},
   "outputs": [],
   "source": [
    "fs = {\n",
    "    # Basic functions\n",
    "    # Parameters:\n",
    "    # [xy, f]\n",
    "    'f_p2' : [1.5, (lambda z : z**2)],\n",
    "    'f_p3' : [1.5, (lambda z : z**3)],\n",
    "    'f_p5m1' : [1.5, (lambda z : z**5 - 1)],\n",
    "    'f_log' : [3, (lambda z : np.log(z))],\n",
    "    'f_sin' : [3, (lambda z : np.sin(z))],\n",
    "    'f_sinz' : [1.1, (lambda z : np.sin(1/z))],\n",
    "\n",
    "    # Functions that look interesting\n",
    "    'f_nice_1' : [2, (lambda z : (z**2 - 1j) / (2*z**2 + 2j))],\n",
    "    'f_nice_2' : [3, (lambda z : (z - 2)**2 * (z + 1 - 2j) * (z + 2 - 2j) / z**3)],\n",
    "    'f_nice_3' : [3, (lambda z : ((z**2 - 1) * (z - 2 - 1j)**2) / (z**2 + 2 + 2j))],\n",
    "    \n",
    "    # From AFG\n",
    "    'f_tiles' : [10, (lambda x, y : cb(x,y) * cb(np.sqrt(2)/2 * (x+y), np.sqrt(2)/2 * (y-x)))],\n",
    "}"
   ]
  },
  {
   "cell_type": "markdown",
   "metadata": {},
   "source": [
    "### Calculate function on an arbitrary domain"
   ]
  },
  {
   "cell_type": "code",
   "execution_count": null,
   "metadata": {},
   "outputs": [],
   "source": [
    "# Choose a function\n",
    "f = fs['f_nice_3']\n",
    "\n",
    "# Create domain for plot\n",
    "z = create_domain(xy=f[0], N=2000)\n",
    "# Calculate function values\n",
    "zz = f[1](z)\n",
    "# Correct singularities (if exist)\n",
    "zz = corr_singular(zz)"
   ]
  },
  {
   "cell_type": "code",
   "execution_count": null,
   "metadata": {},
   "outputs": [],
   "source": [
    "arg, mask = calc_params(zz)\n",
    "grid, bn_img = create_grid(zz)"
   ]
  },
  {
   "cell_type": "code",
   "execution_count": null,
   "metadata": {},
   "outputs": [],
   "source": [
    "nrows = 1\n",
    "ncols = 2\n",
    "fig, axes = plt.subplots(nrows, ncols, figsize=(ncols*15, nrows*15))\n",
    "\n",
    "axes[0].imshow(grid, cmap='Greys_r')\n",
    "axes[1].imshow(bn_img, cmap='Greys')\n",
    "\n",
    "plt.show()"
   ]
  },
  {
   "cell_type": "code",
   "execution_count": null,
   "metadata": {},
   "outputs": [],
   "source": [
    "fig, axes = plt.subplots(figsize=(15,15))\n",
    "axes.set_aspect('equal')\n",
    "axes.axis('off')\n",
    "\n",
    "im = axes.imshow(arg + mask + bn_img*0.5,\n",
    "                 cmap=cmaps[2])\n",
    "im.set_extent([-f[0], f[0], -f[0], f[0]])\n",
    "\n",
    "plt.show()"
   ]
  },
  {
   "cell_type": "code",
   "execution_count": null,
   "metadata": {},
   "outputs": [],
   "source": []
  },
  {
   "cell_type": "code",
   "execution_count": null,
   "metadata": {},
   "outputs": [],
   "source": []
  }
 ],
 "metadata": {
  "kernelspec": {
   "display_name": "Python 3 (ipykernel)",
   "language": "python",
   "name": "python3"
  },
  "language_info": {
   "codemirror_mode": {
    "name": "ipython",
    "version": 3
   },
   "file_extension": ".py",
   "mimetype": "text/x-python",
   "name": "python",
   "nbconvert_exporter": "python",
   "pygments_lexer": "ipython3",
   "version": "3.11.6"
  }
 },
 "nbformat": 4,
 "nbformat_minor": 4
}
