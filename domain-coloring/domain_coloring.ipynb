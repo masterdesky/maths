{
 "cells": [
  {
   "cell_type": "markdown",
   "metadata": {},
   "source": [
    "# Domain coloring - Visualizing complex functions"
   ]
  },
  {
   "cell_type": "code",
   "execution_count": null,
   "metadata": {},
   "outputs": [],
   "source": [
    "import os\n",
    "import numpy as np\n",
    "\n",
    "import seaborn as sns\n",
    "import matplotlib as mpl\n",
    "import matplotlib.cm as cm\n",
    "import matplotlib.pyplot as plt\n",
    "import matplotlib.colors as mcolors\n",
    "import matplotlib.gridspec as gridspec\n",
    "from matplotlib.colors import hsv_to_rgb"
   ]
  },
  {
   "cell_type": "code",
   "execution_count": null,
   "metadata": {},
   "outputs": [],
   "source": [
    "fout = './out/'\n",
    "ffmt = 'png'"
   ]
  },
  {
   "cell_type": "code",
   "execution_count": null,
   "metadata": {},
   "outputs": [],
   "source": [
    "cmaps = ['viridis', 'plasma', 'inferno', 'magma', 'cividis']"
   ]
  },
  {
   "cell_type": "markdown",
   "metadata": {},
   "source": [
    "## Domain coloring basics"
   ]
  },
  {
   "cell_type": "code",
   "execution_count": null,
   "metadata": {},
   "outputs": [],
   "source": [
    "def create_domain(xy, N):\n",
    "    '''\n",
    "    Create coordinate system for an arbitrary complex domain.\n",
    "    '''\n",
    "    X = np.linspace(-xy, xy, N)\n",
    "    Y = np.linspace(-xy, xy, N)\n",
    "    X, Y = np.meshgrid(X, Y)\n",
    "    return X + 1j*Y[::-1]\n",
    "\n",
    "def normalize(arr):\n",
    "    '''\n",
    "    Normalize data based on their min/max values.\n",
    "    '''\n",
    "    return (arr - np.min(arr)) / (np.max(arr) - np.min(arr))\n",
    "\n",
    "def corr_singular(z):\n",
    "    '''\n",
    "    Handle singular expressions.\n",
    "    '''\n",
    "    r = np.finfo(np.float64).eps\n",
    "    return np.nan_to_num(z, nan=r, neginf=r, posinf=r)\n",
    "\n",
    "def calc_params(zz):\n",
    "    '''\n",
    "    Calculate the plotted parameters used to visualize the \"4D depth\"\n",
    "    of an arbitrary complex function in 2D.\n",
    "    '''\n",
    "    r = corr_singular(np.abs(zz))                # Length\n",
    "    arg = normalize(np.angle(zz) % (2 * np.pi))  # Argument\n",
    "    mask = normalize(np.log2(r) % 1)             # Create logarithmic mask\n",
    "    return arg, mask"
   ]
  },
  {
   "cell_type": "markdown",
   "metadata": {},
   "source": [
    "### Define complex functions"
   ]
  },
  {
   "cell_type": "code",
   "execution_count": null,
   "metadata": {},
   "outputs": [],
   "source": [
    "fs = {\n",
    "    # Basic functions\n",
    "    # Parameters:\n",
    "    # xy, f\n",
    "    'f_p2' : [1.5, (lambda z : z**2)],\n",
    "    'f_p3' : [1.5, (lambda z : z**3)],\n",
    "    'f_p5m1' : [1.5, (lambda z : z**5 - 1)],\n",
    "    'f_log' : [3, (lambda z : np.log(z))],\n",
    "    'f_sin' : [3, (lambda z : np.sin(z))],\n",
    "    'f_sinz' : [1.1, (lambda z : np.sin(1/z))],\n",
    "\n",
    "    # Functions that look interesting\n",
    "    'f_nice_1' : [2, (lambda z : (z**2 - 1j) / (2*z**2 + 2j))],\n",
    "    'f_nice_2' : [3, (lambda z : (z - 2)**2 * (z + 1 - 2j) * (z + 2 - 2j) / z**3)],\n",
    "    'f_nice_3' : [3, (lambda z : ((z**2 - 1) * (z - 2 - 1j)**2) / (z**2 + 2 + 2j))],\n",
    "}"
   ]
  },
  {
   "cell_type": "markdown",
   "metadata": {},
   "source": [
    "### Calculate function and other parameters on an arbitrary domain"
   ]
  },
  {
   "cell_type": "code",
   "execution_count": null,
   "metadata": {},
   "outputs": [],
   "source": [
    "# Choose a function\n",
    "f = fs['f_sinz']\n",
    "\n",
    "# Create domain for plot\n",
    "z = create_domain(xy=f[0], N=2000)\n",
    "# Calculate function values\n",
    "zz = f[1](z)\n",
    "# Correct singularities (if exist)\n",
    "zz = corr_singular(zz)"
   ]
  },
  {
   "cell_type": "code",
   "execution_count": null,
   "metadata": {},
   "outputs": [],
   "source": [
    "arg, mask = calc_params(zz)"
   ]
  },
  {
   "cell_type": "markdown",
   "metadata": {},
   "source": [
    "### Plot components and final masked image"
   ]
  },
  {
   "cell_type": "code",
   "execution_count": null,
   "metadata": {},
   "outputs": [],
   "source": [
    "nr, nc = 1, 3\n",
    "fig, axes = plt.subplots(nr, nc, figsize=(nc*6, nr*6), dpi=120,\n",
    "                         facecolor='ghostwhite')\n",
    "fig.subplots_adjust(wspace=0.05)\n",
    "\n",
    "axistitlesize = 16\n",
    "ax = axes[0]\n",
    "ax.imshow(arg, cmap=cmaps[2])\n",
    "ax.set_title('$\\mathrm{arg} \\\\left( f(z) \\\\right)$',\n",
    "             fontsize=axistitlesize)\n",
    "\n",
    "ax = axes[1]\n",
    "ax.imshow(mask, cmap='Greys_r')\n",
    "ax.set_title('$\\mathrm{frac} \\\\left( \\log_{2} (|f(z)|) \\\\right)$',\n",
    "             fontsize=axistitlesize)\n",
    "\n",
    "ax = axes[2]\n",
    "ax.imshow(arg + mask, cmap=cmaps[2])\n",
    "ax.set_title('$\\mathrm{arg} \\\\left( f(z) \\\\right) + \\mathrm{frac} \\\\left( \\log_{2} (|f(z)|) \\\\right)$',\n",
    "             fontsize=axistitlesize)\n",
    "\n",
    "for ax in axes:\n",
    "    ax.set_aspect('equal')\n",
    "    ax.axis('off')\n",
    "\n",
    "plt.show()"
   ]
  },
  {
   "cell_type": "markdown",
   "metadata": {},
   "source": [
    "## Create gridlines"
   ]
  },
  {
   "cell_type": "code",
   "execution_count": null,
   "metadata": {},
   "outputs": [],
   "source": [
    "def create_grid(zz, thres):\n",
    "    # Create base grid\n",
    "    x = zz.real\n",
    "    y = zz.imag\n",
    "    g = lambda x, y : (y%1 - 0.5) * (x%1 - 0.5)\n",
    "    grid = g(x, y) > 0\n",
    "\n",
    "    # Other method for grid creation\n",
    "    '''grid = np.zeros_like(zz.real)\n",
    "    for zz_c in [zz.real, zz.imag]:\n",
    "        g = np.abs((np.abs(zz_c) % 1) - 0.5)\n",
    "        g[g < thres] = 0\n",
    "        g[g >= thres] = 1\n",
    "        grid += g\n",
    "    grid[grid == 2] = 1\n",
    "    grid = np.abs(grid - 1)'''\n",
    "    return grid"
   ]
  },
  {
   "cell_type": "code",
   "execution_count": null,
   "metadata": {},
   "outputs": [],
   "source": [
    "grid = create_grid(zz, thres=0.48)"
   ]
  },
  {
   "cell_type": "code",
   "execution_count": null,
   "metadata": {},
   "outputs": [],
   "source": [
    "nr, nc = 1, 3\n",
    "fig, axes = plt.subplots(nr, nc, figsize=(nc*6, nr*6), dpi=120,\n",
    "                         facecolor='ghostwhite')\n",
    "fig.subplots_adjust(wspace=0.05)\n",
    "\n",
    "axistitlesize = 16\n",
    "ax = axes[0]\n",
    "ax.imshow(arg + mask, cmap=cmaps[2])\n",
    "ax.set_title('$\\mathrm{arg} \\\\left( f(z) \\\\right) + \\mathrm{frac} \\\\left( \\log_{2} (|f(z)|) \\\\right)$',\n",
    "             fontsize=axistitlesize)\n",
    "\n",
    "ax = axes[1]\n",
    "ax.imshow(grid, cmap='Greys_r', interpolation='bilinear')\n",
    "ax.set_title('grid',\n",
    "             fontsize=axistitlesize)\n",
    "\n",
    "ax = axes[2]\n",
    "ax.imshow(arg + mask + grid*0.5, cmap=cmaps[2])\n",
    "#ax.imshow(grid, cmap='Greys_r', alpha=0.1)\n",
    "ax.set_title('$\\mathrm{arg} \\\\left( f(z) \\\\right) + \\mathrm{frac} \\\\left( \\log_{2} (|f(z)|) \\\\right) + \\mathrm{grid}$',\n",
    "             fontsize=axistitlesize)\n",
    "\n",
    "for ax in axes:\n",
    "    ax.set_aspect('equal')\n",
    "    ax.axis('off')\n",
    "\n",
    "plt.show()"
   ]
  },
  {
   "cell_type": "markdown",
   "metadata": {},
   "source": [
    "## Final image with perceptually uniform colormaps\n",
    "\n",
    "*Or more like perceptually uniform colormaps, which are implemented in `matplotlib`"
   ]
  },
  {
   "cell_type": "code",
   "execution_count": null,
   "metadata": {},
   "outputs": [],
   "source": [
    "def plot_collection(arg, mask, grid,\n",
    "                    grid_alpha=0.5):\n",
    "    plt.figure(figsize=(15*3,15*2),\n",
    "               facecolor='ghostwhite')\n",
    "    gs = gridspec.GridSpec(2, 6)\n",
    "    gs.update(hspace=0.05, wspace=0.05)\n",
    "\n",
    "    ax1 = plt.subplot(gs[0, :2])\n",
    "    ax2 = plt.subplot(gs[0, 2:4])\n",
    "    ax3 = plt.subplot(gs[0, 4:6])\n",
    "    ax4 = plt.subplot(gs[1, 1:3])\n",
    "    ax5 = plt.subplot(gs[1, 3:5])\n",
    "    axes = [ax1, ax2, ax3, ax4, ax5]\n",
    "\n",
    "    for i, cmap in enumerate(cmaps):\n",
    "        axes[i].set_aspect('equal')\n",
    "        axes[i].axis('off')\n",
    "\n",
    "        im = axes[i].imshow(arg + mask + grid*grid_alpha, cmap=cmap)\n",
    "\n",
    "    plt.show()"
   ]
  },
  {
   "cell_type": "code",
   "execution_count": null,
   "metadata": {},
   "outputs": [],
   "source": [
    "plot_collection(arg=arg, mask=mask, grid=grid, grid_alpha=0.4)"
   ]
  },
  {
   "cell_type": "markdown",
   "metadata": {},
   "source": [
    "### Save all function plot"
   ]
  },
  {
   "cell_type": "code",
   "execution_count": null,
   "metadata": {},
   "outputs": [],
   "source": [
    "def save_plots(fs, grid_alpha,\n",
    "               colormaps=None):\n",
    "    \"\"\"\n",
    "    \n",
    "    Parameters\n",
    "    ----------\n",
    "    fs : dict\n",
    "        List of lambda function to be plotted\n",
    "        \n",
    "    grid_alpha : float in [0, 1]\n",
    "        Alpha of the coordinate lines on the image\n",
    "    \"\"\" \n",
    "    for i, (fn, fl) in enumerate(fs.items()):\n",
    "        # Create domain for plot\n",
    "        z = create_domain(xy=fl[0], N=2000)\n",
    "        # Calculate function values\n",
    "        zz = fl[1](z)\n",
    "        # Correct singularities (if exist)\n",
    "        zz = corr_singular(zz)\n",
    "        # Calculate plotted parameters\n",
    "        arg, mask = calc_params(zz)\n",
    "        # Create coordinate grid\n",
    "        grid = create_grid(zz, thres=0.48)\n",
    "        \n",
    "        # Save image\n",
    "        fig, axes = plt.subplots(figsize=(12,12))\n",
    "        cmap = colormaps[i] if colormaps is not None else np.random.choice(cmaps)\n",
    "        plt.imsave(out + '{0}_alpha-{1}.png'.format(fn, grid_alpha),\n",
    "                   arr=(arg + mask + grid*grid_alpha),\n",
    "                   cmap=cmap,\n",
    "                   dpi=200)\n",
    "        plt.close()"
   ]
  },
  {
   "cell_type": "code",
   "execution_count": null,
   "metadata": {},
   "outputs": [],
   "source": [
    "colormaps = [\n",
    "    cmaps[2], #f_p2\n",
    "    cmaps[0], #f_p3\n",
    "    cmaps[3], #f_p5m1\n",
    "    cmaps[4], #f_log\n",
    "    cmaps[3], #f_sin\n",
    "    cmaps[3], #f_sinz\n",
    "\n",
    "    cmaps[2], #f_nice_1\n",
    "    cmaps[2], #f_nice_2\n",
    "    cmaps[3], #f_nice_3\n",
    "]\n",
    "\n",
    "save_plots(fs=fs, grid_alpha=0.4,\n",
    "           colormaps=colormaps)"
   ]
  },
  {
   "cell_type": "markdown",
   "metadata": {},
   "source": [
    "## Domain coloring with `HSL` color model\n",
    "\n",
    "(Currently thrash...)"
   ]
  },
  {
   "cell_type": "code",
   "execution_count": null,
   "metadata": {},
   "outputs": [],
   "source": [
    "def create_HSL_model(zz):\n",
    "    \"\"\"\n",
    "    Create the HSV color model for the function domain that will be plotted.\n",
    "    \n",
    "    H, S, L parameters from here:\n",
    "    https://en.wikipedia.org/wiki/Domain_coloring\n",
    "    \n",
    "    Converting HSL to RGB:\n",
    "    https://en.wikipedia.org/wiki/HSL_and_HSV#HSL_to_RGB\n",
    "    \"\"\"\n",
    "    # Create HSL model\n",
    "    H = np.angle(zz)\n",
    "    S = np.ones_like(H)\n",
    "    L = 2 / np.pi * np.arctan(np.abs(zz))\n",
    "\n",
    "    ## Convert it to RGB\n",
    "    # 1. Calculate RGB parameters\n",
    "    C = (1 - np.abs(2*L - 1)) * S       # Chroma\n",
    "    H_ = np.rad2deg(H) / 60\n",
    "    X = C * (1 - np.abs((H_ % 2) - 1))  # Some intermediate value\n",
    "    m = L - C/2                         # Some color equalization\n",
    "    zero = np.zeros_like(H_)\n",
    "    \n",
    "    # 2. Calculate RGB values\n",
    "    R = np.zeros_like(H_)\n",
    "    G = np.zeros_like(H_)\n",
    "    B = np.zeros_like(H_)\n",
    "    \n",
    "    # Here\n",
    "    #   - 0: C\n",
    "    #   - 1: X\n",
    "    #   - 2: zeros\n",
    "    p = [C, X, zero]\n",
    "    rgb_values = [\n",
    "        [0, 1, 2],  # if 0 < H_ < 1\n",
    "        [1, 0, 2],  # if 1 < H_ < 2\n",
    "        [2, 0, 1],  # if 2 < H_ < 3\n",
    "        [2, 1, 0],  # if 3 < H_ < 4\n",
    "        [1, 2, 0],  # if 4 < H_ < 5\n",
    "        [0, 2, 1],  # if 5 < H_ < 6\n",
    "    ]\n",
    "    for lim in range(0, 6):\n",
    "        for rgb, val in zip([R,G,B], [p[r] for r in rgb_values[lim]]):\n",
    "            mask = (lim <= H_) + (H_ < lim+1)\n",
    "            rgb[mask] = val[mask]\n",
    "    \n",
    "    # 3. Create RGB table\n",
    "    rgb = np.dstack((R+m,G+m,B+m))\n",
    "    rgb[rgb < 0] = 0\n",
    "    \n",
    "    return rgb"
   ]
  },
  {
   "cell_type": "code",
   "execution_count": null,
   "metadata": {},
   "outputs": [],
   "source": [
    "# Create HSL map and convert it to RGB\n",
    "rgb = create_HSL_model(zz=zz)"
   ]
  },
  {
   "cell_type": "code",
   "execution_count": null,
   "metadata": {},
   "outputs": [],
   "source": [
    "fig, axes = plt.subplots(figsize=(12,12))\n",
    "axes.set_aspect('equal')\n",
    "axes.axis('off')\n",
    "axes.invert_yaxis()\n",
    "\n",
    "axes.imshow(rgb)\n",
    "\n",
    "plt.show()"
   ]
  },
  {
   "cell_type": "markdown",
   "metadata": {},
   "source": [
    "## Domain coloring with `HSV` color model\n",
    "\n",
    "(`HSV` values are not mine.)"
   ]
  },
  {
   "cell_type": "code",
   "execution_count": null,
   "metadata": {},
   "outputs": [],
   "source": [
    "def create_HSV_model(zz):\n",
    "    \"\"\"\n",
    "    Create the HSV color model for the function domain that will be plotted\n",
    "    \n",
    "    H, S, V parameters from here:\n",
    "    https://github.com/hernanat/dcolor/blob/master/dcolor.py\n",
    "    \"\"\"\n",
    "    # Hue determined by arg(z)\n",
    "    H = normalize(np.angle(zz) % (2 * np.pi))\n",
    "    r = corr_singular(np.log2(1 + np.abs(zz)))\n",
    "    S = (1 + np.abs(np.sin(2 * np.pi * r))) / 2\n",
    "    V = (1 + np.abs(np.cos(2 * np.pi * r))) / 2\n",
    "\n",
    "    return H,S,V"
   ]
  },
  {
   "cell_type": "code",
   "execution_count": null,
   "metadata": {},
   "outputs": [],
   "source": [
    "# Create HSV model\n",
    "H,S,V = create_HSV_model(zz)\n",
    "# Convert to RGB\n",
    "rgb = hsv_to_rgb(np.dstack((H,S,V)))"
   ]
  },
  {
   "cell_type": "code",
   "execution_count": null,
   "metadata": {},
   "outputs": [],
   "source": [
    "fig, axes = plt.subplots(figsize=(12,12))\n",
    "axes.set_aspect('equal')\n",
    "axes.axis('off')\n",
    "axes.invert_yaxis()\n",
    "\n",
    "axes.imshow(rgb)\n",
    "\n",
    "plt.show()"
   ]
  },
  {
   "cell_type": "markdown",
   "metadata": {},
   "source": [
    "## Julia sets"
   ]
  },
  {
   "cell_type": "code",
   "execution_count": null,
   "metadata": {},
   "outputs": [],
   "source": [
    "def f(zz, c):\n",
    "    return zz**2 + c"
   ]
  },
  {
   "cell_type": "code",
   "execution_count": null,
   "metadata": {},
   "outputs": [],
   "source": [
    "def iterate(zz, c, N=5):\n",
    "\n",
    "    zz = f(zz, c)\n",
    "    zz = corr_singular(zz)\n",
    "    \n",
    "    if N > 1:\n",
    "        return iterate(zz, c, N-1)\n",
    "    else:\n",
    "        return zz"
   ]
  },
  {
   "cell_type": "code",
   "execution_count": null,
   "metadata": {},
   "outputs": [],
   "source": [
    "nrows = 2\n",
    "ncols = 3\n",
    "fig, axes = plt.subplots(nrows, ncols, figsize=(ncols*9,nrows*9))\n",
    "fig.subplots_adjust(hspace=0.05, wspace=0.05)\n",
    "\n",
    "for i in range(nrows):\n",
    "    for j in range(ncols):\n",
    "        ax = axes[i,j]\n",
    "        ax.set_aspect('equal')\n",
    "        ax.axis('off')\n",
    "\n",
    "        it = (i*ncols + j) + 1\n",
    "        zz = create_domain(xy=2, N=1000)\n",
    "        zz = iterate(zz, c=(-0.75 - 0.2j), N=it)\n",
    "        arg, mask = calc_params(zz)\n",
    "        \n",
    "        ax.set_title('Iteration : {0}'.format(it))\n",
    "        \n",
    "        ax.imshow(arg + mask, cmap=cmaps[3])\n",
    "\n",
    "plt.show()"
   ]
  },
  {
   "cell_type": "code",
   "execution_count": null,
   "metadata": {},
   "outputs": [],
   "source": [
    "fig, axes = plt.subplots(figsize=(14,14))\n",
    "\n",
    "axes.set_aspect('equal')\n",
    "axes.axis('off')\n",
    "\n",
    "it = 20\n",
    "zz = create_domain(xy=2, N=1000)\n",
    "zz = iterate(zz, c=(-0.75 - 0.2j), N=it)\n",
    "arg, mask = calc_params(zz)\n",
    "\n",
    "axes.imshow(arg + mask, cmap=cmaps[2])\n",
    "\n",
    "axes.set_title('Iteration : {0}'.format(it))\n",
    "\n",
    "plt.show()"
   ]
  },
  {
   "cell_type": "code",
   "execution_count": null,
   "metadata": {},
   "outputs": [],
   "source": []
  }
 ],
 "metadata": {
  "kernelspec": {
   "display_name": "Python 3 (ipykernel)",
   "language": "python",
   "name": "python3"
  },
  "language_info": {
   "codemirror_mode": {
    "name": "ipython",
    "version": 3
   },
   "file_extension": ".py",
   "mimetype": "text/x-python",
   "name": "python",
   "nbconvert_exporter": "python",
   "pygments_lexer": "ipython3",
   "version": "3.11.6"
  }
 },
 "nbformat": 4,
 "nbformat_minor": 4
}
