{
 "cells": [
  {
   "cell_type": "code",
   "execution_count": null,
   "metadata": {},
   "outputs": [],
   "source": [
    "import numpy as np\n",
    "import pandas as pd\n",
    "from numba import jit\n",
    "\n",
    "import matplotlib.pyplot as plt\n",
    "\n",
    "from colorcet import palette\n",
    "import datashader as ds\n",
    "import datashader.colors as dc\n",
    "import datashader.utils as utils\n",
    "from datashader import transfer_functions as tf"
   ]
  },
  {
   "cell_type": "code",
   "execution_count": null,
   "metadata": {
    "tags": []
   },
   "outputs": [],
   "source": [
    "color_keys = list(dc.color_lookup)\n",
    "color_values = [dc.color_lookup[key] for key in color_keys]\n",
    "\n",
    "num_of_colors = len(color_keys)\n",
    "\n",
    "ncols = 8\n",
    "nrows = num_of_colors // ncols + 1\n",
    "fig, axes = plt.subplots(nrows=nrows, ncols=ncols, figsize=(ncols*6, nrows*6))\n",
    "\n",
    "titlesize = 15\n",
    "\n",
    "for idx, color in enumerate(color_values):\n",
    "    x = idx // ncols\n",
    "    y = idx % ncols\n",
    "    axes[x][y].set_facecolor(color)\n",
    "    axes[x][y].set_title('{0}\\n{1}'.format(color_keys[idx], color), fontsize=titlesize, fontweight='bold')\n",
    "\n",
    "for idx in range(num_of_colors, nrows*ncols):\n",
    "    x = idx // ncols\n",
    "    y = idx % ncols\n",
    "    axes[x][y].axis('off')\n",
    "\n",
    "plt.show()"
   ]
  },
  {
   "cell_type": "markdown",
   "metadata": {
    "tags": []
   },
   "source": [
    "## Define attractors"
   ]
  },
  {
   "cell_type": "code",
   "execution_count": null,
   "metadata": {},
   "outputs": [],
   "source": [
    "@jit(nopython=True)\n",
    "def Clifford(x, y, a, b, c, d, *o):\n",
    "\n",
    "    return np.sin(a * y) + c * np.cos(a * x), \\\n",
    "           np.sin(b * x) + d * np.cos(b * y)"
   ]
  },
  {
   "cell_type": "code",
   "execution_count": null,
   "metadata": {},
   "outputs": [],
   "source": [
    "@jit(nopython=True)\n",
    "def Symmetric_Icon(x, y, a, b, g, om, l, d, *o):\n",
    "    zzbar = x*x + y*y\n",
    "    p = a*zzbar + l\n",
    "    zreal, zimag = x, y\n",
    "    \n",
    "    for i in range(1, d-1):\n",
    "        za, zb = zreal * x - zimag * y, zimag * x + zreal * y\n",
    "        zreal, zimag = za, zb\n",
    "    \n",
    "    zn = x*zreal - y*zimag\n",
    "    p += b*zn\n",
    "    \n",
    "    return p*x + g*zreal - om*y, \\\n",
    "           p*y - g*zimag + om*x"
   ]
  },
  {
   "cell_type": "code",
   "execution_count": null,
   "metadata": {},
   "outputs": [],
   "source": [
    "@jit(nopython=True)\n",
    "def Ikeda(x, y, u, *o):\n",
    "    \n",
    "    t = 0.4 - 6/(1 + x*x + y*y)\n",
    "    \n",
    "    return 1 + u * (x * np.cos(t) - y * np.sin(t)), \\\n",
    "           u * (x * np.sin(t) + y * np.cos(t))"
   ]
  },
  {
   "cell_type": "code",
   "execution_count": null,
   "metadata": {},
   "outputs": [],
   "source": [
    "@jit(nopython=True)\n",
    "def Fractal_Dream(x, y, a, b, c, d, *o):\n",
    "    \"\"\"\n",
    "    x and y both should start at 0.1\n",
    "    Variables a and b are floating point values bewteen -3 and +3\n",
    "    Variables c and d are floating point values between -0.5 and +1.5\n",
    "    \"\"\"\n",
    "    return np.sin(y * b) + c * np.sin(x * b), \\\n",
    "           np.sin(x * a) + d * np.sin(y * a)"
   ]
  },
  {
   "cell_type": "markdown",
   "metadata": {},
   "source": [
    "## Calculating trajectories for choosen attractor"
   ]
  },
  {
   "cell_type": "code",
   "execution_count": null,
   "metadata": {},
   "outputs": [],
   "source": [
    "@jit(nopython=True)\n",
    "def trajectory_coords(att, x0, y0, a, b=0, c=0, d=0, e=0, f=0, n=1e07):\n",
    "    x = np.zeros(n)\n",
    "    x[0] = x0\n",
    "    \n",
    "    y = np.zeros(n)\n",
    "    y[0] = y0\n",
    "\n",
    "    for i in np.arange(n-1):\n",
    "        x[i+1], y[i+1] = att(x[i], y[i], a, b, c, d, e, f)\n",
    "\n",
    "    return x, y\n",
    "\n",
    "def trajectory(att, x0, y0, a, b=0, c=0, d=0, e=0, f=0, n=1e07):\n",
    "    \n",
    "    x, y = trajectory_coords(att, x0, y0, a, b, c, d, e, f, n)\n",
    "    \n",
    "    return pd.DataFrame(dict(x=x, y=y))"
   ]
  },
  {
   "cell_type": "code",
   "execution_count": null,
   "metadata": {},
   "outputs": [],
   "source": [
    "def plot(att, x0, y0, a, b=0, c=0, d=0, e=0, f=0, n=1e07, figscale=2e03, cmap=dc.viridis):\n",
    "    # Create attractor\n",
    "    df = trajectory(att, x0, y0, a, b, c, d, e, f, n=int(n))\n",
    "\n",
    "    cvs = ds.Canvas(plot_width=int(figscale), plot_height=int(figscale))\n",
    "    agg = cvs.points(df, 'x', 'y')\n",
    "    ds.transfer_functions.Image.border=0\n",
    "    img = tf.set_background(tf.shade(agg, cmap=cmap),'midnightblue')\n",
    "    utils.export_image(img=img, filename=('out/{0}_{1}_{2}_{3}_{4}_{5}_{6}_{7}'.format(att.__name__, a, b, c, d, e, f, n)))\n",
    "\n",
    "    return img"
   ]
  },
  {
   "cell_type": "code",
   "execution_count": null,
   "metadata": {},
   "outputs": [],
   "source": [
    "img = plot(att=Clifford, x0=0, y0=0, a=1.0, b=-1.5, c=1.2, d=-2.3, e=0, f=0, n=1e08, figscale=2e03)\n",
    "img"
   ]
  },
  {
   "cell_type": "code",
   "execution_count": null,
   "metadata": {},
   "outputs": [],
   "source": [
    "# 0.01, 0.01, 5.0, -1.0, 1.0, 0.188, -2.5, 5\n",
    "img = plot(att=Symmetric_Icon, x0=0.01, y0=0.01, a=3.5, b=-2.87, c=1.5, d=0.133, e=-2.23, f=4, n=1e07, figscale=2e03)\n",
    "img"
   ]
  },
  {
   "cell_type": "code",
   "execution_count": null,
   "metadata": {},
   "outputs": [],
   "source": [
    "img = plot(att=Ikeda, x0=0, y0=0, a=0.90102, b=0, c=0, d=0, e=0, f=0, n=1e07, figscale=2e03)\n",
    "img"
   ]
  },
  {
   "cell_type": "code",
   "execution_count": null,
   "metadata": {},
   "outputs": [],
   "source": [
    "# Examples:\n",
    "# x0=0.1, y0=0.1, a=-0.966918, b=2.879879, c=0.765145, d=0.744728, e=0, f=0\n",
    "img = plot(att=Fractal_Dream, x0=0.1, y0=0.1, a=-0.966918, b=2.879879, c=0.765145, d=0.744728, e=0, f=0,\n",
    "           n=5e08, figscale=2e03, cmap=)\n",
    "img"
   ]
  },
  {
   "cell_type": "code",
   "execution_count": null,
   "metadata": {},
   "outputs": [],
   "source": []
  }
 ],
 "metadata": {
  "kernelspec": {
   "display_name": "Python 3 (ipykernel)",
   "language": "python",
   "name": "python3"
  },
  "language_info": {
   "codemirror_mode": {
    "name": "ipython",
    "version": 3
   },
   "file_extension": ".py",
   "mimetype": "text/x-python",
   "name": "python",
   "nbconvert_exporter": "python",
   "pygments_lexer": "ipython3",
   "version": "3.11.0"
  }
 },
 "nbformat": 4,
 "nbformat_minor": 4
}
