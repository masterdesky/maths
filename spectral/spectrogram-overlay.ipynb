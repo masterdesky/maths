{
 "cells": [
  {
   "cell_type": "markdown",
   "id": "ee12d35e-1f56-451f-be63-02c5f867c4b7",
   "metadata": {},
   "source": [
    "# Overlay things on spectrogram"
   ]
  },
  {
   "cell_type": "code",
   "execution_count": null,
   "id": "181cd1eb-b1da-4526-b936-8a6d3891a19c",
   "metadata": {},
   "outputs": [],
   "source": [
    "import numpy as np\n",
    "from scipy import signal\n",
    "\n",
    "import matplotlib.pyplot as plt"
   ]
  },
  {
   "cell_type": "code",
   "execution_count": null,
   "id": "ca477e54-f101-4a8b-9feb-0f1672b8fae6",
   "metadata": {},
   "outputs": [],
   "source": [
    "fs = 10e3\n",
    "N = 1e5\n",
    "amp = 2 * np.sqrt(2)\n",
    "time = np.arange(N) / float(fs)\n",
    "mod = 1000*np.cos(2*np.pi*0.25*time)\n",
    "carrier = amp * np.sin(2*np.pi*3e3*time + mod)\n",
    "# Apply gaussian noise\n",
    "noise_power = 0.03 * fs / 2\n",
    "noise = np.random.normal(scale=np.sqrt(noise_power), size=time.shape)\n",
    "noise *= np.exp(-time/5)\n",
    "x = carrier + noise"
   ]
  },
  {
   "cell_type": "code",
   "execution_count": null,
   "id": "6cebd5f1-66d7-4278-8926-24794f8dc0e6",
   "metadata": {},
   "outputs": [],
   "source": [
    "f, t, Sxx = signal.spectrogram(x, fs)\n",
    "plt.pcolormesh(t, f, Sxx)\n",
    "plt.ylabel('Frequency [Hz]')\n",
    "plt.xlabel('Time [sec]')\n",
    "plt.show()"
   ]
  },
  {
   "cell_type": "code",
   "execution_count": null,
   "id": "99101995-10bb-45cb-b906-6b9dca4bc584",
   "metadata": {},
   "outputs": [],
   "source": []
  }
 ],
 "metadata": {
  "kernelspec": {
   "display_name": "Python 3 (ipykernel)",
   "language": "python",
   "name": "python3"
  },
  "language_info": {
   "codemirror_mode": {
    "name": "ipython",
    "version": 3
   },
   "file_extension": ".py",
   "mimetype": "text/x-python",
   "name": "python",
   "nbconvert_exporter": "python",
   "pygments_lexer": "ipython3",
   "version": "3.11.0"
  }
 },
 "nbformat": 4,
 "nbformat_minor": 5
}
