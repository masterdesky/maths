{
 "cells": [
  {
   "cell_type": "markdown",
   "id": "20fe232d-e507-4049-a02c-2ec456ec316e",
   "metadata": {},
   "source": [
    "# Newton$-$Raphson fractal for arbitrary functions"
   ]
  },
  {
   "cell_type": "code",
   "execution_count": null,
   "id": "371ff858-e8d9-412a-9252-189b2042c69e",
   "metadata": {},
   "outputs": [],
   "source": [
    "import numpy as np\n",
    "\n",
    "import seaborn as sns\n",
    "import matplotlib.cm as cm\n",
    "import matplotlib.pyplot as plt\n",
    "from matplotlib import colormaps"
   ]
  },
  {
   "cell_type": "code",
   "execution_count": null,
   "id": "dd03297c-6bf9-47c1-8d3f-d699c7a6b08b",
   "metadata": {},
   "outputs": [],
   "source": [
    "# Initialize seaborn with custom settings\n",
    "# Facecolor values from S. Conradi @S_Conradi/@profConradi\n",
    "# Source of color: https://hextoral.com/hex-color/F4F0E8/dunn-edwards/\n",
    "custom_settings = {\n",
    "    'figure.facecolor': '#f4f0e8',\n",
    "    'axes.facecolor': '#f4f0e8',\n",
    "    'axes.edgecolor': '0.7',\n",
    "    'axes.linewidth' : '2',\n",
    "    'grid.color': '0.7',\n",
    "    'grid.linestyle': '--',\n",
    "    'grid.alpha': 0.6,\n",
    "}\n",
    "sns.set_theme(rc=custom_settings)"
   ]
  },
  {
   "cell_type": "markdown",
   "id": "bee11b73-c931-4642-a39d-3a77d7ccfa15",
   "metadata": {},
   "source": [
    "## Define a grid of points"
   ]
  },
  {
   "cell_type": "code",
   "execution_count": null,
   "id": "044fdb64-d8ec-4663-adf1-06ff4849f59e",
   "metadata": {},
   "outputs": [],
   "source": [
    "def get_even_points(N, limx, limy):\n",
    "    '''\n",
    "    Get the number of points along the X and Y dimensions of an\n",
    "    arbitrary 2D grid, where the points are evenly distributed.\n",
    "\n",
    "    Parameters\n",
    "    ----------\n",
    "    N : float\n",
    "        Approximate number of points along the shorter side of the grid.\n",
    "    limx : tuple\n",
    "        The left and right limits of the border along the X dimension.\n",
    "    limy : tuple\n",
    "        The left and right limits of the border along the Y dimension.\n",
    "\n",
    "    Returns\n",
    "    -------\n",
    "    (Nx, Ny) : tuple of ints\n",
    "        The number of points along the X and Y dimension, respectively.\n",
    "    '''\n",
    "    dx = (limx[1]-limx[0]) / (limy[1]-limy[0])\n",
    "    Nx, Ny = int(round(N * max(dx, 1))), int(round(N * max(1/dx, 1)))\n",
    "    return Nx, Ny"
   ]
  },
  {
   "cell_type": "code",
   "execution_count": null,
   "id": "fd311866-b820-44cc-a9fc-2f48ee3f6226",
   "metadata": {},
   "outputs": [],
   "source": [
    "def get_grid(Nx, Ny, limx, limy):\n",
    "    '''\n",
    "    Generate a grid of points on the Re-Im complex space in an arbitrary\n",
    "    box size.\n",
    "    '''\n",
    "    X = np.meshgrid(np.linspace(*limx, Nx), np.linspace(*limy, Ny))\n",
    "    X = (X[0] + X[1]*1j).flatten()\n",
    "    return X"
   ]
  },
  {
   "cell_type": "code",
   "execution_count": null,
   "id": "0f201f10-18c2-4834-b963-6a2daac8849d",
   "metadata": {},
   "outputs": [],
   "source": [
    "N = 100\n",
    "limx, limy = (-5, 5), (-2.5, 2.5)\n",
    "Nx, Ny = get_even_points(N, limx, limy)\n",
    "G = get_grid(Nx, Ny, limx, limy)"
   ]
  },
  {
   "cell_type": "code",
   "execution_count": null,
   "id": "ce96a21c-ce13-423b-83ea-6467ae51a54d",
   "metadata": {},
   "outputs": [],
   "source": [
    "fig, ax = plt.subplots(figsize=(8, 8))\n",
    "ax.set_aspect('equal')\n",
    "ax.set_xlim(limx)\n",
    "ax.set_ylim(limy)\n",
    "ax.scatter(G.real, G.imag, color='0.3', s=1)\n",
    "plt.show()"
   ]
  },
  {
   "cell_type": "markdown",
   "id": "895254fb-2ad8-4eb4-bba6-63793df05b0a",
   "metadata": {},
   "source": [
    "## Find closest roots to points"
   ]
  },
  {
   "cell_type": "code",
   "execution_count": null,
   "id": "b95cd6fe-732e-42a3-b48c-0b8183e45969",
   "metadata": {},
   "outputs": [],
   "source": [
    "def closest_roots(R, X):\n",
    "    '''\n",
    "    Find the index of the closest root from a set of R roots to a given\n",
    "    X value(s).\n",
    "    '''\n",
    "    return np.argmin([np.abs(X - r) for r in R], axis=0)"
   ]
  },
  {
   "cell_type": "code",
   "execution_count": null,
   "id": "e2353f4a-5d3e-4964-8025-6042250396d4",
   "metadata": {},
   "outputs": [],
   "source": [
    "def nr_colors(R, X, cmap=cm.viridis):\n",
    "    '''\n",
    "    Generate a list of color values sampled from a colormap for a given\n",
    "    X value(s).\n",
    "\n",
    "    Parameters\n",
    "    ----------\n",
    "    R : list or array-like\n",
    "        A list of roots to check the neighbour relations to.\n",
    "    X : float or array-like\n",
    "        A value or an array of values to get color values for.\n",
    "    cmap : Callable or `~matplotlib.colors.Colormap`, default 'viridis'\n",
    "        A colormap instance to sample values from or a function to get\n",
    "        color values from.\n",
    "\n",
    "    Returns\n",
    "    -------\n",
    "    list\n",
    "        A list of RGBA color values sampled from a given colormap, each\n",
    "        corresponding to the element(s) in the input X.\n",
    "    '''\n",
    "    return cmap((r:=closest_roots(R, X))/max(r))"
   ]
  },
  {
   "cell_type": "code",
   "execution_count": null,
   "id": "1c5c3df1-ab0f-4756-ba2d-ee151bd1c8cf",
   "metadata": {},
   "outputs": [],
   "source": [
    "# Example usage with a specific function and derivative\n",
    "F = lambda z: np.cos(z)\n",
    "D = lambda z: -np.sin(z)\n",
    "R = np.pi * np.arange(-5, 5)"
   ]
  },
  {
   "cell_type": "code",
   "execution_count": null,
   "id": "adfe7c76-0576-4375-96f6-e79a756b9901",
   "metadata": {},
   "outputs": [],
   "source": [
    "fig, ax = plt.subplots(figsize=(8, 8))\n",
    "ax.set_aspect('equal')\n",
    "ax.set_xlim(limx)\n",
    "ax.set_ylim(limy)\n",
    "ax.scatter(G.real, G.imag, c=nr_colors(R, G), s=1)\n",
    "plt.show()"
   ]
  },
  {
   "cell_type": "markdown",
   "id": "abe1ff69-3ee3-47e9-a5d5-24e82c68801f",
   "metadata": {},
   "source": [
    "## Apply Newton$-$Raphson method on a grid of points"
   ]
  },
  {
   "cell_type": "code",
   "execution_count": null,
   "id": "565676b6-5219-4aab-99d4-42df52aef371",
   "metadata": {},
   "outputs": [],
   "source": [
    "from functools import reduce"
   ]
  },
  {
   "cell_type": "code",
   "execution_count": null,
   "id": "4ba661cb-5c38-4f5b-bc03-b855b97a1590",
   "metadata": {},
   "outputs": [],
   "source": [
    "def nr_step(F, D, X):\n",
    "    '''\n",
    "    Calculate a single step of the Newton-Raphson iterative method on\n",
    "    a polynomial, evaluated at given X value(s).\n",
    "\n",
    "    Parameters\n",
    "    ----------\n",
    "    P : newton.polynomial.Polynomial\n",
    "        A polynomial instance to apply the Newton-Raphson iterative\n",
    "        method on.\n",
    "    X : float or array-like\n",
    "        A value or an array of values to evaluate the input polynomial\n",
    "        at.\n",
    "    '''\n",
    "    return np.nan_to_num(X - F(X)/D(X))"
   ]
  },
  {
   "cell_type": "code",
   "execution_count": null,
   "id": "34c1ad03-cb26-40e2-aad1-54b5320eaa06",
   "metadata": {},
   "outputs": [],
   "source": [
    "def nr_iter(F, D, X, N=20):\n",
    "    '''\n",
    "    Calculate multiple consecutive steps of the Newton-Raphson iterative\n",
    "    method on a polynomial, evaluated at given X value(s).\n",
    "\n",
    "    Parameters\n",
    "    ----------\n",
    "    P : newton.polynomial.Polynomial\n",
    "        A polynomial instance to apply the Newton-Raphson iterative\n",
    "        method on.\n",
    "    X : float or array-like\n",
    "        A value or an array of values to evaluate the input polynomial\n",
    "        at.\n",
    "    N : int, default=20\n",
    "        Number of iteration to take.\n",
    "    '''\n",
    "    return reduce(lambda x, _: nr_step(F, D, x), range(N), X)"
   ]
  },
  {
   "cell_type": "code",
   "execution_count": null,
   "id": "9a458cce-cb75-43f8-a652-3fbf6e4d2126",
   "metadata": {},
   "outputs": [],
   "source": [
    "fig, ax = plt.subplots(figsize=(8, 8))\n",
    "ax.axis(False)\n",
    "ax.grid(False)\n",
    "ax.imshow(closest_roots(R, nr_iter(F, D, G, 3)).reshape(Ny, Nx), cmap=cm.gnuplot2)\n",
    "plt.show()"
   ]
  },
  {
   "cell_type": "markdown",
   "id": "93dd4829-1407-4acd-bca0-34e63e860572",
   "metadata": {},
   "source": [
    "## Connect everything above"
   ]
  },
  {
   "cell_type": "code",
   "execution_count": null,
   "id": "409242f4-7399-40ff-9d56-c8e802a72f27",
   "metadata": {},
   "outputs": [],
   "source": [
    "F = lambda z: np.nan_to_num(np.cos(z))\n",
    "D = lambda z: np.nan_to_num(-np.sin(z))\n",
    "R = np.pi * np.arange(-5, 5)"
   ]
  },
  {
   "cell_type": "code",
   "execution_count": null,
   "id": "29f17cb4-3b91-45d3-913b-822c13363aa1",
   "metadata": {},
   "outputs": [],
   "source": [
    "N = 4096\n",
    "c, r = (0, 0), (1, 3)\n",
    "limx, limy = (c[0]-r[0]/2, c[0]+r[0]/2), (c[1]-r[1]/2, c[1]+r[1]/2)\n",
    "Nx, Ny = get_even_points(N, limx, limy)\n",
    "G = get_grid(Nx, Ny, limx, limy)"
   ]
  },
  {
   "cell_type": "code",
   "execution_count": null,
   "id": "58885f53-7195-454f-850f-39835238176c",
   "metadata": {},
   "outputs": [],
   "source": [
    "%%time\n",
    "Gn = closest_roots(R, nr_iter(F, D, G, 100)).reshape(Ny, Nx)"
   ]
  },
  {
   "cell_type": "code",
   "execution_count": null,
   "id": "1675ee74-5075-484d-97da-8a5c62b125b2",
   "metadata": {},
   "outputs": [],
   "source": [
    "fig, ax = plt.subplots(figsize=(15, 15), facecolor='black')\n",
    "ax.axis(False)\n",
    "ax.grid(False)\n",
    "ax.imshow(Gn.T, cmap=cm.Spectral)\n",
    "plt.savefig('cos_z.png', dpi=1200, bbox_inches='tight', pad_inches=0.01)\n",
    "plt.show()"
   ]
  },
  {
   "cell_type": "code",
   "execution_count": null,
   "id": "13d188fc-1b82-42a2-b5eb-17320bc479ac",
   "metadata": {},
   "outputs": [],
   "source": []
  }
 ],
 "metadata": {
  "kernelspec": {
   "display_name": "Python 3 (ipykernel)",
   "language": "python",
   "name": "python3"
  },
  "language_info": {
   "codemirror_mode": {
    "name": "ipython",
    "version": 3
   },
   "file_extension": ".py",
   "mimetype": "text/x-python",
   "name": "python",
   "nbconvert_exporter": "python",
   "pygments_lexer": "ipython3",
   "version": "3.11.6"
  }
 },
 "nbformat": 4,
 "nbformat_minor": 5
}
