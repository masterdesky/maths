{
 "cells": [
  {
   "cell_type": "markdown",
   "id": "d4142dd8-aad6-4749-b132-6b37adeaf4ce",
   "metadata": {},
   "source": [
    "# Newton-Raphson fractal"
   ]
  },
  {
   "cell_type": "code",
   "execution_count": null,
   "id": "2516da0f-756c-4bbc-b117-df36ff7b02c1",
   "metadata": {},
   "outputs": [],
   "source": [
    "from polynomial import *\n",
    "from newton_plots import *"
   ]
  },
  {
   "cell_type": "code",
   "execution_count": null,
   "id": "2c3e9066-5e75-4483-a539-e26a06d782c4",
   "metadata": {},
   "outputs": [],
   "source": [
    "P = Polynomial(c=[1,0,0,1,-1,1])"
   ]
  },
  {
   "cell_type": "code",
   "execution_count": null,
   "id": "bc850adb-62ce-4b25-a838-d1586514db4d",
   "metadata": {},
   "outputs": [],
   "source": [
    "# Possible zooming locations\n",
    "grid_lims = (\n",
    "  ((-1.75,1.75),(-1.75,1.75)),\n",
    "  ((-1.5,1.5),(-1.5,1.5)),\n",
    "  ((-1.5,0),(-0.75,0.75)),\n",
    "  ((-1.2,-0.8),(0.0,0.4)),\n",
    "  ((-1.03,-0.99),(0.13,0.17)),\n",
    "  ((-1.009290,-1.009265),(0.147300,0.147325)),\n",
    "  ((-1.0092734515,-1.0092734495), (0.1473217440, 0.1473217460))\n",
    ")"
   ]
  },
  {
   "cell_type": "code",
   "execution_count": null,
   "id": "3b6697e0-6bb4-4cad-a520-7f4755d32fb3",
   "metadata": {},
   "outputs": [],
   "source": [
    "# Choose index only here!\n",
    "gl = grid_lims[0]\n",
    "\n",
    "NR_fractal(P,\n",
    "           N=256, n_steps=50, figsize=(30,30),\n",
    "           grid_lim_x=gl[0], grid_lim_y=gl[1],\n",
    "           axis=False, save=False)"
   ]
  },
  {
   "cell_type": "code",
   "execution_count": null,
   "id": "831bb8a1-adbe-4a03-ac7c-0c8159aec23d",
   "metadata": {},
   "outputs": [],
   "source": [
    "# Choose index only here!\n",
    "gl = grid_lims[-1]\n",
    "\n",
    "NR_fractal(P,\n",
    "           N=1072, n_steps=55, figsize=(30,30),\n",
    "           grid_lim_x=gl[0], grid_lim_y=gl[1],\n",
    "           axis=False, save=False)"
   ]
  },
  {
   "cell_type": "code",
   "execution_count": null,
   "id": "d15832fb-c1a2-4463-9f32-214138a3f104",
   "metadata": {},
   "outputs": [],
   "source": []
  }
 ],
 "metadata": {
  "kernelspec": {
   "display_name": "Python 3 (ipykernel)",
   "language": "python",
   "name": "python3"
  },
  "language_info": {
   "codemirror_mode": {
    "name": "ipython",
    "version": 3
   },
   "file_extension": ".py",
   "mimetype": "text/x-python",
   "name": "python",
   "nbconvert_exporter": "python",
   "pygments_lexer": "ipython3",
   "version": "3.11.0"
  }
 },
 "nbformat": 4,
 "nbformat_minor": 5
}
