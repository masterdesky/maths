{
 "cells": [
  {
   "cell_type": "markdown",
   "id": "fa4a3442-444a-4e0a-b272-4f5d58db154c",
   "metadata": {},
   "source": [
    "# Newton-Raphson fractal animation notebook"
   ]
  },
  {
   "cell_type": "code",
   "execution_count": null,
   "id": "19178895-b769-4ceb-b22d-cc4578642463",
   "metadata": {},
   "outputs": [],
   "source": [
    "import os\n",
    "import sys\n",
    "import numpy as np\n",
    "from tqdm import tqdm\n",
    "from itertools import product\n",
    "from joblib import Parallel, delayed\n",
    "\n",
    "import matplotlib.pyplot as plt\n",
    "\n",
    "from polynomial import Polynomial\n",
    "\n",
    "from newton_engine import get_NR_colors\n",
    "from newton_plots import NR_fractal_mx"
   ]
  },
  {
   "cell_type": "code",
   "execution_count": null,
   "id": "438f6937-29c9-48e9-bd71-4dddafe49a9a",
   "metadata": {},
   "outputs": [],
   "source": [
    "N = 1024\n",
    "n_steps = 50\n",
    "n_frames = 90\n",
    "ffmt = 'png'\n",
    "fdpi = 100  \n",
    "\n",
    "outdir = './out/frames-N{}-ns{}/'.format(N, n_steps)\n",
    "if not os.path.exists(outdir):\n",
    "    os.makedirs(outdir)"
   ]
  },
  {
   "cell_type": "code",
   "execution_count": null,
   "id": "7337d13c-bd79-4c01-87a8-0b17610785ed",
   "metadata": {},
   "outputs": [],
   "source": [
    "# Polynomial to calculate\n",
    "P = Polynomial(c=[1,0,0,1,-1,1])\n",
    "\n",
    "# Predefined limits\n",
    "gl_s = ((-1.5,1.5),(-1.5,1.5))\n",
    "gl_e = ((-1.0092734515,-1.0092734495), (0.1473217440, 0.1473217460))"
   ]
  },
  {
   "cell_type": "code",
   "execution_count": null,
   "id": "954ff1b9-3de8-4674-aa7a-d03e8749a77b",
   "metadata": {},
   "outputs": [],
   "source": [
    "def NR_fractal_get_frames(gl_s, gl_e, n_frames=50):\n",
    "  \n",
    "  v_s = np.array(list(product(*gl_s)))\n",
    "  v_e = np.array(list(product(*gl_e)))\n",
    "\n",
    "  sg = np.sign(v_s - v_e)\n",
    "  f_s = v_s - v_e\n",
    "  f_e = np.zeros_like(v_s) + 1e-15 * sg\n",
    "\n",
    "  v_coords = np.geomspace(f_s, f_e, n_frames) + v_e\n",
    "  \n",
    "  return v_coords\n",
    "\n",
    "def NR_fractal_get_grid_lims(v_coords):\n",
    "  \n",
    "  # Shorten variable names\n",
    "  v1, v2 = v_coords[:,0], v_coords[:,3]\n",
    "  \n",
    "  grid_lims =\\\n",
    "  tuple(\n",
    "    tuple(\n",
    "      ( (xmin, xmax),(ymin, ymax) )\n",
    "    )\n",
    "    for xmin, xmax, ymin, ymax in zip(v1[:,0], v2[:,0], v1[:,1], v2[:,1])\n",
    "  )\n",
    "  \n",
    "  return grid_lims"
   ]
  },
  {
   "cell_type": "code",
   "execution_count": null,
   "id": "c11c3b34-8475-4f96-8f53-556d07b34e0f",
   "metadata": {},
   "outputs": [],
   "source": [
    "def create_frame(i, P,\n",
    "                 N, n_steps, gl,\n",
    "                 outdir, ffmt, fdpi):\n",
    "  X_n, _, _, _= NR_fractal_mx(P,\n",
    "                              N=N, n_steps=n_steps,\n",
    "                              grid_lim_x=gl[0],\n",
    "                              grid_lim_y=gl[1])\n",
    "  X = get_NR_colors(P, X_n).reshape((N, N, 4))\n",
    "\n",
    "  fname = 'nrfractal_anim_frame-{:04d}.'.format(i)\n",
    "  plt.imsave(fname=(outdir + fname + ffmt),\n",
    "             arr=X, vmin=0, vmax=1,\n",
    "             dpi=fdpi)"
   ]
  },
  {
   "cell_type": "code",
   "execution_count": null,
   "id": "f21ea8f8-5118-4549-bbd7-1d95431ae0a0",
   "metadata": {},
   "outputs": [],
   "source": [
    "# Get the extents of the frames\n",
    "v_coords = NR_fractal_get_frames(gl_s, gl_e, n_frames=n_frames)\n",
    "grid_lims = NR_fractal_get_grid_lims(v_coords)\n",
    "#del v_coords"
   ]
  },
  {
   "cell_type": "code",
   "execution_count": null,
   "id": "abf5dd6b-2256-4a77-8c1a-d71db3e1d0c0",
   "metadata": {
    "tags": []
   },
   "outputs": [],
   "source": [
    "%%time\n",
    "_ = Parallel(n_jobs=4)(delayed(create_frame)(i, P,\n",
    "                                             N, n_steps, gl,\n",
    "                                             outdir, ffmt, fdpi) for i, gl in enumerate(tqdm(grid_lims)));"
   ]
  },
  {
   "cell_type": "markdown",
   "id": "9be6a3e6-5d57-4236-ad02-54886a2e57bb",
   "metadata": {},
   "source": [
    "## Append frames"
   ]
  },
  {
   "cell_type": "code",
   "execution_count": null,
   "id": "05360267-bd7c-4274-a6bc-015012bb82e6",
   "metadata": {},
   "outputs": [],
   "source": [
    "import imageio\n",
    "from datetime import datetime"
   ]
  },
  {
   "cell_type": "code",
   "execution_count": null,
   "id": "d53be1f6-e2ba-45df-b733-64e3d2acb22d",
   "metadata": {
    "scrolled": true,
    "tags": []
   },
   "outputs": [],
   "source": [
    "def create_anim(N : int, n_steps : int):\n",
    "  dir_ = 'frames-N{}-ns{}/'.format(N, n_steps)\n",
    "  name = 'NR_fractal-N{}-ns{}'.format(N, n_steps)\n",
    "\n",
    "  path = './out/' + dir_\n",
    "  outdir = './out/' + dir_ + 'anim/'\n",
    "  if not os.path.exists(outdir):\n",
    "    os.makedirs(outdir)\n",
    "\n",
    "  # Gather path to appropriate images to concatenate\n",
    "  print('[{0}] Reading in list of images to concatenate'.format(datetime.now().isoformat()), file=sys.stderr)\n",
    "  file_list = []\n",
    "  for file in os.listdir(path):\n",
    "    if 'nrfractal' in file:\n",
    "      complete_path = path + file\n",
    "      file_list.append(complete_path)\n",
    "  # Sort filenames\n",
    "  file_list.sort(key=lambda x: int(''.join(filter(str.isdigit, x))))\n",
    "\n",
    "  # Define writer and create video\n",
    "  writer = imageio.get_writer(outdir + '{}.mp4'.format(name),\n",
    "                              codec='h264', bitrate='3500k',\n",
    "                              format='mp4', fps=30)\n",
    "\n",
    "  for i, im in enumerate(file_list):\n",
    "    text = '[{0}] Appending image {1}...'.format(datetime.now().isoformat(), i)\n",
    "    print(text, file=sys.stderr)\n",
    "    writer.append_data(imageio.imread(im))\n",
    "  writer.close()"
   ]
  },
  {
   "cell_type": "code",
   "execution_count": null,
   "id": "080cd5e0-7223-4c0e-b6ff-b801fef608d1",
   "metadata": {},
   "outputs": [],
   "source": [
    "create_anim(N=N, n_steps=n_steps)"
   ]
  },
  {
   "cell_type": "code",
   "execution_count": null,
   "id": "bab20347-32d4-45f9-ad43-f42ada901b49",
   "metadata": {},
   "outputs": [],
   "source": []
  },
  {
   "cell_type": "code",
   "execution_count": null,
   "id": "44d8b4f8-677d-4b69-9174-717d9594af72",
   "metadata": {},
   "outputs": [],
   "source": []
  }
 ],
 "metadata": {
  "kernelspec": {
   "display_name": "Python 3 (ipykernel)",
   "language": "python",
   "name": "python3"
  },
  "language_info": {
   "codemirror_mode": {
    "name": "ipython",
    "version": 3
   },
   "file_extension": ".py",
   "mimetype": "text/x-python",
   "name": "python",
   "nbconvert_exporter": "python",
   "pygments_lexer": "ipython3",
   "version": "3.11.0"
  }
 },
 "nbformat": 4,
 "nbformat_minor": 5
}
