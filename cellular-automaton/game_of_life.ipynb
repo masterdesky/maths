{
 "cells": [
  {
   "cell_type": "code",
   "execution_count": null,
   "id": "94dbff4b-f018-4cea-bea2-7291a9be81ea",
   "metadata": {},
   "outputs": [],
   "source": [
    "import os\n",
    "import sys\n",
    "import numpy as np\n",
    "from numba import jit\n",
    "from datetime import datetime\n",
    "\n",
    "import seaborn as sns\n",
    "import matplotlib as mpl\n",
    "import matplotlib.cm as cm\n",
    "import matplotlib.pyplot as plt\n",
    "import matplotlib.animation as animation"
   ]
  },
  {
   "cell_type": "markdown",
   "id": "4035d049-a865-4673-b23b-47bb9688605c",
   "metadata": {},
   "source": [
    "### Just some `matplotlib` and `seaborn` parameter tuning"
   ]
  },
  {
   "cell_type": "code",
   "execution_count": null,
   "id": "b91e0ebb-ac51-42ff-8562-63bd07a69170",
   "metadata": {},
   "outputs": [],
   "source": [
    "axistitlesize = 26\n",
    "axisticksize = 23\n",
    "axislabelsize = 26\n",
    "axislegendsize = 23\n",
    "axistextsize = 20\n",
    "axiscbarfontsize = 15\n",
    "\n",
    "# Set axtick dimensions\n",
    "major_size = 6\n",
    "major_width = 1.2\n",
    "minor_size = 3\n",
    "minor_width = 1\n",
    "mpl.rcParams['xtick.major.size'] = major_size\n",
    "mpl.rcParams['xtick.major.width'] = major_width\n",
    "mpl.rcParams['xtick.minor.size'] = minor_size\n",
    "mpl.rcParams['xtick.minor.width'] = minor_width\n",
    "mpl.rcParams['ytick.major.size'] = major_size\n",
    "mpl.rcParams['ytick.major.width'] = major_width\n",
    "mpl.rcParams['ytick.minor.size'] = minor_size\n",
    "mpl.rcParams['ytick.minor.width'] = minor_width\n",
    "\n",
    "mpl.rcParams.update({'figure.autolayout': False})\n",
    "\n",
    "# Seaborn style settings\n",
    "sns.set_style({'axes.axisbelow': True,\n",
    "               'axes.edgecolor': '.8',\n",
    "               'axes.facecolor': 'white',\n",
    "               'axes.grid': False,\n",
    "               'axes.labelcolor': '.15',\n",
    "               'axes.spines.bottom': True,\n",
    "               'axes.spines.left': True,\n",
    "               'axes.spines.right': True,\n",
    "               'axes.spines.top': True,\n",
    "               'figure.facecolor': 'white',\n",
    "               'font.family': ['sans-serif'],\n",
    "               'font.sans-serif': ['Arial',\n",
    "                'DejaVu Sans',\n",
    "                'Liberation Sans',\n",
    "                'Bitstream Vera Sans',\n",
    "                'sans-serif'],\n",
    "               'grid.color': '.8',\n",
    "               'grid.linestyle': '--',\n",
    "               'image.cmap': 'rocket',\n",
    "               'lines.solid_capstyle': 'round',\n",
    "               'patch.edgecolor': 'w',\n",
    "               'patch.force_edgecolor': True,\n",
    "               'text.color': '.15',\n",
    "               'xtick.bottom': True,\n",
    "               'xtick.color': '.15',\n",
    "               'xtick.direction': 'in',\n",
    "               'xtick.top': True,\n",
    "               'ytick.color': '.15',\n",
    "               'ytick.direction': 'in',\n",
    "               'ytick.left': True,\n",
    "               'ytick.right': True})\n",
    "\n",
    "# Colorpalettes, colormaps, etc.\n",
    "sns.set_palette(palette='rocket')"
   ]
  },
  {
   "cell_type": "markdown",
   "id": "29002fa0-40e2-46b9-a784-d96d532cb3e6",
   "metadata": {
    "tags": []
   },
   "source": [
    "## 1. Create initial conditions"
   ]
  },
  {
   "cell_type": "code",
   "execution_count": null,
   "id": "1aeddb32-f0f4-4330-8cf3-af59ad840040",
   "metadata": {},
   "outputs": [],
   "source": [
    "def create_pool(IC : np.ndarray,\n",
    "                height : int, width : int,\n",
    "                pos_x : int, pos_y: int):\n",
    "  \n",
    "  # The game arena (pool) that will be updated in every iteration\n",
    "  pool = np.zeros((height, width))\n",
    "\n",
    "  # Place IC on the arena to an arbitrary place\n",
    "  pool[pos_y:pos_y++IC.shape[0],pos_x:pos_x+IC.shape[1]] = IC\n",
    "  \n",
    "  return pool"
   ]
  },
  {
   "cell_type": "markdown",
   "id": "c827a074-18e4-451f-987a-d5d526197d81",
   "metadata": {},
   "source": [
    "## 2. Evolve the simulation"
   ]
  },
  {
   "cell_type": "code",
   "execution_count": null,
   "id": "fdad8a54-d974-42db-96ea-800bbe01c4a2",
   "metadata": {},
   "outputs": [],
   "source": [
    "def get_nonzero(pool : np.ndarray):\n",
    "  \n",
    "  # Coordinates of non-zero tiles\n",
    "  # We only need to iterate over non-zero tiles and their immediate surrounding\n",
    "  ## 1. Create a coordinate grid\n",
    "  X, Y = np.meshgrid(np.arange(0,pool.shape[0],1), np.arange(0,pool.shape[1],1))\n",
    "  ## 2. Mask out non-zero tiles and identify their coordinates\n",
    "  mask = pool==1\n",
    "  nonzero = np.c_[X[mask], Y[mask]]\n",
    "  \n",
    "  return nonzero"
   ]
  },
  {
   "cell_type": "code",
   "execution_count": null,
   "id": "9e149ea4-b8e2-4c67-aac5-c1863a45bf0a",
   "metadata": {},
   "outputs": [],
   "source": [
    "def get_neighbour_grid(pool : np.ndarray,\n",
    "                       x : int, y : int):\n",
    "  \n",
    "  # Nice solution on StackOverflow:\n",
    "  # https://stackoverflow.com/questions/15113181/slicing-numpy-array-in-periodic-conditions\n",
    "  sl_0 = np.array(range(x-1,x+2)).reshape(-1,1)%pool.shape[0]\n",
    "  sl_1 = np.array(range(y-1,y+2)).reshape(1,-1)%pool.shape[1]\n",
    "  \n",
    "  # Get a periodic gridmesh\n",
    "  X, Y = np.meshgrid(sl_0, sl_1)\n",
    "  \n",
    "  return X, Y"
   ]
  },
  {
   "cell_type": "code",
   "execution_count": null,
   "id": "1b1c40b3-14c0-48d9-81cc-a4441ecaa99f",
   "metadata": {
    "tags": []
   },
   "outputs": [],
   "source": [
    "def get_neighbour_coordinates(pool : np.ndarray,\n",
    "                              x : int, y : int,\n",
    "                              periodic : bool):\n",
    "  \n",
    "  X, Y = get_neighbour_grid(pool, x, y)\n",
    "  \n",
    "  if not periodic:\n",
    "    # If the central tile is situated on one of the edges, delete the values of\n",
    "    # the `X` and 'Y' arrays on that side\n",
    "    if x == 0: # Left-side wall\n",
    "      X = np.delete(X, 0, axis=1)\n",
    "      Y = np.delete(Y, 0, axis=1)\n",
    "    elif x == width-1: # Right-side wall\n",
    "      X = np.delete(X, -1, axis=1)\n",
    "      Y = np.delete(Y, -1, axis=1)\n",
    "    if y == 0: # Upper wall\n",
    "      X = np.delete(X, 0, axis=0)\n",
    "      Y = np.delete(Y, 0, axis=0)\n",
    "    elif y == height-1: # Bottom wall\n",
    "      X = np.delete(X, -1, axis=0)\n",
    "      Y = np.delete(Y, -1, axis=0)\n",
    "  else:\n",
    "    pass\n",
    "  \n",
    "  return X, Y"
   ]
  },
  {
   "cell_type": "code",
   "execution_count": null,
   "id": "eb94e366-e31a-4a1d-b7be-5f32f26afbff",
   "metadata": {
    "tags": []
   },
   "outputs": [],
   "source": [
    "def get_neighbour_values(pool : np.ndarray,\n",
    "                         X : np.ndarray, Y : np.ndarray):\n",
    "\n",
    "  nbrs = pool[X.T, Y.T]\n",
    "\n",
    "  return nbrs"
   ]
  },
  {
   "cell_type": "code",
   "execution_count": null,
   "id": "384aadd8-b08d-4db5-8b6f-6c17e0e2ce1a",
   "metadata": {},
   "outputs": [],
   "source": [
    "@jit(nopython=True)\n",
    "def decide_flip(pool : np.ndarray,\n",
    "                x : int, y : int,\n",
    "                nbrs : np.ndarray,\n",
    "                n_max : int,\n",
    "                periodic : bool):\n",
    "\n",
    "  # Count the number of neighbours around the current tile at (x,y)\n",
    "  n_nbrs = int(nbrs.sum())\n",
    "  \n",
    "  if pool[x,y] == 1:\n",
    "    if (n_nbrs - 1 == n_max) or (n_nbrs - 1 == n_max - 1):\n",
    "      return False\n",
    "  if pool[x,y] == 0:\n",
    "    if n_nbrs != n_max:\n",
    "      return False\n",
    "\n",
    "  return True"
   ]
  },
  {
   "cell_type": "code",
   "execution_count": null,
   "id": "d8bd9550-9a1b-4237-8f85-06d9353d914e",
   "metadata": {},
   "outputs": [],
   "source": [
    "def flip(pool : np.ndarray,\n",
    "         n_max : int,\n",
    "         periodic : bool):\n",
    "  \n",
    "  nonzero = get_nonzero(pool)\n",
    "  checked_tiles = set()\n",
    "  flipped_tiles = set()\n",
    "  \n",
    "  # We only need to check that any of the intersting tiles flipped states or not\n",
    "  for x, y in nonzero:\n",
    "    X, Y = get_neighbour_coordinates(pool, x, y, periodic)\n",
    "    iter_through = set(tuple(i) for i in np.c_[Y.reshape(-1), X.reshape(-1)])\n",
    "    iter_through -= checked_tiles\n",
    "    for i in iter_through: checked_tiles.add(i)\n",
    "    \n",
    "    for xi, yi in iter_through:\n",
    "      Xi, Yi = get_neighbour_coordinates(pool, xi, yi, periodic)\n",
    "      nbrs = get_neighbour_values(pool, Xi, Yi)\n",
    "      flip = decide_flip(pool, xi, yi, nbrs, n_max, periodic)\n",
    "    \n",
    "      if flip:\n",
    "        flipped_tiles.add((xi,yi))\n",
    "        \n",
    "  return flipped_tiles"
   ]
  },
  {
   "cell_type": "code",
   "execution_count": null,
   "id": "f95a26fa-7e61-469f-af2d-7132e285a18d",
   "metadata": {},
   "outputs": [],
   "source": [
    "def step(pool : np.ndarray,\n",
    "         flipped_tiles : set):\n",
    "  \n",
    "  new_pool = pool.copy()\n",
    "  for x,y in flipped_tiles:\n",
    "    new_pool[x,y] = 1 - pool[x,y]\n",
    "    \n",
    "  return new_pool"
   ]
  },
  {
   "cell_type": "code",
   "execution_count": null,
   "id": "8eb97d9c-c99d-455a-ae03-7f5cbaa6575e",
   "metadata": {},
   "outputs": [],
   "source": [
    "def run(pool : np.ndarray,\n",
    "        n_max : int=3,\n",
    "        periodic : bool=True,\n",
    "        n_steps : int=180):\n",
    "\n",
    "  old_pool = pool.copy()\n",
    "  for i in range(n_steps):\n",
    "    flipped_tiles = flip(old_pool, n_max, periodic)\n",
    "    old_pool = step(old_pool, flipped_tiles)\n",
    "    \n",
    "  return old_pool"
   ]
  },
  {
   "cell_type": "markdown",
   "id": "eb19e94e-0b22-4cf9-9add-4f283298f1ef",
   "metadata": {
    "tags": []
   },
   "source": [
    "## Simulation parameters"
   ]
  },
  {
   "cell_type": "code",
   "execution_count": null,
   "id": "7b82a729-a7f5-4af5-8607-08d2ee0d6835",
   "metadata": {},
   "outputs": [],
   "source": [
    "# Parameters for game arena (pool)\n",
    "## 1. Size of the arena\n",
    "height = 80\n",
    "width = 80\n",
    "## 2. Whether to have periodic boundary conditions or not\n",
    "periodic = True\n",
    "## 3. Rule for evolution\n",
    "n_max = 3\n",
    "\n",
    "# Parameters for the initial condition\n",
    "## 1. Coordinates of the upper left corner of the initial condition\n",
    "pos_x = 5\n",
    "pos_y = 5"
   ]
  },
  {
   "cell_type": "code",
   "execution_count": null,
   "id": "1e03b125-7803-4be7-b27e-f8781f15e1d7",
   "metadata": {},
   "outputs": [],
   "source": [
    "# Initial conditions\n",
    "IC = np.array([\n",
    "  [0,0,0,0,0,0,0,0,0,0,0,0,0,0,0,0,0,0,0,0,0,0,0,0,1,0,0,0,0,0,0,0,0,0,0,0],\n",
    "  [0,0,0,0,0,0,0,0,0,0,0,0,0,0,0,0,0,0,0,0,0,0,1,0,1,0,0,0,0,0,0,0,0,0,0,0],\n",
    "  [0,0,0,0,0,0,0,0,0,0,0,0,1,1,0,0,0,0,0,0,1,1,0,0,0,0,0,0,0,0,0,0,0,0,1,1],\n",
    "  [0,0,0,0,0,0,0,0,0,0,0,1,0,0,0,1,0,0,0,0,1,1,0,0,0,0,0,0,0,0,0,0,0,0,1,1],\n",
    "  [1,1,0,0,0,0,0,0,0,0,1,0,0,0,0,0,1,0,0,0,1,1,0,0,0,0,0,0,0,0,0,0,0,0,0,0],\n",
    "  [1,1,0,0,0,0,0,0,0,0,1,0,0,0,1,0,1,1,0,0,0,0,1,0,1,0,0,0,0,0,0,0,0,0,0,0],\n",
    "  [0,0,0,0,0,0,0,0,0,0,1,0,0,0,0,0,1,0,0,0,0,0,0,0,1,0,0,0,0,0,0,0,0,0,0,0],\n",
    "  [0,0,0,0,0,0,0,0,0,0,0,1,0,0,0,1,0,0,0,0,0,0,0,0,0,0,0,0,0,0,0,0,0,0,0,0],\n",
    "  [0,0,0,0,0,0,0,0,0,0,0,0,1,1,0,0,0,0,0,0,0,0,0,0,0,0,0,0,0,0,0,0,0,0,0,0]\n",
    "])"
   ]
  },
  {
   "cell_type": "code",
   "execution_count": null,
   "id": "c6d0e5ee-6ebd-44e9-b64f-ca9974281a5f",
   "metadata": {},
   "outputs": [],
   "source": [
    "pool = create_pool(IC, height, width, pos_x, pos_y)"
   ]
  },
  {
   "cell_type": "code",
   "execution_count": null,
   "id": "f50d790c-adc9-445b-ae37-c7c12fa6ed92",
   "metadata": {},
   "outputs": [],
   "source": [
    "%%time\n",
    "sec = 25\n",
    "final = run(pool, n_max, periodic=True, n_steps=sec*12)"
   ]
  },
  {
   "cell_type": "code",
   "execution_count": null,
   "id": "1089c46c-07d8-4507-ac82-e8833fdbc8db",
   "metadata": {},
   "outputs": [],
   "source": [
    "plt.imshow(pool, interpolation='none')"
   ]
  },
  {
   "cell_type": "code",
   "execution_count": null,
   "id": "a4303e7a-5211-4343-8b85-f6b8b44dd1a3",
   "metadata": {},
   "outputs": [],
   "source": [
    "plt.imshow(final, interpolation='none')"
   ]
  },
  {
   "cell_type": "code",
   "execution_count": null,
   "id": "738231ed-24b6-4c23-88e1-59636cf0fe36",
   "metadata": {},
   "outputs": [],
   "source": []
  }
 ],
 "metadata": {
  "kernelspec": {
   "display_name": "Python 3 (ipykernel)",
   "language": "python",
   "name": "python3"
  },
  "language_info": {
   "codemirror_mode": {
    "name": "ipython",
    "version": 3
   },
   "file_extension": ".py",
   "mimetype": "text/x-python",
   "name": "python",
   "nbconvert_exporter": "python",
   "pygments_lexer": "ipython3",
   "version": "3.11.0"
  }
 },
 "nbformat": 4,
 "nbformat_minor": 5
}
